{
 "cells": [
  {
   "cell_type": "code",
   "execution_count": 2,
   "metadata": {},
   "outputs": [],
   "source": [
    "import pandas as pd\n",
    "from sklearn.ensemble import RandomForestClassifier, VotingClassifier\n",
    "from sklearn.naive_bayes import GaussianNB, BernoulliNB\n",
    "from sklearn.linear_model import LogisticRegression\n",
    "from sklearn.ensemble import AdaBoostClassifier\n",
    "from sklearn.tree import DecisionTreeClassifier\n",
    "from sklearn.metrics import f1_score\n",
    "from sklearn.feature_selection import SelectKBest\n",
    "from sklearn.model_selection import GridSearchCV\n",
    "from sklearn.neighbors import KNeighborsClassifier\n",
    "from sklearn.metrics import classification_report\n",
    "from sklearn.ensemble import StackingClassifier\n",
    "from sklearn.metrics import classification_report\n",
    "from sklearn.svm import SVC\n",
    "import numpy as np\n",
    "\n",
    "import warnings\n",
    "warnings.filterwarnings('ignore')"
   ]
  },
  {
   "cell_type": "markdown",
   "metadata": {},
   "source": [
    "# 0. Notebook description\n",
    "In the previous notebook, we trained simple models on our dataset. We used f1 macro as our scoring metric, to account for the unbalanced class ratio in our multiclass problem (patients who returned to hospital within 30 days of a hospital encounter were far less frequent than patients who returned after 30 days, or not at all). The simple models with optimal hyperparameters only performed marginally better than a baseline estimator trained on one feature.\n",
    " \n",
    "In this notebook, we create 3 ensemble models, perform hyperparameter tuning for each, and evaluate their performance on the validation set. \n",
    "- Voting classifier (we select the simple models with the best-performing hyperparameters from the previous notebook to use in a voting classifier)\n",
    "- Adaboost classifier\n",
    "- Random forest classifier"
   ]
  },
  {
   "cell_type": "markdown",
   "metadata": {},
   "source": [
    "# 1. Load training and validation set"
   ]
  },
  {
   "cell_type": "code",
   "execution_count": 3,
   "metadata": {},
   "outputs": [
    {
     "data": {
      "text/html": [
       "<div>\n",
       "<style scoped>\n",
       "    .dataframe tbody tr th:only-of-type {\n",
       "        vertical-align: middle;\n",
       "    }\n",
       "\n",
       "    .dataframe tbody tr th {\n",
       "        vertical-align: top;\n",
       "    }\n",
       "\n",
       "    .dataframe thead th {\n",
       "        text-align: right;\n",
       "    }\n",
       "</style>\n",
       "<table border=\"1\" class=\"dataframe\">\n",
       "  <thead>\n",
       "    <tr style=\"text-align: right;\">\n",
       "      <th></th>\n",
       "      <th>most_frequent__race_AfricanAmerican</th>\n",
       "      <th>most_frequent__race_Asian</th>\n",
       "      <th>most_frequent__race_Caucasian</th>\n",
       "      <th>most_frequent__race_Hispanic</th>\n",
       "      <th>most_frequent__race_Other</th>\n",
       "      <th>none__payer_code_BC</th>\n",
       "      <th>none__payer_code_CH</th>\n",
       "      <th>none__payer_code_CM</th>\n",
       "      <th>none__payer_code_CP</th>\n",
       "      <th>none__payer_code_DM</th>\n",
       "      <th>...</th>\n",
       "      <th>numerical_values__time_in_hospital</th>\n",
       "      <th>numerical_values__num_lab_procedures</th>\n",
       "      <th>numerical_values__num_procedures</th>\n",
       "      <th>numerical_values__num_medications</th>\n",
       "      <th>numerical_values__number_outpatient</th>\n",
       "      <th>numerical_values__number_emergency</th>\n",
       "      <th>numerical_values__number_inpatient</th>\n",
       "      <th>numerical_values__number_diagnoses</th>\n",
       "      <th>index</th>\n",
       "      <th>readmitted</th>\n",
       "    </tr>\n",
       "  </thead>\n",
       "  <tbody>\n",
       "    <tr>\n",
       "      <th>0</th>\n",
       "      <td>0.0</td>\n",
       "      <td>0.0</td>\n",
       "      <td>1.0</td>\n",
       "      <td>0.0</td>\n",
       "      <td>0.0</td>\n",
       "      <td>0.0</td>\n",
       "      <td>0.0</td>\n",
       "      <td>0.0</td>\n",
       "      <td>0.0</td>\n",
       "      <td>0.0</td>\n",
       "      <td>...</td>\n",
       "      <td>-0.800245</td>\n",
       "      <td>-0.250665</td>\n",
       "      <td>1.573791</td>\n",
       "      <td>-0.614414</td>\n",
       "      <td>-0.295480</td>\n",
       "      <td>-0.204066</td>\n",
       "      <td>-0.504822</td>\n",
       "      <td>0.823550</td>\n",
       "      <td>15256</td>\n",
       "      <td>NO</td>\n",
       "    </tr>\n",
       "    <tr>\n",
       "      <th>1</th>\n",
       "      <td>0.0</td>\n",
       "      <td>0.0</td>\n",
       "      <td>1.0</td>\n",
       "      <td>0.0</td>\n",
       "      <td>0.0</td>\n",
       "      <td>0.0</td>\n",
       "      <td>0.0</td>\n",
       "      <td>0.0</td>\n",
       "      <td>0.0</td>\n",
       "      <td>0.0</td>\n",
       "      <td>...</td>\n",
       "      <td>0.884843</td>\n",
       "      <td>1.178358</td>\n",
       "      <td>-0.781626</td>\n",
       "      <td>0.506926</td>\n",
       "      <td>-0.295480</td>\n",
       "      <td>-0.204066</td>\n",
       "      <td>1.906044</td>\n",
       "      <td>0.823550</td>\n",
       "      <td>1354</td>\n",
       "      <td>NO</td>\n",
       "    </tr>\n",
       "    <tr>\n",
       "      <th>2</th>\n",
       "      <td>0.0</td>\n",
       "      <td>0.0</td>\n",
       "      <td>1.0</td>\n",
       "      <td>0.0</td>\n",
       "      <td>0.0</td>\n",
       "      <td>0.0</td>\n",
       "      <td>0.0</td>\n",
       "      <td>1.0</td>\n",
       "      <td>0.0</td>\n",
       "      <td>0.0</td>\n",
       "      <td>...</td>\n",
       "      <td>1.558878</td>\n",
       "      <td>0.974212</td>\n",
       "      <td>0.984937</td>\n",
       "      <td>-0.988194</td>\n",
       "      <td>-0.295480</td>\n",
       "      <td>-0.204066</td>\n",
       "      <td>-0.504822</td>\n",
       "      <td>0.823550</td>\n",
       "      <td>50947</td>\n",
       "      <td>&lt;30</td>\n",
       "    </tr>\n",
       "    <tr>\n",
       "      <th>3</th>\n",
       "      <td>0.0</td>\n",
       "      <td>0.0</td>\n",
       "      <td>1.0</td>\n",
       "      <td>0.0</td>\n",
       "      <td>0.0</td>\n",
       "      <td>0.0</td>\n",
       "      <td>0.0</td>\n",
       "      <td>0.0</td>\n",
       "      <td>0.0</td>\n",
       "      <td>0.0</td>\n",
       "      <td>...</td>\n",
       "      <td>-0.463228</td>\n",
       "      <td>-1.526577</td>\n",
       "      <td>0.396083</td>\n",
       "      <td>1.379079</td>\n",
       "      <td>-0.295480</td>\n",
       "      <td>-0.204066</td>\n",
       "      <td>-0.504822</td>\n",
       "      <td>0.823550</td>\n",
       "      <td>81212</td>\n",
       "      <td>&gt;30</td>\n",
       "    </tr>\n",
       "    <tr>\n",
       "      <th>4</th>\n",
       "      <td>0.0</td>\n",
       "      <td>0.0</td>\n",
       "      <td>1.0</td>\n",
       "      <td>0.0</td>\n",
       "      <td>0.0</td>\n",
       "      <td>0.0</td>\n",
       "      <td>0.0</td>\n",
       "      <td>0.0</td>\n",
       "      <td>0.0</td>\n",
       "      <td>0.0</td>\n",
       "      <td>...</td>\n",
       "      <td>-1.137263</td>\n",
       "      <td>-0.301701</td>\n",
       "      <td>-0.781626</td>\n",
       "      <td>-1.112788</td>\n",
       "      <td>0.513414</td>\n",
       "      <td>-0.204066</td>\n",
       "      <td>-0.504822</td>\n",
       "      <td>-1.237903</td>\n",
       "      <td>39135</td>\n",
       "      <td>NO</td>\n",
       "    </tr>\n",
       "    <tr>\n",
       "      <th>...</th>\n",
       "      <td>...</td>\n",
       "      <td>...</td>\n",
       "      <td>...</td>\n",
       "      <td>...</td>\n",
       "      <td>...</td>\n",
       "      <td>...</td>\n",
       "      <td>...</td>\n",
       "      <td>...</td>\n",
       "      <td>...</td>\n",
       "      <td>...</td>\n",
       "      <td>...</td>\n",
       "      <td>...</td>\n",
       "      <td>...</td>\n",
       "      <td>...</td>\n",
       "      <td>...</td>\n",
       "      <td>...</td>\n",
       "      <td>...</td>\n",
       "      <td>...</td>\n",
       "      <td>...</td>\n",
       "      <td>...</td>\n",
       "      <td>...</td>\n",
       "    </tr>\n",
       "    <tr>\n",
       "      <th>63572</th>\n",
       "      <td>1.0</td>\n",
       "      <td>0.0</td>\n",
       "      <td>0.0</td>\n",
       "      <td>0.0</td>\n",
       "      <td>0.0</td>\n",
       "      <td>0.0</td>\n",
       "      <td>0.0</td>\n",
       "      <td>0.0</td>\n",
       "      <td>0.0</td>\n",
       "      <td>0.0</td>\n",
       "      <td>...</td>\n",
       "      <td>2.232914</td>\n",
       "      <td>0.157627</td>\n",
       "      <td>-0.781626</td>\n",
       "      <td>-0.365228</td>\n",
       "      <td>-0.295480</td>\n",
       "      <td>-0.204066</td>\n",
       "      <td>-0.504822</td>\n",
       "      <td>-1.237903</td>\n",
       "      <td>23828</td>\n",
       "      <td>&gt;30</td>\n",
       "    </tr>\n",
       "    <tr>\n",
       "      <th>63573</th>\n",
       "      <td>0.0</td>\n",
       "      <td>0.0</td>\n",
       "      <td>1.0</td>\n",
       "      <td>0.0</td>\n",
       "      <td>0.0</td>\n",
       "      <td>0.0</td>\n",
       "      <td>0.0</td>\n",
       "      <td>0.0</td>\n",
       "      <td>0.0</td>\n",
       "      <td>0.0</td>\n",
       "      <td>...</td>\n",
       "      <td>-0.463228</td>\n",
       "      <td>-0.403774</td>\n",
       "      <td>-0.781626</td>\n",
       "      <td>-0.489821</td>\n",
       "      <td>-0.295480</td>\n",
       "      <td>-0.204066</td>\n",
       "      <td>-0.504822</td>\n",
       "      <td>-0.207176</td>\n",
       "      <td>39819</td>\n",
       "      <td>&gt;30</td>\n",
       "    </tr>\n",
       "    <tr>\n",
       "      <th>63574</th>\n",
       "      <td>0.0</td>\n",
       "      <td>0.0</td>\n",
       "      <td>0.0</td>\n",
       "      <td>0.0</td>\n",
       "      <td>1.0</td>\n",
       "      <td>0.0</td>\n",
       "      <td>0.0</td>\n",
       "      <td>0.0</td>\n",
       "      <td>0.0</td>\n",
       "      <td>0.0</td>\n",
       "      <td>...</td>\n",
       "      <td>2.569931</td>\n",
       "      <td>1.535613</td>\n",
       "      <td>0.984937</td>\n",
       "      <td>1.628266</td>\n",
       "      <td>-0.295480</td>\n",
       "      <td>-0.204066</td>\n",
       "      <td>-0.504822</td>\n",
       "      <td>0.823550</td>\n",
       "      <td>21066</td>\n",
       "      <td>NO</td>\n",
       "    </tr>\n",
       "    <tr>\n",
       "      <th>63575</th>\n",
       "      <td>0.0</td>\n",
       "      <td>0.0</td>\n",
       "      <td>1.0</td>\n",
       "      <td>0.0</td>\n",
       "      <td>0.0</td>\n",
       "      <td>0.0</td>\n",
       "      <td>0.0</td>\n",
       "      <td>0.0</td>\n",
       "      <td>0.0</td>\n",
       "      <td>0.0</td>\n",
       "      <td>...</td>\n",
       "      <td>-0.800245</td>\n",
       "      <td>1.331467</td>\n",
       "      <td>-0.781626</td>\n",
       "      <td>-0.116041</td>\n",
       "      <td>-0.295480</td>\n",
       "      <td>-0.204066</td>\n",
       "      <td>-0.504822</td>\n",
       "      <td>-0.722540</td>\n",
       "      <td>89048</td>\n",
       "      <td>NO</td>\n",
       "    </tr>\n",
       "    <tr>\n",
       "      <th>63576</th>\n",
       "      <td>1.0</td>\n",
       "      <td>0.0</td>\n",
       "      <td>0.0</td>\n",
       "      <td>0.0</td>\n",
       "      <td>0.0</td>\n",
       "      <td>0.0</td>\n",
       "      <td>0.0</td>\n",
       "      <td>0.0</td>\n",
       "      <td>0.0</td>\n",
       "      <td>0.0</td>\n",
       "      <td>...</td>\n",
       "      <td>0.547825</td>\n",
       "      <td>-0.761030</td>\n",
       "      <td>-0.781626</td>\n",
       "      <td>0.008552</td>\n",
       "      <td>-0.295480</td>\n",
       "      <td>0.824058</td>\n",
       "      <td>1.102422</td>\n",
       "      <td>0.823550</td>\n",
       "      <td>46176</td>\n",
       "      <td>&gt;30</td>\n",
       "    </tr>\n",
       "  </tbody>\n",
       "</table>\n",
       "<p>63577 rows × 2264 columns</p>\n",
       "</div>"
      ],
      "text/plain": [
       "       most_frequent__race_AfricanAmerican  most_frequent__race_Asian  \\\n",
       "0                                      0.0                        0.0   \n",
       "1                                      0.0                        0.0   \n",
       "2                                      0.0                        0.0   \n",
       "3                                      0.0                        0.0   \n",
       "4                                      0.0                        0.0   \n",
       "...                                    ...                        ...   \n",
       "63572                                  1.0                        0.0   \n",
       "63573                                  0.0                        0.0   \n",
       "63574                                  0.0                        0.0   \n",
       "63575                                  0.0                        0.0   \n",
       "63576                                  1.0                        0.0   \n",
       "\n",
       "       most_frequent__race_Caucasian  most_frequent__race_Hispanic  \\\n",
       "0                                1.0                           0.0   \n",
       "1                                1.0                           0.0   \n",
       "2                                1.0                           0.0   \n",
       "3                                1.0                           0.0   \n",
       "4                                1.0                           0.0   \n",
       "...                              ...                           ...   \n",
       "63572                            0.0                           0.0   \n",
       "63573                            1.0                           0.0   \n",
       "63574                            0.0                           0.0   \n",
       "63575                            1.0                           0.0   \n",
       "63576                            0.0                           0.0   \n",
       "\n",
       "       most_frequent__race_Other  none__payer_code_BC  none__payer_code_CH  \\\n",
       "0                            0.0                  0.0                  0.0   \n",
       "1                            0.0                  0.0                  0.0   \n",
       "2                            0.0                  0.0                  0.0   \n",
       "3                            0.0                  0.0                  0.0   \n",
       "4                            0.0                  0.0                  0.0   \n",
       "...                          ...                  ...                  ...   \n",
       "63572                        0.0                  0.0                  0.0   \n",
       "63573                        0.0                  0.0                  0.0   \n",
       "63574                        1.0                  0.0                  0.0   \n",
       "63575                        0.0                  0.0                  0.0   \n",
       "63576                        0.0                  0.0                  0.0   \n",
       "\n",
       "       none__payer_code_CM  none__payer_code_CP  none__payer_code_DM  ...  \\\n",
       "0                      0.0                  0.0                  0.0  ...   \n",
       "1                      0.0                  0.0                  0.0  ...   \n",
       "2                      1.0                  0.0                  0.0  ...   \n",
       "3                      0.0                  0.0                  0.0  ...   \n",
       "4                      0.0                  0.0                  0.0  ...   \n",
       "...                    ...                  ...                  ...  ...   \n",
       "63572                  0.0                  0.0                  0.0  ...   \n",
       "63573                  0.0                  0.0                  0.0  ...   \n",
       "63574                  0.0                  0.0                  0.0  ...   \n",
       "63575                  0.0                  0.0                  0.0  ...   \n",
       "63576                  0.0                  0.0                  0.0  ...   \n",
       "\n",
       "       numerical_values__time_in_hospital  \\\n",
       "0                               -0.800245   \n",
       "1                                0.884843   \n",
       "2                                1.558878   \n",
       "3                               -0.463228   \n",
       "4                               -1.137263   \n",
       "...                                   ...   \n",
       "63572                            2.232914   \n",
       "63573                           -0.463228   \n",
       "63574                            2.569931   \n",
       "63575                           -0.800245   \n",
       "63576                            0.547825   \n",
       "\n",
       "       numerical_values__num_lab_procedures  numerical_values__num_procedures  \\\n",
       "0                                 -0.250665                          1.573791   \n",
       "1                                  1.178358                         -0.781626   \n",
       "2                                  0.974212                          0.984937   \n",
       "3                                 -1.526577                          0.396083   \n",
       "4                                 -0.301701                         -0.781626   \n",
       "...                                     ...                               ...   \n",
       "63572                              0.157627                         -0.781626   \n",
       "63573                             -0.403774                         -0.781626   \n",
       "63574                              1.535613                          0.984937   \n",
       "63575                              1.331467                         -0.781626   \n",
       "63576                             -0.761030                         -0.781626   \n",
       "\n",
       "       numerical_values__num_medications  numerical_values__number_outpatient  \\\n",
       "0                              -0.614414                            -0.295480   \n",
       "1                               0.506926                            -0.295480   \n",
       "2                              -0.988194                            -0.295480   \n",
       "3                               1.379079                            -0.295480   \n",
       "4                              -1.112788                             0.513414   \n",
       "...                                  ...                                  ...   \n",
       "63572                          -0.365228                            -0.295480   \n",
       "63573                          -0.489821                            -0.295480   \n",
       "63574                           1.628266                            -0.295480   \n",
       "63575                          -0.116041                            -0.295480   \n",
       "63576                           0.008552                            -0.295480   \n",
       "\n",
       "       numerical_values__number_emergency  numerical_values__number_inpatient  \\\n",
       "0                               -0.204066                           -0.504822   \n",
       "1                               -0.204066                            1.906044   \n",
       "2                               -0.204066                           -0.504822   \n",
       "3                               -0.204066                           -0.504822   \n",
       "4                               -0.204066                           -0.504822   \n",
       "...                                   ...                                 ...   \n",
       "63572                           -0.204066                           -0.504822   \n",
       "63573                           -0.204066                           -0.504822   \n",
       "63574                           -0.204066                           -0.504822   \n",
       "63575                           -0.204066                           -0.504822   \n",
       "63576                            0.824058                            1.102422   \n",
       "\n",
       "       numerical_values__number_diagnoses  index  readmitted  \n",
       "0                                0.823550  15256          NO  \n",
       "1                                0.823550   1354          NO  \n",
       "2                                0.823550  50947         <30  \n",
       "3                                0.823550  81212         >30  \n",
       "4                               -1.237903  39135          NO  \n",
       "...                                   ...    ...         ...  \n",
       "63572                           -1.237903  23828         >30  \n",
       "63573                           -0.207176  39819         >30  \n",
       "63574                            0.823550  21066          NO  \n",
       "63575                           -0.722540  89048          NO  \n",
       "63576                            0.823550  46176         >30  \n",
       "\n",
       "[63577 rows x 2264 columns]"
      ]
     },
     "execution_count": 3,
     "metadata": {},
     "output_type": "execute_result"
    }
   ],
   "source": [
    "train = pd.read_csv(\"train_set.csv\")\n",
    "train"
   ]
  },
  {
   "cell_type": "code",
   "execution_count": 4,
   "metadata": {},
   "outputs": [
    {
     "data": {
      "text/html": [
       "<div>\n",
       "<style scoped>\n",
       "    .dataframe tbody tr th:only-of-type {\n",
       "        vertical-align: middle;\n",
       "    }\n",
       "\n",
       "    .dataframe tbody tr th {\n",
       "        vertical-align: top;\n",
       "    }\n",
       "\n",
       "    .dataframe thead th {\n",
       "        text-align: right;\n",
       "    }\n",
       "</style>\n",
       "<table border=\"1\" class=\"dataframe\">\n",
       "  <thead>\n",
       "    <tr style=\"text-align: right;\">\n",
       "      <th></th>\n",
       "      <th>most_frequent__race_AfricanAmerican</th>\n",
       "      <th>most_frequent__race_Asian</th>\n",
       "      <th>most_frequent__race_Caucasian</th>\n",
       "      <th>most_frequent__race_Hispanic</th>\n",
       "      <th>most_frequent__race_Other</th>\n",
       "      <th>none__payer_code_BC</th>\n",
       "      <th>none__payer_code_CH</th>\n",
       "      <th>none__payer_code_CM</th>\n",
       "      <th>none__payer_code_CP</th>\n",
       "      <th>none__payer_code_DM</th>\n",
       "      <th>...</th>\n",
       "      <th>numerical_values__time_in_hospital</th>\n",
       "      <th>numerical_values__num_lab_procedures</th>\n",
       "      <th>numerical_values__num_procedures</th>\n",
       "      <th>numerical_values__num_medications</th>\n",
       "      <th>numerical_values__number_outpatient</th>\n",
       "      <th>numerical_values__number_emergency</th>\n",
       "      <th>numerical_values__number_inpatient</th>\n",
       "      <th>numerical_values__number_diagnoses</th>\n",
       "      <th>index</th>\n",
       "      <th>readmitted</th>\n",
       "    </tr>\n",
       "  </thead>\n",
       "  <tbody>\n",
       "    <tr>\n",
       "      <th>0</th>\n",
       "      <td>0.0</td>\n",
       "      <td>0.0</td>\n",
       "      <td>1.0</td>\n",
       "      <td>0.0</td>\n",
       "      <td>0.0</td>\n",
       "      <td>0.0</td>\n",
       "      <td>0.0</td>\n",
       "      <td>0.0</td>\n",
       "      <td>0.0</td>\n",
       "      <td>0.0</td>\n",
       "      <td>...</td>\n",
       "      <td>-0.463228</td>\n",
       "      <td>-0.505847</td>\n",
       "      <td>-0.781626</td>\n",
       "      <td>-0.988194</td>\n",
       "      <td>-0.295480</td>\n",
       "      <td>-0.204066</td>\n",
       "      <td>-0.504822</td>\n",
       "      <td>0.823550</td>\n",
       "      <td>66543</td>\n",
       "      <td>&lt;30</td>\n",
       "    </tr>\n",
       "    <tr>\n",
       "      <th>1</th>\n",
       "      <td>0.0</td>\n",
       "      <td>0.0</td>\n",
       "      <td>1.0</td>\n",
       "      <td>0.0</td>\n",
       "      <td>0.0</td>\n",
       "      <td>0.0</td>\n",
       "      <td>0.0</td>\n",
       "      <td>0.0</td>\n",
       "      <td>0.0</td>\n",
       "      <td>0.0</td>\n",
       "      <td>...</td>\n",
       "      <td>-0.463228</td>\n",
       "      <td>0.004518</td>\n",
       "      <td>-0.781626</td>\n",
       "      <td>-0.863601</td>\n",
       "      <td>-0.295480</td>\n",
       "      <td>-0.204066</td>\n",
       "      <td>0.298800</td>\n",
       "      <td>-0.722540</td>\n",
       "      <td>13478</td>\n",
       "      <td>NO</td>\n",
       "    </tr>\n",
       "    <tr>\n",
       "      <th>2</th>\n",
       "      <td>0.0</td>\n",
       "      <td>0.0</td>\n",
       "      <td>0.0</td>\n",
       "      <td>1.0</td>\n",
       "      <td>0.0</td>\n",
       "      <td>1.0</td>\n",
       "      <td>0.0</td>\n",
       "      <td>0.0</td>\n",
       "      <td>0.0</td>\n",
       "      <td>0.0</td>\n",
       "      <td>...</td>\n",
       "      <td>-1.137263</td>\n",
       "      <td>-0.505847</td>\n",
       "      <td>-0.781626</td>\n",
       "      <td>-1.860348</td>\n",
       "      <td>2.131202</td>\n",
       "      <td>0.824058</td>\n",
       "      <td>-0.504822</td>\n",
       "      <td>-0.722540</td>\n",
       "      <td>98787</td>\n",
       "      <td>NO</td>\n",
       "    </tr>\n",
       "    <tr>\n",
       "      <th>3</th>\n",
       "      <td>0.0</td>\n",
       "      <td>0.0</td>\n",
       "      <td>1.0</td>\n",
       "      <td>0.0</td>\n",
       "      <td>0.0</td>\n",
       "      <td>0.0</td>\n",
       "      <td>0.0</td>\n",
       "      <td>0.0</td>\n",
       "      <td>0.0</td>\n",
       "      <td>0.0</td>\n",
       "      <td>...</td>\n",
       "      <td>-1.137263</td>\n",
       "      <td>-1.679687</td>\n",
       "      <td>-0.781626</td>\n",
       "      <td>-0.240634</td>\n",
       "      <td>-0.295480</td>\n",
       "      <td>-0.204066</td>\n",
       "      <td>-0.504822</td>\n",
       "      <td>-0.722540</td>\n",
       "      <td>67353</td>\n",
       "      <td>NO</td>\n",
       "    </tr>\n",
       "    <tr>\n",
       "      <th>4</th>\n",
       "      <td>0.0</td>\n",
       "      <td>0.0</td>\n",
       "      <td>1.0</td>\n",
       "      <td>0.0</td>\n",
       "      <td>0.0</td>\n",
       "      <td>0.0</td>\n",
       "      <td>0.0</td>\n",
       "      <td>0.0</td>\n",
       "      <td>0.0</td>\n",
       "      <td>0.0</td>\n",
       "      <td>...</td>\n",
       "      <td>-0.463228</td>\n",
       "      <td>0.412810</td>\n",
       "      <td>-0.781626</td>\n",
       "      <td>-0.240634</td>\n",
       "      <td>-0.295480</td>\n",
       "      <td>-0.204066</td>\n",
       "      <td>2.709666</td>\n",
       "      <td>-1.237903</td>\n",
       "      <td>34878</td>\n",
       "      <td>&lt;30</td>\n",
       "    </tr>\n",
       "    <tr>\n",
       "      <th>...</th>\n",
       "      <td>...</td>\n",
       "      <td>...</td>\n",
       "      <td>...</td>\n",
       "      <td>...</td>\n",
       "      <td>...</td>\n",
       "      <td>...</td>\n",
       "      <td>...</td>\n",
       "      <td>...</td>\n",
       "      <td>...</td>\n",
       "      <td>...</td>\n",
       "      <td>...</td>\n",
       "      <td>...</td>\n",
       "      <td>...</td>\n",
       "      <td>...</td>\n",
       "      <td>...</td>\n",
       "      <td>...</td>\n",
       "      <td>...</td>\n",
       "      <td>...</td>\n",
       "      <td>...</td>\n",
       "      <td>...</td>\n",
       "      <td>...</td>\n",
       "    </tr>\n",
       "    <tr>\n",
       "      <th>15890</th>\n",
       "      <td>0.0</td>\n",
       "      <td>0.0</td>\n",
       "      <td>1.0</td>\n",
       "      <td>0.0</td>\n",
       "      <td>0.0</td>\n",
       "      <td>0.0</td>\n",
       "      <td>0.0</td>\n",
       "      <td>0.0</td>\n",
       "      <td>0.0</td>\n",
       "      <td>0.0</td>\n",
       "      <td>...</td>\n",
       "      <td>-0.463228</td>\n",
       "      <td>-0.148592</td>\n",
       "      <td>0.396083</td>\n",
       "      <td>0.382332</td>\n",
       "      <td>-0.295480</td>\n",
       "      <td>-0.204066</td>\n",
       "      <td>-0.504822</td>\n",
       "      <td>-2.268630</td>\n",
       "      <td>7170</td>\n",
       "      <td>NO</td>\n",
       "    </tr>\n",
       "    <tr>\n",
       "      <th>15891</th>\n",
       "      <td>0.0</td>\n",
       "      <td>0.0</td>\n",
       "      <td>1.0</td>\n",
       "      <td>0.0</td>\n",
       "      <td>0.0</td>\n",
       "      <td>0.0</td>\n",
       "      <td>0.0</td>\n",
       "      <td>0.0</td>\n",
       "      <td>0.0</td>\n",
       "      <td>0.0</td>\n",
       "      <td>...</td>\n",
       "      <td>-0.463228</td>\n",
       "      <td>1.280431</td>\n",
       "      <td>-0.192771</td>\n",
       "      <td>-0.365228</td>\n",
       "      <td>-0.295480</td>\n",
       "      <td>-0.204066</td>\n",
       "      <td>1.102422</td>\n",
       "      <td>0.823550</td>\n",
       "      <td>53317</td>\n",
       "      <td>&gt;30</td>\n",
       "    </tr>\n",
       "    <tr>\n",
       "      <th>15892</th>\n",
       "      <td>0.0</td>\n",
       "      <td>0.0</td>\n",
       "      <td>1.0</td>\n",
       "      <td>0.0</td>\n",
       "      <td>0.0</td>\n",
       "      <td>0.0</td>\n",
       "      <td>0.0</td>\n",
       "      <td>0.0</td>\n",
       "      <td>0.0</td>\n",
       "      <td>0.0</td>\n",
       "      <td>...</td>\n",
       "      <td>-0.126210</td>\n",
       "      <td>-0.097555</td>\n",
       "      <td>-0.781626</td>\n",
       "      <td>-1.361975</td>\n",
       "      <td>-0.295480</td>\n",
       "      <td>-0.204066</td>\n",
       "      <td>-0.504822</td>\n",
       "      <td>-1.753267</td>\n",
       "      <td>6302</td>\n",
       "      <td>&gt;30</td>\n",
       "    </tr>\n",
       "    <tr>\n",
       "      <th>15893</th>\n",
       "      <td>0.0</td>\n",
       "      <td>0.0</td>\n",
       "      <td>1.0</td>\n",
       "      <td>0.0</td>\n",
       "      <td>0.0</td>\n",
       "      <td>0.0</td>\n",
       "      <td>0.0</td>\n",
       "      <td>1.0</td>\n",
       "      <td>0.0</td>\n",
       "      <td>0.0</td>\n",
       "      <td>...</td>\n",
       "      <td>-0.463228</td>\n",
       "      <td>-0.709993</td>\n",
       "      <td>0.396083</td>\n",
       "      <td>-0.489821</td>\n",
       "      <td>-0.295480</td>\n",
       "      <td>-0.204066</td>\n",
       "      <td>-0.504822</td>\n",
       "      <td>-1.237903</td>\n",
       "      <td>79203</td>\n",
       "      <td>NO</td>\n",
       "    </tr>\n",
       "    <tr>\n",
       "      <th>15894</th>\n",
       "      <td>0.0</td>\n",
       "      <td>0.0</td>\n",
       "      <td>1.0</td>\n",
       "      <td>0.0</td>\n",
       "      <td>0.0</td>\n",
       "      <td>0.0</td>\n",
       "      <td>0.0</td>\n",
       "      <td>0.0</td>\n",
       "      <td>0.0</td>\n",
       "      <td>0.0</td>\n",
       "      <td>...</td>\n",
       "      <td>-0.463228</td>\n",
       "      <td>-1.730723</td>\n",
       "      <td>-0.781626</td>\n",
       "      <td>-1.112788</td>\n",
       "      <td>-0.295480</td>\n",
       "      <td>-0.204066</td>\n",
       "      <td>-0.504822</td>\n",
       "      <td>0.823550</td>\n",
       "      <td>93793</td>\n",
       "      <td>NO</td>\n",
       "    </tr>\n",
       "  </tbody>\n",
       "</table>\n",
       "<p>15895 rows × 2264 columns</p>\n",
       "</div>"
      ],
      "text/plain": [
       "       most_frequent__race_AfricanAmerican  most_frequent__race_Asian  \\\n",
       "0                                      0.0                        0.0   \n",
       "1                                      0.0                        0.0   \n",
       "2                                      0.0                        0.0   \n",
       "3                                      0.0                        0.0   \n",
       "4                                      0.0                        0.0   \n",
       "...                                    ...                        ...   \n",
       "15890                                  0.0                        0.0   \n",
       "15891                                  0.0                        0.0   \n",
       "15892                                  0.0                        0.0   \n",
       "15893                                  0.0                        0.0   \n",
       "15894                                  0.0                        0.0   \n",
       "\n",
       "       most_frequent__race_Caucasian  most_frequent__race_Hispanic  \\\n",
       "0                                1.0                           0.0   \n",
       "1                                1.0                           0.0   \n",
       "2                                0.0                           1.0   \n",
       "3                                1.0                           0.0   \n",
       "4                                1.0                           0.0   \n",
       "...                              ...                           ...   \n",
       "15890                            1.0                           0.0   \n",
       "15891                            1.0                           0.0   \n",
       "15892                            1.0                           0.0   \n",
       "15893                            1.0                           0.0   \n",
       "15894                            1.0                           0.0   \n",
       "\n",
       "       most_frequent__race_Other  none__payer_code_BC  none__payer_code_CH  \\\n",
       "0                            0.0                  0.0                  0.0   \n",
       "1                            0.0                  0.0                  0.0   \n",
       "2                            0.0                  1.0                  0.0   \n",
       "3                            0.0                  0.0                  0.0   \n",
       "4                            0.0                  0.0                  0.0   \n",
       "...                          ...                  ...                  ...   \n",
       "15890                        0.0                  0.0                  0.0   \n",
       "15891                        0.0                  0.0                  0.0   \n",
       "15892                        0.0                  0.0                  0.0   \n",
       "15893                        0.0                  0.0                  0.0   \n",
       "15894                        0.0                  0.0                  0.0   \n",
       "\n",
       "       none__payer_code_CM  none__payer_code_CP  none__payer_code_DM  ...  \\\n",
       "0                      0.0                  0.0                  0.0  ...   \n",
       "1                      0.0                  0.0                  0.0  ...   \n",
       "2                      0.0                  0.0                  0.0  ...   \n",
       "3                      0.0                  0.0                  0.0  ...   \n",
       "4                      0.0                  0.0                  0.0  ...   \n",
       "...                    ...                  ...                  ...  ...   \n",
       "15890                  0.0                  0.0                  0.0  ...   \n",
       "15891                  0.0                  0.0                  0.0  ...   \n",
       "15892                  0.0                  0.0                  0.0  ...   \n",
       "15893                  1.0                  0.0                  0.0  ...   \n",
       "15894                  0.0                  0.0                  0.0  ...   \n",
       "\n",
       "       numerical_values__time_in_hospital  \\\n",
       "0                               -0.463228   \n",
       "1                               -0.463228   \n",
       "2                               -1.137263   \n",
       "3                               -1.137263   \n",
       "4                               -0.463228   \n",
       "...                                   ...   \n",
       "15890                           -0.463228   \n",
       "15891                           -0.463228   \n",
       "15892                           -0.126210   \n",
       "15893                           -0.463228   \n",
       "15894                           -0.463228   \n",
       "\n",
       "       numerical_values__num_lab_procedures  numerical_values__num_procedures  \\\n",
       "0                                 -0.505847                         -0.781626   \n",
       "1                                  0.004518                         -0.781626   \n",
       "2                                 -0.505847                         -0.781626   \n",
       "3                                 -1.679687                         -0.781626   \n",
       "4                                  0.412810                         -0.781626   \n",
       "...                                     ...                               ...   \n",
       "15890                             -0.148592                          0.396083   \n",
       "15891                              1.280431                         -0.192771   \n",
       "15892                             -0.097555                         -0.781626   \n",
       "15893                             -0.709993                          0.396083   \n",
       "15894                             -1.730723                         -0.781626   \n",
       "\n",
       "       numerical_values__num_medications  numerical_values__number_outpatient  \\\n",
       "0                              -0.988194                            -0.295480   \n",
       "1                              -0.863601                            -0.295480   \n",
       "2                              -1.860348                             2.131202   \n",
       "3                              -0.240634                            -0.295480   \n",
       "4                              -0.240634                            -0.295480   \n",
       "...                                  ...                                  ...   \n",
       "15890                           0.382332                            -0.295480   \n",
       "15891                          -0.365228                            -0.295480   \n",
       "15892                          -1.361975                            -0.295480   \n",
       "15893                          -0.489821                            -0.295480   \n",
       "15894                          -1.112788                            -0.295480   \n",
       "\n",
       "       numerical_values__number_emergency  numerical_values__number_inpatient  \\\n",
       "0                               -0.204066                           -0.504822   \n",
       "1                               -0.204066                            0.298800   \n",
       "2                                0.824058                           -0.504822   \n",
       "3                               -0.204066                           -0.504822   \n",
       "4                               -0.204066                            2.709666   \n",
       "...                                   ...                                 ...   \n",
       "15890                           -0.204066                           -0.504822   \n",
       "15891                           -0.204066                            1.102422   \n",
       "15892                           -0.204066                           -0.504822   \n",
       "15893                           -0.204066                           -0.504822   \n",
       "15894                           -0.204066                           -0.504822   \n",
       "\n",
       "       numerical_values__number_diagnoses  index  readmitted  \n",
       "0                                0.823550  66543         <30  \n",
       "1                               -0.722540  13478          NO  \n",
       "2                               -0.722540  98787          NO  \n",
       "3                               -0.722540  67353          NO  \n",
       "4                               -1.237903  34878         <30  \n",
       "...                                   ...    ...         ...  \n",
       "15890                           -2.268630   7170          NO  \n",
       "15891                            0.823550  53317         >30  \n",
       "15892                           -1.753267   6302         >30  \n",
       "15893                           -1.237903  79203          NO  \n",
       "15894                            0.823550  93793          NO  \n",
       "\n",
       "[15895 rows x 2264 columns]"
      ]
     },
     "execution_count": 4,
     "metadata": {},
     "output_type": "execute_result"
    }
   ],
   "source": [
    "validation = pd.read_csv(\"validation_set.csv\")\n",
    "validation"
   ]
  },
  {
   "cell_type": "code",
   "execution_count": 5,
   "metadata": {},
   "outputs": [],
   "source": [
    "X_train = train.drop(\"readmitted\", axis=1)\n",
    "y_train = train.readmitted\n",
    "X_validation = validation.drop(\"readmitted\", axis=1)\n",
    "y_validation = validation.readmitted\n"
   ]
  },
  {
   "cell_type": "markdown",
   "metadata": {},
   "source": [
    "We select the 25 k-best features that will be used for the different ensembles."
   ]
  },
  {
   "cell_type": "code",
   "execution_count": 6,
   "metadata": {},
   "outputs": [],
   "source": [
    "selector = SelectKBest(k=25)\n",
    "selector.fit(X_train, train.readmitted)\n",
    "best_features = selector.get_feature_names_out()"
   ]
  },
  {
   "cell_type": "markdown",
   "metadata": {},
   "source": [
    "We also define a function that takes training data, a hyperparameter grid, and classifier, and performs a grid search to find the optimal hyperparameters for the ensemble. The function then returns the best hyperparameters."
   ]
  },
  {
   "cell_type": "code",
   "execution_count": 7,
   "metadata": {},
   "outputs": [],
   "source": [
    "def get_best_hyperparams(X_train, y_train, param_grid, clf):\n",
    "    cv = 5\n",
    "\n",
    "    # Select K Best Features\n",
    "    selector = SelectKBest(k=25)\n",
    "    selector.fit(X_train, y_train)\n",
    "\n",
    "    # Get the selected feature names\n",
    "    best_features = selector.get_feature_names_out()\n",
    "\n",
    "    # Use the best features for training\n",
    "    train_features = X_train[best_features]\n",
    "    print(train_features.shape)\n",
    "\n",
    "    # Perform GridSearchCV to find the best parameters\n",
    "    gridsearch = GridSearchCV(clf, param_grid, cv=cv, scoring='f1_macro', verbose=3)\n",
    "    gridsearch.fit(train_features, y_train)\n",
    "    \n",
    "    # Print the best parameters and the best score\n",
    "    print(\"Best params: \", gridsearch.best_params_, \"Best score:\", gridsearch.best_score_)"
   ]
  },
  {
   "cell_type": "markdown",
   "metadata": {},
   "source": [
    "# 2. Apply different ensembles"
   ]
  },
  {
   "cell_type": "markdown",
   "metadata": {},
   "source": [
    "## 2.1 Voting Classifier"
   ]
  },
  {
   "cell_type": "markdown",
   "metadata": {},
   "source": [
    "We tried various combinations for the voting classifier.\n",
    "\n",
    "To get started, we first took the five best classifiers from our second notebook. As hard voting uses the majority vote, we can only use odd numbers of base learners."
   ]
  },
  {
   "cell_type": "code",
   "execution_count": 35,
   "metadata": {},
   "outputs": [
    {
     "name": "stdout",
     "output_type": "stream",
     "text": [
      "              precision    recall  f1-score   support\n",
      "\n",
      "         <30       0.26      0.11      0.15      1810\n",
      "         >30       0.47      0.44      0.45      5681\n",
      "          NO       0.63      0.74      0.68      8404\n",
      "\n",
      "    accuracy                           0.56     15895\n",
      "   macro avg       0.45      0.43      0.43     15895\n",
      "weighted avg       0.53      0.56      0.54     15895\n",
      "\n"
     ]
    }
   ],
   "source": [
    "# 5 base learners\n",
    "log_clf = LogisticRegression(C=10.0, class_weight='balanced', penalty='l2')\n",
    "gnb_clf = GaussianNB(var_smoothing=1e-05)\n",
    "bernoulli_clf = BernoulliNB(alpha=0.1, binarize=0.0)\n",
    "knn_clf = KNeighborsClassifier(algorithm='auto', n_neighbors=5, weights='uniform')\n",
    "dt_clf = DecisionTreeClassifier(criterion='gini', max_depth=14)\n",
    "# build the ensemble\n",
    "voting_clf = VotingClassifier(\n",
    "estimators=[ ('lr', log_clf),\n",
    "('gaussian', gnb_clf),\n",
    "('bernoulli', bernoulli_clf),\n",
    "('knn', knn_clf),\n",
    "('dt', dt_clf)],\n",
    "voting='hard'\n",
    ")\n",
    "\n",
    "# train the ensemble\n",
    "# base learners are cloned, and clones are trained\n",
    "voting_clf.fit(X_train[best_features], y_train)\n",
    "\n",
    "# Evaluate the ensemble\n",
    "ensemble_pred = voting_clf.predict(X_validation[best_features])\n",
    "ensemble_f1 = f1_score(y_validation, ensemble_pred, average='macro')  # or 'weighted'\n",
    "print(classification_report(y_validation, ensemble_pred))"
   ]
  },
  {
   "cell_type": "markdown",
   "metadata": {},
   "source": [
    "The f1 macro average score for five best performing classifiers is 0.43.\n",
    "\n",
    "As a second step, we take the three best performing classifiers from the second notebook with hard voting. As hard voting uses the majority vote, we can only use odd numbers of base learners."
   ]
  },
  {
   "cell_type": "code",
   "execution_count": 39,
   "metadata": {},
   "outputs": [
    {
     "name": "stdout",
     "output_type": "stream",
     "text": [
      "              precision    recall  f1-score   support\n",
      "\n",
      "         <30       0.24      0.18      0.21      1810\n",
      "         >30       0.47      0.41      0.44      5681\n",
      "          NO       0.63      0.72      0.67      8404\n",
      "\n",
      "    accuracy                           0.55     15895\n",
      "   macro avg       0.45      0.44      0.44     15895\n",
      "weighted avg       0.53      0.55      0.53     15895\n",
      "\n"
     ]
    }
   ],
   "source": [
    "# 3 base learners with BernoulliNB as third base learner\n",
    "log_clf = LogisticRegression(C=10.0, class_weight='balanced', penalty='l2')\n",
    "gnb_clf = GaussianNB(var_smoothing=1e-05)\n",
    "bernoulli_clf = BernoulliNB(alpha=0.1, binarize=0.0)\n",
    "# build the ensemble\n",
    "voting_clf = VotingClassifier(\n",
    "estimators=[ ('lr', log_clf),\n",
    "('gaussian', gnb_clf),\n",
    "('bernoulli', bernoulli_clf)],\n",
    "voting='hard'\n",
    ")\n",
    "\n",
    "# train the ensemble\n",
    "# base learners are cloned, and clones are trained\n",
    "voting_clf.fit(X_train[best_features], y_train)\n",
    "\n",
    "# Evaluate the ensemble\n",
    "ensemble_pred = voting_clf.predict(X_validation[best_features])\n",
    "ensemble_f1 = f1_score(y_validation, ensemble_pred, average='macro')  # or 'weighted'\n",
    "print(classification_report(y_validation, ensemble_pred))"
   ]
  },
  {
   "cell_type": "markdown",
   "metadata": {},
   "source": [
    "The f1 macro average for three base learners with BernoulliNB as third base learner is 0.44 and is therefore slightly better than for five base learners."
   ]
  },
  {
   "cell_type": "code",
   "execution_count": 37,
   "metadata": {},
   "outputs": [
    {
     "name": "stdout",
     "output_type": "stream",
     "text": [
      "              precision    recall  f1-score   support\n",
      "\n",
      "         <30       0.22      0.26      0.24      1810\n",
      "         >30       0.48      0.36      0.41      5681\n",
      "          NO       0.63      0.71      0.67      8404\n",
      "\n",
      "    accuracy                           0.53     15895\n",
      "   macro avg       0.44      0.44      0.44     15895\n",
      "weighted avg       0.53      0.53      0.53     15895\n",
      "\n"
     ]
    }
   ],
   "source": [
    "# 3 base learners with KNeighborsClassifier as third base learner\n",
    "log_clf = LogisticRegression(C=10.0, class_weight='balanced', penalty='l2')\n",
    "gnb_clf = GaussianNB(var_smoothing=1e-05)\n",
    "knn_clf = KNeighborsClassifier(algorithm='auto', n_neighbors=5, weights='uniform')\n",
    "# build the ensemble\n",
    "voting_clf = VotingClassifier(\n",
    "estimators=[ ('lr', log_clf),\n",
    "('gaussian', gnb_clf),\n",
    "('knn', knn_clf)],\n",
    "voting='hard'\n",
    ")\n",
    "\n",
    "# train the ensemble\n",
    "# base learners are cloned, and clones are trained\n",
    "voting_clf.fit(X_train[best_features], y_train)\n",
    "\n",
    "# Evaluate the ensemble\n",
    "ensemble_pred = voting_clf.predict(X_validation[best_features])\n",
    "ensemble_f1 = f1_score(y_validation, ensemble_pred, average='macro')  # or 'weighted'\n",
    "print(classification_report(y_validation, ensemble_pred))"
   ]
  },
  {
   "cell_type": "markdown",
   "metadata": {},
   "source": [
    "The f1 macro average for three base learners with KNeighborsClassifier as third base learner is also 0.44."
   ]
  },
  {
   "cell_type": "code",
   "execution_count": 38,
   "metadata": {},
   "outputs": [
    {
     "name": "stdout",
     "output_type": "stream",
     "text": [
      "              precision    recall  f1-score   support\n",
      "\n",
      "         <30       0.29      0.14      0.19      1810\n",
      "         >30       0.47      0.44      0.46      5681\n",
      "          NO       0.63      0.72      0.67      8404\n",
      "\n",
      "    accuracy                           0.56     15895\n",
      "   macro avg       0.46      0.43      0.44     15895\n",
      "weighted avg       0.53      0.56      0.54     15895\n",
      "\n"
     ]
    }
   ],
   "source": [
    "# 3 base learners with DecisionTreeClassifier as third base learner\n",
    "log_clf = LogisticRegression(C=10.0, class_weight='balanced', penalty='l2')\n",
    "gnb_clf = GaussianNB(var_smoothing=1e-05)\n",
    "bernoulli_clf = BernoulliNB(alpha=0.1, binarize=0.0)\n",
    "dt_clf = DecisionTreeClassifier(criterion='gini', max_depth=14)\n",
    "# build the ensemble\n",
    "voting_clf = VotingClassifier(\n",
    "estimators=[ ('lr', log_clf),\n",
    "('gaussian', gnb_clf),\n",
    "('bernoulli', bernoulli_clf),\n",
    "('dt', dt_clf)],\n",
    "voting='hard'\n",
    ")\n",
    "\n",
    "# train the ensemble\n",
    "# base learners are cloned, and clones are trained\n",
    "voting_clf.fit(X_train[best_features], y_train)\n",
    "\n",
    "# Evaluate the ensemble\n",
    "ensemble_pred = voting_clf.predict(X_validation[best_features])\n",
    "ensemble_f1 = f1_score(y_validation, ensemble_pred, average='macro')  # or 'weighted'\n",
    "print(classification_report(y_validation, ensemble_pred))"
   ]
  },
  {
   "cell_type": "markdown",
   "metadata": {},
   "source": [
    "The f1 macro average for three base learners with DecisionTreeClassifier as third base learner is also 0.44.\n",
    "\n",
    "Finally, we use four base learners that return probabilities in order to run the voting classifier with soft voting"
   ]
  },
  {
   "cell_type": "code",
   "execution_count": 8,
   "metadata": {},
   "outputs": [
    {
     "name": "stdout",
     "output_type": "stream",
     "text": [
      "              precision    recall  f1-score   support\n",
      "\n",
      "         <30       0.32      0.12      0.17      1810\n",
      "         >30       0.47      0.40      0.43      5681\n",
      "          NO       0.61      0.76      0.68      8404\n",
      "\n",
      "    accuracy                           0.56     15895\n",
      "   macro avg       0.47      0.43      0.43     15895\n",
      "weighted avg       0.53      0.56      0.53     15895\n",
      "\n"
     ]
    }
   ],
   "source": [
    "# 4 base learners with soft voting\n",
    "log_clf = LogisticRegression(C=10.0, class_weight='balanced', penalty='l2')\n",
    "svc_clf = SVC(C=1.0, gamma=0.1, kernel='rbf', max_iter=1000, probability=True)\n",
    "gnb_clf = GaussianNB(var_smoothing=1e-05)\n",
    "bernoulli_clf = BernoulliNB(alpha=0.1, binarize=0.0)\n",
    "# build the ensemble\n",
    "voting_clf = VotingClassifier(\n",
    "estimators=[ ('lr', log_clf),\n",
    "('gaussian', gnb_clf),\n",
    "('svc', svc_clf),\n",
    "('bernoulli', bernoulli_clf)],\n",
    "voting='soft'\n",
    ")\n",
    "\n",
    "# train the ensemble\n",
    "# base learners are cloned, and clones are trained\n",
    "voting_clf.fit(X_train[best_features], y_train)\n",
    "\n",
    "# Evaluate the ensemble\n",
    "ensemble_pred = voting_clf.predict(X_validation[best_features])\n",
    "ensemble_f1 = f1_score(y_validation, ensemble_pred, average='macro')\n",
    "print(classification_report(y_validation, ensemble_pred))"
   ]
  },
  {
   "cell_type": "markdown",
   "metadata": {},
   "source": [
    "The f1 macro average with soft voting is 0.43 and is therefore slightly worse than with hard voting."
   ]
  },
  {
   "cell_type": "markdown",
   "metadata": {},
   "source": [
    "## 2.2 Adaboost Classifier"
   ]
  },
  {
   "cell_type": "markdown",
   "metadata": {},
   "source": [
    "Next, we applied the AdaBoost classifier. We used the Adaboost Classifier with various hyperparameters to find the best ones. After that we trained the AdaBoost classifier on the training data and evaluated it on the validation set."
   ]
  },
  {
   "cell_type": "code",
   "execution_count": 9,
   "metadata": {},
   "outputs": [
    {
     "name": "stdout",
     "output_type": "stream",
     "text": [
      "(63577, 25)\n",
      "Fitting 5 folds for each of 40 candidates, totalling 200 fits\n",
      "[CV 1/5] END algorithm=SAMME, learning_rate=0.1, n_estimators=50;, score=0.329 total time=   2.7s\n",
      "[CV 2/5] END algorithm=SAMME, learning_rate=0.1, n_estimators=50;, score=0.329 total time=   2.7s\n",
      "[CV 3/5] END algorithm=SAMME, learning_rate=0.1, n_estimators=50;, score=0.331 total time=   2.9s\n",
      "[CV 4/5] END algorithm=SAMME, learning_rate=0.1, n_estimators=50;, score=0.330 total time=   3.8s\n",
      "[CV 5/5] END algorithm=SAMME, learning_rate=0.1, n_estimators=50;, score=0.331 total time=   4.8s\n",
      "[CV 1/5] END algorithm=SAMME, learning_rate=0.1, n_estimators=100;, score=0.329 total time=   9.6s\n",
      "[CV 2/5] END algorithm=SAMME, learning_rate=0.1, n_estimators=100;, score=0.334 total time=   9.9s\n",
      "[CV 3/5] END algorithm=SAMME, learning_rate=0.1, n_estimators=100;, score=0.331 total time=   9.8s\n",
      "[CV 4/5] END algorithm=SAMME, learning_rate=0.1, n_estimators=100;, score=0.330 total time=  11.0s\n",
      "[CV 5/5] END algorithm=SAMME, learning_rate=0.1, n_estimators=100;, score=0.352 total time=   5.6s\n",
      "[CV 1/5] END algorithm=SAMME, learning_rate=0.1, n_estimators=150;, score=0.344 total time=   8.1s\n",
      "[CV 2/5] END algorithm=SAMME, learning_rate=0.1, n_estimators=150;, score=0.346 total time=   8.6s\n",
      "[CV 3/5] END algorithm=SAMME, learning_rate=0.1, n_estimators=150;, score=0.351 total time=   8.1s\n",
      "[CV 4/5] END algorithm=SAMME, learning_rate=0.1, n_estimators=150;, score=0.341 total time=   8.2s\n",
      "[CV 5/5] END algorithm=SAMME, learning_rate=0.1, n_estimators=150;, score=0.370 total time=   8.1s\n",
      "[CV 1/5] END algorithm=SAMME, learning_rate=0.1, n_estimators=200;, score=0.350 total time=  10.7s\n",
      "[CV 2/5] END algorithm=SAMME, learning_rate=0.1, n_estimators=200;, score=0.351 total time=  10.9s\n",
      "[CV 3/5] END algorithm=SAMME, learning_rate=0.1, n_estimators=200;, score=0.352 total time=  11.9s\n",
      "[CV 4/5] END algorithm=SAMME, learning_rate=0.1, n_estimators=200;, score=0.351 total time=  11.7s\n",
      "[CV 5/5] END algorithm=SAMME, learning_rate=0.1, n_estimators=200;, score=0.352 total time=  11.3s\n",
      "[CV 1/5] END algorithm=SAMME, learning_rate=0.325, n_estimators=50;, score=0.345 total time=   2.8s\n",
      "[CV 2/5] END algorithm=SAMME, learning_rate=0.325, n_estimators=50;, score=0.361 total time=   2.6s\n",
      "[CV 3/5] END algorithm=SAMME, learning_rate=0.325, n_estimators=50;, score=0.352 total time=   2.7s\n",
      "[CV 4/5] END algorithm=SAMME, learning_rate=0.325, n_estimators=50;, score=0.352 total time=   2.7s\n",
      "[CV 5/5] END algorithm=SAMME, learning_rate=0.325, n_estimators=50;, score=0.352 total time=   2.7s\n",
      "[CV 1/5] END algorithm=SAMME, learning_rate=0.325, n_estimators=100;, score=0.367 total time=   5.5s\n",
      "[CV 2/5] END algorithm=SAMME, learning_rate=0.325, n_estimators=100;, score=0.353 total time=   5.8s\n",
      "[CV 3/5] END algorithm=SAMME, learning_rate=0.325, n_estimators=100;, score=0.361 total time=   5.6s\n",
      "[CV 4/5] END algorithm=SAMME, learning_rate=0.325, n_estimators=100;, score=0.352 total time=   5.4s\n",
      "[CV 5/5] END algorithm=SAMME, learning_rate=0.325, n_estimators=100;, score=0.361 total time=   5.4s\n",
      "[CV 1/5] END algorithm=SAMME, learning_rate=0.325, n_estimators=150;, score=0.363 total time=   8.1s\n",
      "[CV 2/5] END algorithm=SAMME, learning_rate=0.325, n_estimators=150;, score=0.357 total time=   8.4s\n",
      "[CV 3/5] END algorithm=SAMME, learning_rate=0.325, n_estimators=150;, score=0.362 total time=   9.0s\n",
      "[CV 4/5] END algorithm=SAMME, learning_rate=0.325, n_estimators=150;, score=0.354 total time=   8.3s\n",
      "[CV 5/5] END algorithm=SAMME, learning_rate=0.325, n_estimators=150;, score=0.359 total time=   8.4s\n",
      "[CV 1/5] END algorithm=SAMME, learning_rate=0.325, n_estimators=200;, score=0.363 total time=  11.1s\n",
      "[CV 2/5] END algorithm=SAMME, learning_rate=0.325, n_estimators=200;, score=0.362 total time=  10.9s\n",
      "[CV 3/5] END algorithm=SAMME, learning_rate=0.325, n_estimators=200;, score=0.362 total time=  12.6s\n",
      "[CV 4/5] END algorithm=SAMME, learning_rate=0.325, n_estimators=200;, score=0.357 total time=  12.3s\n",
      "[CV 5/5] END algorithm=SAMME, learning_rate=0.325, n_estimators=200;, score=0.359 total time=  12.1s\n",
      "[CV 1/5] END algorithm=SAMME, learning_rate=0.55, n_estimators=50;, score=0.351 total time=   3.1s\n",
      "[CV 2/5] END algorithm=SAMME, learning_rate=0.55, n_estimators=50;, score=0.353 total time=   2.7s\n",
      "[CV 3/5] END algorithm=SAMME, learning_rate=0.55, n_estimators=50;, score=0.365 total time=   2.7s\n",
      "[CV 4/5] END algorithm=SAMME, learning_rate=0.55, n_estimators=50;, score=0.352 total time=   2.8s\n",
      "[CV 5/5] END algorithm=SAMME, learning_rate=0.55, n_estimators=50;, score=0.370 total time=   2.9s\n",
      "[CV 1/5] END algorithm=SAMME, learning_rate=0.55, n_estimators=100;, score=0.352 total time=   5.6s\n",
      "[CV 2/5] END algorithm=SAMME, learning_rate=0.55, n_estimators=100;, score=0.364 total time=   5.4s\n",
      "[CV 3/5] END algorithm=SAMME, learning_rate=0.55, n_estimators=100;, score=0.363 total time=   5.4s\n",
      "[CV 4/5] END algorithm=SAMME, learning_rate=0.55, n_estimators=100;, score=0.351 total time=   5.4s\n",
      "[CV 5/5] END algorithm=SAMME, learning_rate=0.55, n_estimators=100;, score=0.370 total time=   5.4s\n",
      "[CV 1/5] END algorithm=SAMME, learning_rate=0.55, n_estimators=150;, score=0.354 total time=   8.5s\n",
      "[CV 2/5] END algorithm=SAMME, learning_rate=0.55, n_estimators=150;, score=0.356 total time=   8.6s\n",
      "[CV 3/5] END algorithm=SAMME, learning_rate=0.55, n_estimators=150;, score=0.364 total time=   9.2s\n",
      "[CV 4/5] END algorithm=SAMME, learning_rate=0.55, n_estimators=150;, score=0.354 total time=   8.6s\n",
      "[CV 5/5] END algorithm=SAMME, learning_rate=0.55, n_estimators=150;, score=0.369 total time=   8.6s\n",
      "[CV 1/5] END algorithm=SAMME, learning_rate=0.55, n_estimators=200;, score=0.354 total time=  12.1s\n",
      "[CV 2/5] END algorithm=SAMME, learning_rate=0.55, n_estimators=200;, score=0.356 total time=  11.4s\n",
      "[CV 3/5] END algorithm=SAMME, learning_rate=0.55, n_estimators=200;, score=0.367 total time=  11.1s\n",
      "[CV 4/5] END algorithm=SAMME, learning_rate=0.55, n_estimators=200;, score=0.353 total time=  11.0s\n",
      "[CV 5/5] END algorithm=SAMME, learning_rate=0.55, n_estimators=200;, score=0.370 total time=  10.9s\n",
      "[CV 1/5] END algorithm=SAMME, learning_rate=0.775, n_estimators=50;, score=0.368 total time=   2.7s\n",
      "[CV 2/5] END algorithm=SAMME, learning_rate=0.775, n_estimators=50;, score=0.369 total time=   2.7s\n",
      "[CV 3/5] END algorithm=SAMME, learning_rate=0.775, n_estimators=50;, score=0.369 total time=   2.8s\n",
      "[CV 4/5] END algorithm=SAMME, learning_rate=0.775, n_estimators=50;, score=0.368 total time=   2.7s\n",
      "[CV 5/5] END algorithm=SAMME, learning_rate=0.775, n_estimators=50;, score=0.367 total time=   2.7s\n",
      "[CV 1/5] END algorithm=SAMME, learning_rate=0.775, n_estimators=100;, score=0.368 total time=   5.4s\n",
      "[CV 2/5] END algorithm=SAMME, learning_rate=0.775, n_estimators=100;, score=0.369 total time=   5.4s\n",
      "[CV 3/5] END algorithm=SAMME, learning_rate=0.775, n_estimators=100;, score=0.370 total time=   5.5s\n",
      "[CV 4/5] END algorithm=SAMME, learning_rate=0.775, n_estimators=100;, score=0.367 total time=   5.4s\n",
      "[CV 5/5] END algorithm=SAMME, learning_rate=0.775, n_estimators=100;, score=0.367 total time=   5.6s\n",
      "[CV 1/5] END algorithm=SAMME, learning_rate=0.775, n_estimators=150;, score=0.369 total time=   8.0s\n",
      "[CV 2/5] END algorithm=SAMME, learning_rate=0.775, n_estimators=150;, score=0.371 total time=   8.2s\n",
      "[CV 3/5] END algorithm=SAMME, learning_rate=0.775, n_estimators=150;, score=0.370 total time=   8.2s\n",
      "[CV 4/5] END algorithm=SAMME, learning_rate=0.775, n_estimators=150;, score=0.368 total time=   8.1s\n",
      "[CV 5/5] END algorithm=SAMME, learning_rate=0.775, n_estimators=150;, score=0.368 total time=   8.1s\n",
      "[CV 1/5] END algorithm=SAMME, learning_rate=0.775, n_estimators=200;, score=0.375 total time=  10.7s\n",
      "[CV 2/5] END algorithm=SAMME, learning_rate=0.775, n_estimators=200;, score=0.374 total time=  11.0s\n",
      "[CV 3/5] END algorithm=SAMME, learning_rate=0.775, n_estimators=200;, score=0.371 total time=  11.5s\n",
      "[CV 4/5] END algorithm=SAMME, learning_rate=0.775, n_estimators=200;, score=0.369 total time=  11.3s\n",
      "[CV 5/5] END algorithm=SAMME, learning_rate=0.775, n_estimators=200;, score=0.367 total time=  11.7s\n",
      "[CV 1/5] END algorithm=SAMME, learning_rate=1.0, n_estimators=50;, score=0.373 total time=   2.7s\n",
      "[CV 2/5] END algorithm=SAMME, learning_rate=1.0, n_estimators=50;, score=0.377 total time=   2.6s\n",
      "[CV 3/5] END algorithm=SAMME, learning_rate=1.0, n_estimators=50;, score=0.371 total time=   2.8s\n",
      "[CV 4/5] END algorithm=SAMME, learning_rate=1.0, n_estimators=50;, score=0.351 total time=   2.7s\n",
      "[CV 5/5] END algorithm=SAMME, learning_rate=1.0, n_estimators=50;, score=0.368 total time=   3.1s\n",
      "[CV 1/5] END algorithm=SAMME, learning_rate=1.0, n_estimators=100;, score=0.377 total time=   5.9s\n",
      "[CV 2/5] END algorithm=SAMME, learning_rate=1.0, n_estimators=100;, score=0.378 total time=   5.5s\n",
      "[CV 3/5] END algorithm=SAMME, learning_rate=1.0, n_estimators=100;, score=0.371 total time=   5.4s\n",
      "[CV 4/5] END algorithm=SAMME, learning_rate=1.0, n_estimators=100;, score=0.359 total time=   5.5s\n",
      "[CV 5/5] END algorithm=SAMME, learning_rate=1.0, n_estimators=100;, score=0.372 total time=   5.6s\n",
      "[CV 1/5] END algorithm=SAMME, learning_rate=1.0, n_estimators=150;, score=0.380 total time=   8.0s\n",
      "[CV 2/5] END algorithm=SAMME, learning_rate=1.0, n_estimators=150;, score=0.380 total time=   8.0s\n",
      "[CV 3/5] END algorithm=SAMME, learning_rate=1.0, n_estimators=150;, score=0.380 total time=   8.6s\n",
      "[CV 4/5] END algorithm=SAMME, learning_rate=1.0, n_estimators=150;, score=0.361 total time=   8.1s\n",
      "[CV 5/5] END algorithm=SAMME, learning_rate=1.0, n_estimators=150;, score=0.375 total time=   8.1s\n",
      "[CV 1/5] END algorithm=SAMME, learning_rate=1.0, n_estimators=200;, score=0.384 total time=  10.5s\n",
      "[CV 2/5] END algorithm=SAMME, learning_rate=1.0, n_estimators=200;, score=0.381 total time=  10.6s\n",
      "[CV 3/5] END algorithm=SAMME, learning_rate=1.0, n_estimators=200;, score=0.383 total time=  10.8s\n",
      "[CV 4/5] END algorithm=SAMME, learning_rate=1.0, n_estimators=200;, score=0.369 total time=  10.8s\n",
      "[CV 5/5] END algorithm=SAMME, learning_rate=1.0, n_estimators=200;, score=0.376 total time=  10.7s\n"
     ]
    },
    {
     "name": "stderr",
     "output_type": "stream",
     "text": [
      "C:\\Users\\learo\\AppData\\Local\\Packages\\PythonSoftwareFoundation.Python.3.12_qbz5n2kfra8p0\\LocalCache\\local-packages\\Python312\\site-packages\\sklearn\\ensemble\\_weight_boosting.py:527: FutureWarning: The SAMME.R algorithm (the default) is deprecated and will be removed in 1.6. Use the SAMME algorithm to circumvent this warning.\n",
      "  warnings.warn(\n"
     ]
    },
    {
     "name": "stdout",
     "output_type": "stream",
     "text": [
      "[CV 1/5] END algorithm=SAMME.R, learning_rate=0.1, n_estimators=50;, score=0.352 total time=   3.2s\n"
     ]
    },
    {
     "name": "stderr",
     "output_type": "stream",
     "text": [
      "C:\\Users\\learo\\AppData\\Local\\Packages\\PythonSoftwareFoundation.Python.3.12_qbz5n2kfra8p0\\LocalCache\\local-packages\\Python312\\site-packages\\sklearn\\ensemble\\_weight_boosting.py:527: FutureWarning: The SAMME.R algorithm (the default) is deprecated and will be removed in 1.6. Use the SAMME algorithm to circumvent this warning.\n",
      "  warnings.warn(\n"
     ]
    },
    {
     "name": "stdout",
     "output_type": "stream",
     "text": [
      "[CV 2/5] END algorithm=SAMME.R, learning_rate=0.1, n_estimators=50;, score=0.352 total time=   3.3s\n"
     ]
    },
    {
     "name": "stderr",
     "output_type": "stream",
     "text": [
      "C:\\Users\\learo\\AppData\\Local\\Packages\\PythonSoftwareFoundation.Python.3.12_qbz5n2kfra8p0\\LocalCache\\local-packages\\Python312\\site-packages\\sklearn\\ensemble\\_weight_boosting.py:527: FutureWarning: The SAMME.R algorithm (the default) is deprecated and will be removed in 1.6. Use the SAMME algorithm to circumvent this warning.\n",
      "  warnings.warn(\n"
     ]
    },
    {
     "name": "stdout",
     "output_type": "stream",
     "text": [
      "[CV 3/5] END algorithm=SAMME.R, learning_rate=0.1, n_estimators=50;, score=0.351 total time=   3.2s\n"
     ]
    },
    {
     "name": "stderr",
     "output_type": "stream",
     "text": [
      "C:\\Users\\learo\\AppData\\Local\\Packages\\PythonSoftwareFoundation.Python.3.12_qbz5n2kfra8p0\\LocalCache\\local-packages\\Python312\\site-packages\\sklearn\\ensemble\\_weight_boosting.py:527: FutureWarning: The SAMME.R algorithm (the default) is deprecated and will be removed in 1.6. Use the SAMME algorithm to circumvent this warning.\n",
      "  warnings.warn(\n"
     ]
    },
    {
     "name": "stdout",
     "output_type": "stream",
     "text": [
      "[CV 4/5] END algorithm=SAMME.R, learning_rate=0.1, n_estimators=50;, score=0.351 total time=   3.2s\n"
     ]
    },
    {
     "name": "stderr",
     "output_type": "stream",
     "text": [
      "C:\\Users\\learo\\AppData\\Local\\Packages\\PythonSoftwareFoundation.Python.3.12_qbz5n2kfra8p0\\LocalCache\\local-packages\\Python312\\site-packages\\sklearn\\ensemble\\_weight_boosting.py:527: FutureWarning: The SAMME.R algorithm (the default) is deprecated and will be removed in 1.6. Use the SAMME algorithm to circumvent this warning.\n",
      "  warnings.warn(\n"
     ]
    },
    {
     "name": "stdout",
     "output_type": "stream",
     "text": [
      "[CV 5/5] END algorithm=SAMME.R, learning_rate=0.1, n_estimators=50;, score=0.350 total time=   3.2s\n"
     ]
    },
    {
     "name": "stderr",
     "output_type": "stream",
     "text": [
      "C:\\Users\\learo\\AppData\\Local\\Packages\\PythonSoftwareFoundation.Python.3.12_qbz5n2kfra8p0\\LocalCache\\local-packages\\Python312\\site-packages\\sklearn\\ensemble\\_weight_boosting.py:527: FutureWarning: The SAMME.R algorithm (the default) is deprecated and will be removed in 1.6. Use the SAMME algorithm to circumvent this warning.\n",
      "  warnings.warn(\n"
     ]
    },
    {
     "name": "stdout",
     "output_type": "stream",
     "text": [
      "[CV 1/5] END algorithm=SAMME.R, learning_rate=0.1, n_estimators=100;, score=0.356 total time=   6.4s\n"
     ]
    },
    {
     "name": "stderr",
     "output_type": "stream",
     "text": [
      "C:\\Users\\learo\\AppData\\Local\\Packages\\PythonSoftwareFoundation.Python.3.12_qbz5n2kfra8p0\\LocalCache\\local-packages\\Python312\\site-packages\\sklearn\\ensemble\\_weight_boosting.py:527: FutureWarning: The SAMME.R algorithm (the default) is deprecated and will be removed in 1.6. Use the SAMME algorithm to circumvent this warning.\n",
      "  warnings.warn(\n"
     ]
    },
    {
     "name": "stdout",
     "output_type": "stream",
     "text": [
      "[CV 2/5] END algorithm=SAMME.R, learning_rate=0.1, n_estimators=100;, score=0.359 total time=   6.4s\n"
     ]
    },
    {
     "name": "stderr",
     "output_type": "stream",
     "text": [
      "C:\\Users\\learo\\AppData\\Local\\Packages\\PythonSoftwareFoundation.Python.3.12_qbz5n2kfra8p0\\LocalCache\\local-packages\\Python312\\site-packages\\sklearn\\ensemble\\_weight_boosting.py:527: FutureWarning: The SAMME.R algorithm (the default) is deprecated and will be removed in 1.6. Use the SAMME algorithm to circumvent this warning.\n",
      "  warnings.warn(\n"
     ]
    },
    {
     "name": "stdout",
     "output_type": "stream",
     "text": [
      "[CV 3/5] END algorithm=SAMME.R, learning_rate=0.1, n_estimators=100;, score=0.356 total time=   6.4s\n"
     ]
    },
    {
     "name": "stderr",
     "output_type": "stream",
     "text": [
      "C:\\Users\\learo\\AppData\\Local\\Packages\\PythonSoftwareFoundation.Python.3.12_qbz5n2kfra8p0\\LocalCache\\local-packages\\Python312\\site-packages\\sklearn\\ensemble\\_weight_boosting.py:527: FutureWarning: The SAMME.R algorithm (the default) is deprecated and will be removed in 1.6. Use the SAMME algorithm to circumvent this warning.\n",
      "  warnings.warn(\n"
     ]
    },
    {
     "name": "stdout",
     "output_type": "stream",
     "text": [
      "[CV 4/5] END algorithm=SAMME.R, learning_rate=0.1, n_estimators=100;, score=0.354 total time=   6.4s\n"
     ]
    },
    {
     "name": "stderr",
     "output_type": "stream",
     "text": [
      "C:\\Users\\learo\\AppData\\Local\\Packages\\PythonSoftwareFoundation.Python.3.12_qbz5n2kfra8p0\\LocalCache\\local-packages\\Python312\\site-packages\\sklearn\\ensemble\\_weight_boosting.py:527: FutureWarning: The SAMME.R algorithm (the default) is deprecated and will be removed in 1.6. Use the SAMME algorithm to circumvent this warning.\n",
      "  warnings.warn(\n"
     ]
    },
    {
     "name": "stdout",
     "output_type": "stream",
     "text": [
      "[CV 5/5] END algorithm=SAMME.R, learning_rate=0.1, n_estimators=100;, score=0.355 total time=   6.5s\n"
     ]
    },
    {
     "name": "stderr",
     "output_type": "stream",
     "text": [
      "C:\\Users\\learo\\AppData\\Local\\Packages\\PythonSoftwareFoundation.Python.3.12_qbz5n2kfra8p0\\LocalCache\\local-packages\\Python312\\site-packages\\sklearn\\ensemble\\_weight_boosting.py:527: FutureWarning: The SAMME.R algorithm (the default) is deprecated and will be removed in 1.6. Use the SAMME algorithm to circumvent this warning.\n",
      "  warnings.warn(\n"
     ]
    },
    {
     "name": "stdout",
     "output_type": "stream",
     "text": [
      "[CV 1/5] END algorithm=SAMME.R, learning_rate=0.1, n_estimators=150;, score=0.362 total time=   9.5s\n"
     ]
    },
    {
     "name": "stderr",
     "output_type": "stream",
     "text": [
      "C:\\Users\\learo\\AppData\\Local\\Packages\\PythonSoftwareFoundation.Python.3.12_qbz5n2kfra8p0\\LocalCache\\local-packages\\Python312\\site-packages\\sklearn\\ensemble\\_weight_boosting.py:527: FutureWarning: The SAMME.R algorithm (the default) is deprecated and will be removed in 1.6. Use the SAMME algorithm to circumvent this warning.\n",
      "  warnings.warn(\n"
     ]
    },
    {
     "name": "stdout",
     "output_type": "stream",
     "text": [
      "[CV 2/5] END algorithm=SAMME.R, learning_rate=0.1, n_estimators=150;, score=0.365 total time=  10.2s\n"
     ]
    },
    {
     "name": "stderr",
     "output_type": "stream",
     "text": [
      "C:\\Users\\learo\\AppData\\Local\\Packages\\PythonSoftwareFoundation.Python.3.12_qbz5n2kfra8p0\\LocalCache\\local-packages\\Python312\\site-packages\\sklearn\\ensemble\\_weight_boosting.py:527: FutureWarning: The SAMME.R algorithm (the default) is deprecated and will be removed in 1.6. Use the SAMME algorithm to circumvent this warning.\n",
      "  warnings.warn(\n"
     ]
    },
    {
     "name": "stdout",
     "output_type": "stream",
     "text": [
      "[CV 3/5] END algorithm=SAMME.R, learning_rate=0.1, n_estimators=150;, score=0.363 total time=  10.1s\n"
     ]
    },
    {
     "name": "stderr",
     "output_type": "stream",
     "text": [
      "C:\\Users\\learo\\AppData\\Local\\Packages\\PythonSoftwareFoundation.Python.3.12_qbz5n2kfra8p0\\LocalCache\\local-packages\\Python312\\site-packages\\sklearn\\ensemble\\_weight_boosting.py:527: FutureWarning: The SAMME.R algorithm (the default) is deprecated and will be removed in 1.6. Use the SAMME algorithm to circumvent this warning.\n",
      "  warnings.warn(\n"
     ]
    },
    {
     "name": "stdout",
     "output_type": "stream",
     "text": [
      "[CV 4/5] END algorithm=SAMME.R, learning_rate=0.1, n_estimators=150;, score=0.361 total time=   9.8s\n"
     ]
    },
    {
     "name": "stderr",
     "output_type": "stream",
     "text": [
      "C:\\Users\\learo\\AppData\\Local\\Packages\\PythonSoftwareFoundation.Python.3.12_qbz5n2kfra8p0\\LocalCache\\local-packages\\Python312\\site-packages\\sklearn\\ensemble\\_weight_boosting.py:527: FutureWarning: The SAMME.R algorithm (the default) is deprecated and will be removed in 1.6. Use the SAMME algorithm to circumvent this warning.\n",
      "  warnings.warn(\n"
     ]
    },
    {
     "name": "stdout",
     "output_type": "stream",
     "text": [
      "[CV 5/5] END algorithm=SAMME.R, learning_rate=0.1, n_estimators=150;, score=0.364 total time=   9.7s\n"
     ]
    },
    {
     "name": "stderr",
     "output_type": "stream",
     "text": [
      "C:\\Users\\learo\\AppData\\Local\\Packages\\PythonSoftwareFoundation.Python.3.12_qbz5n2kfra8p0\\LocalCache\\local-packages\\Python312\\site-packages\\sklearn\\ensemble\\_weight_boosting.py:527: FutureWarning: The SAMME.R algorithm (the default) is deprecated and will be removed in 1.6. Use the SAMME algorithm to circumvent this warning.\n",
      "  warnings.warn(\n"
     ]
    },
    {
     "name": "stdout",
     "output_type": "stream",
     "text": [
      "[CV 1/5] END algorithm=SAMME.R, learning_rate=0.1, n_estimators=200;, score=0.366 total time=  13.0s\n"
     ]
    },
    {
     "name": "stderr",
     "output_type": "stream",
     "text": [
      "C:\\Users\\learo\\AppData\\Local\\Packages\\PythonSoftwareFoundation.Python.3.12_qbz5n2kfra8p0\\LocalCache\\local-packages\\Python312\\site-packages\\sklearn\\ensemble\\_weight_boosting.py:527: FutureWarning: The SAMME.R algorithm (the default) is deprecated and will be removed in 1.6. Use the SAMME algorithm to circumvent this warning.\n",
      "  warnings.warn(\n"
     ]
    },
    {
     "name": "stdout",
     "output_type": "stream",
     "text": [
      "[CV 2/5] END algorithm=SAMME.R, learning_rate=0.1, n_estimators=200;, score=0.372 total time=  13.1s\n"
     ]
    },
    {
     "name": "stderr",
     "output_type": "stream",
     "text": [
      "C:\\Users\\learo\\AppData\\Local\\Packages\\PythonSoftwareFoundation.Python.3.12_qbz5n2kfra8p0\\LocalCache\\local-packages\\Python312\\site-packages\\sklearn\\ensemble\\_weight_boosting.py:527: FutureWarning: The SAMME.R algorithm (the default) is deprecated and will be removed in 1.6. Use the SAMME algorithm to circumvent this warning.\n",
      "  warnings.warn(\n"
     ]
    },
    {
     "name": "stdout",
     "output_type": "stream",
     "text": [
      "[CV 3/5] END algorithm=SAMME.R, learning_rate=0.1, n_estimators=200;, score=0.366 total time=  13.1s\n"
     ]
    },
    {
     "name": "stderr",
     "output_type": "stream",
     "text": [
      "C:\\Users\\learo\\AppData\\Local\\Packages\\PythonSoftwareFoundation.Python.3.12_qbz5n2kfra8p0\\LocalCache\\local-packages\\Python312\\site-packages\\sklearn\\ensemble\\_weight_boosting.py:527: FutureWarning: The SAMME.R algorithm (the default) is deprecated and will be removed in 1.6. Use the SAMME algorithm to circumvent this warning.\n",
      "  warnings.warn(\n"
     ]
    },
    {
     "name": "stdout",
     "output_type": "stream",
     "text": [
      "[CV 4/5] END algorithm=SAMME.R, learning_rate=0.1, n_estimators=200;, score=0.366 total time=  13.0s\n"
     ]
    },
    {
     "name": "stderr",
     "output_type": "stream",
     "text": [
      "C:\\Users\\learo\\AppData\\Local\\Packages\\PythonSoftwareFoundation.Python.3.12_qbz5n2kfra8p0\\LocalCache\\local-packages\\Python312\\site-packages\\sklearn\\ensemble\\_weight_boosting.py:527: FutureWarning: The SAMME.R algorithm (the default) is deprecated and will be removed in 1.6. Use the SAMME algorithm to circumvent this warning.\n",
      "  warnings.warn(\n"
     ]
    },
    {
     "name": "stdout",
     "output_type": "stream",
     "text": [
      "[CV 5/5] END algorithm=SAMME.R, learning_rate=0.1, n_estimators=200;, score=0.368 total time=  13.0s\n"
     ]
    },
    {
     "name": "stderr",
     "output_type": "stream",
     "text": [
      "C:\\Users\\learo\\AppData\\Local\\Packages\\PythonSoftwareFoundation.Python.3.12_qbz5n2kfra8p0\\LocalCache\\local-packages\\Python312\\site-packages\\sklearn\\ensemble\\_weight_boosting.py:527: FutureWarning: The SAMME.R algorithm (the default) is deprecated and will be removed in 1.6. Use the SAMME algorithm to circumvent this warning.\n",
      "  warnings.warn(\n"
     ]
    },
    {
     "name": "stdout",
     "output_type": "stream",
     "text": [
      "[CV 1/5] END algorithm=SAMME.R, learning_rate=0.325, n_estimators=50;, score=0.365 total time=   3.2s\n"
     ]
    },
    {
     "name": "stderr",
     "output_type": "stream",
     "text": [
      "C:\\Users\\learo\\AppData\\Local\\Packages\\PythonSoftwareFoundation.Python.3.12_qbz5n2kfra8p0\\LocalCache\\local-packages\\Python312\\site-packages\\sklearn\\ensemble\\_weight_boosting.py:527: FutureWarning: The SAMME.R algorithm (the default) is deprecated and will be removed in 1.6. Use the SAMME algorithm to circumvent this warning.\n",
      "  warnings.warn(\n"
     ]
    },
    {
     "name": "stdout",
     "output_type": "stream",
     "text": [
      "[CV 2/5] END algorithm=SAMME.R, learning_rate=0.325, n_estimators=50;, score=0.370 total time=   3.2s\n"
     ]
    },
    {
     "name": "stderr",
     "output_type": "stream",
     "text": [
      "C:\\Users\\learo\\AppData\\Local\\Packages\\PythonSoftwareFoundation.Python.3.12_qbz5n2kfra8p0\\LocalCache\\local-packages\\Python312\\site-packages\\sklearn\\ensemble\\_weight_boosting.py:527: FutureWarning: The SAMME.R algorithm (the default) is deprecated and will be removed in 1.6. Use the SAMME algorithm to circumvent this warning.\n",
      "  warnings.warn(\n"
     ]
    },
    {
     "name": "stdout",
     "output_type": "stream",
     "text": [
      "[CV 3/5] END algorithm=SAMME.R, learning_rate=0.325, n_estimators=50;, score=0.366 total time=   3.3s\n"
     ]
    },
    {
     "name": "stderr",
     "output_type": "stream",
     "text": [
      "C:\\Users\\learo\\AppData\\Local\\Packages\\PythonSoftwareFoundation.Python.3.12_qbz5n2kfra8p0\\LocalCache\\local-packages\\Python312\\site-packages\\sklearn\\ensemble\\_weight_boosting.py:527: FutureWarning: The SAMME.R algorithm (the default) is deprecated and will be removed in 1.6. Use the SAMME algorithm to circumvent this warning.\n",
      "  warnings.warn(\n"
     ]
    },
    {
     "name": "stdout",
     "output_type": "stream",
     "text": [
      "[CV 4/5] END algorithm=SAMME.R, learning_rate=0.325, n_estimators=50;, score=0.365 total time=   3.3s\n"
     ]
    },
    {
     "name": "stderr",
     "output_type": "stream",
     "text": [
      "C:\\Users\\learo\\AppData\\Local\\Packages\\PythonSoftwareFoundation.Python.3.12_qbz5n2kfra8p0\\LocalCache\\local-packages\\Python312\\site-packages\\sklearn\\ensemble\\_weight_boosting.py:527: FutureWarning: The SAMME.R algorithm (the default) is deprecated and will be removed in 1.6. Use the SAMME algorithm to circumvent this warning.\n",
      "  warnings.warn(\n"
     ]
    },
    {
     "name": "stdout",
     "output_type": "stream",
     "text": [
      "[CV 5/5] END algorithm=SAMME.R, learning_rate=0.325, n_estimators=50;, score=0.367 total time=   3.2s\n"
     ]
    },
    {
     "name": "stderr",
     "output_type": "stream",
     "text": [
      "C:\\Users\\learo\\AppData\\Local\\Packages\\PythonSoftwareFoundation.Python.3.12_qbz5n2kfra8p0\\LocalCache\\local-packages\\Python312\\site-packages\\sklearn\\ensemble\\_weight_boosting.py:527: FutureWarning: The SAMME.R algorithm (the default) is deprecated and will be removed in 1.6. Use the SAMME algorithm to circumvent this warning.\n",
      "  warnings.warn(\n"
     ]
    },
    {
     "name": "stdout",
     "output_type": "stream",
     "text": [
      "[CV 1/5] END algorithm=SAMME.R, learning_rate=0.325, n_estimators=100;, score=0.376 total time=   6.4s\n"
     ]
    },
    {
     "name": "stderr",
     "output_type": "stream",
     "text": [
      "C:\\Users\\learo\\AppData\\Local\\Packages\\PythonSoftwareFoundation.Python.3.12_qbz5n2kfra8p0\\LocalCache\\local-packages\\Python312\\site-packages\\sklearn\\ensemble\\_weight_boosting.py:527: FutureWarning: The SAMME.R algorithm (the default) is deprecated and will be removed in 1.6. Use the SAMME algorithm to circumvent this warning.\n",
      "  warnings.warn(\n"
     ]
    },
    {
     "name": "stdout",
     "output_type": "stream",
     "text": [
      "[CV 2/5] END algorithm=SAMME.R, learning_rate=0.325, n_estimators=100;, score=0.379 total time=   6.4s\n"
     ]
    },
    {
     "name": "stderr",
     "output_type": "stream",
     "text": [
      "C:\\Users\\learo\\AppData\\Local\\Packages\\PythonSoftwareFoundation.Python.3.12_qbz5n2kfra8p0\\LocalCache\\local-packages\\Python312\\site-packages\\sklearn\\ensemble\\_weight_boosting.py:527: FutureWarning: The SAMME.R algorithm (the default) is deprecated and will be removed in 1.6. Use the SAMME algorithm to circumvent this warning.\n",
      "  warnings.warn(\n"
     ]
    },
    {
     "name": "stdout",
     "output_type": "stream",
     "text": [
      "[CV 3/5] END algorithm=SAMME.R, learning_rate=0.325, n_estimators=100;, score=0.376 total time=   6.5s\n"
     ]
    },
    {
     "name": "stderr",
     "output_type": "stream",
     "text": [
      "C:\\Users\\learo\\AppData\\Local\\Packages\\PythonSoftwareFoundation.Python.3.12_qbz5n2kfra8p0\\LocalCache\\local-packages\\Python312\\site-packages\\sklearn\\ensemble\\_weight_boosting.py:527: FutureWarning: The SAMME.R algorithm (the default) is deprecated and will be removed in 1.6. Use the SAMME algorithm to circumvent this warning.\n",
      "  warnings.warn(\n"
     ]
    },
    {
     "name": "stdout",
     "output_type": "stream",
     "text": [
      "[CV 4/5] END algorithm=SAMME.R, learning_rate=0.325, n_estimators=100;, score=0.377 total time=   6.5s\n"
     ]
    },
    {
     "name": "stderr",
     "output_type": "stream",
     "text": [
      "C:\\Users\\learo\\AppData\\Local\\Packages\\PythonSoftwareFoundation.Python.3.12_qbz5n2kfra8p0\\LocalCache\\local-packages\\Python312\\site-packages\\sklearn\\ensemble\\_weight_boosting.py:527: FutureWarning: The SAMME.R algorithm (the default) is deprecated and will be removed in 1.6. Use the SAMME algorithm to circumvent this warning.\n",
      "  warnings.warn(\n"
     ]
    },
    {
     "name": "stdout",
     "output_type": "stream",
     "text": [
      "[CV 5/5] END algorithm=SAMME.R, learning_rate=0.325, n_estimators=100;, score=0.372 total time=   6.5s\n"
     ]
    },
    {
     "name": "stderr",
     "output_type": "stream",
     "text": [
      "C:\\Users\\learo\\AppData\\Local\\Packages\\PythonSoftwareFoundation.Python.3.12_qbz5n2kfra8p0\\LocalCache\\local-packages\\Python312\\site-packages\\sklearn\\ensemble\\_weight_boosting.py:527: FutureWarning: The SAMME.R algorithm (the default) is deprecated and will be removed in 1.6. Use the SAMME algorithm to circumvent this warning.\n",
      "  warnings.warn(\n"
     ]
    },
    {
     "name": "stdout",
     "output_type": "stream",
     "text": [
      "[CV 1/5] END algorithm=SAMME.R, learning_rate=0.325, n_estimators=150;, score=0.379 total time=   9.6s\n"
     ]
    },
    {
     "name": "stderr",
     "output_type": "stream",
     "text": [
      "C:\\Users\\learo\\AppData\\Local\\Packages\\PythonSoftwareFoundation.Python.3.12_qbz5n2kfra8p0\\LocalCache\\local-packages\\Python312\\site-packages\\sklearn\\ensemble\\_weight_boosting.py:527: FutureWarning: The SAMME.R algorithm (the default) is deprecated and will be removed in 1.6. Use the SAMME algorithm to circumvent this warning.\n",
      "  warnings.warn(\n"
     ]
    },
    {
     "name": "stdout",
     "output_type": "stream",
     "text": [
      "[CV 2/5] END algorithm=SAMME.R, learning_rate=0.325, n_estimators=150;, score=0.382 total time=   9.7s\n"
     ]
    },
    {
     "name": "stderr",
     "output_type": "stream",
     "text": [
      "C:\\Users\\learo\\AppData\\Local\\Packages\\PythonSoftwareFoundation.Python.3.12_qbz5n2kfra8p0\\LocalCache\\local-packages\\Python312\\site-packages\\sklearn\\ensemble\\_weight_boosting.py:527: FutureWarning: The SAMME.R algorithm (the default) is deprecated and will be removed in 1.6. Use the SAMME algorithm to circumvent this warning.\n",
      "  warnings.warn(\n"
     ]
    },
    {
     "name": "stdout",
     "output_type": "stream",
     "text": [
      "[CV 3/5] END algorithm=SAMME.R, learning_rate=0.325, n_estimators=150;, score=0.379 total time=   9.8s\n"
     ]
    },
    {
     "name": "stderr",
     "output_type": "stream",
     "text": [
      "C:\\Users\\learo\\AppData\\Local\\Packages\\PythonSoftwareFoundation.Python.3.12_qbz5n2kfra8p0\\LocalCache\\local-packages\\Python312\\site-packages\\sklearn\\ensemble\\_weight_boosting.py:527: FutureWarning: The SAMME.R algorithm (the default) is deprecated and will be removed in 1.6. Use the SAMME algorithm to circumvent this warning.\n",
      "  warnings.warn(\n"
     ]
    },
    {
     "name": "stdout",
     "output_type": "stream",
     "text": [
      "[CV 4/5] END algorithm=SAMME.R, learning_rate=0.325, n_estimators=150;, score=0.380 total time=   9.9s\n"
     ]
    },
    {
     "name": "stderr",
     "output_type": "stream",
     "text": [
      "C:\\Users\\learo\\AppData\\Local\\Packages\\PythonSoftwareFoundation.Python.3.12_qbz5n2kfra8p0\\LocalCache\\local-packages\\Python312\\site-packages\\sklearn\\ensemble\\_weight_boosting.py:527: FutureWarning: The SAMME.R algorithm (the default) is deprecated and will be removed in 1.6. Use the SAMME algorithm to circumvent this warning.\n",
      "  warnings.warn(\n"
     ]
    },
    {
     "name": "stdout",
     "output_type": "stream",
     "text": [
      "[CV 5/5] END algorithm=SAMME.R, learning_rate=0.325, n_estimators=150;, score=0.378 total time=   9.8s\n"
     ]
    },
    {
     "name": "stderr",
     "output_type": "stream",
     "text": [
      "C:\\Users\\learo\\AppData\\Local\\Packages\\PythonSoftwareFoundation.Python.3.12_qbz5n2kfra8p0\\LocalCache\\local-packages\\Python312\\site-packages\\sklearn\\ensemble\\_weight_boosting.py:527: FutureWarning: The SAMME.R algorithm (the default) is deprecated and will be removed in 1.6. Use the SAMME algorithm to circumvent this warning.\n",
      "  warnings.warn(\n"
     ]
    },
    {
     "name": "stdout",
     "output_type": "stream",
     "text": [
      "[CV 1/5] END algorithm=SAMME.R, learning_rate=0.325, n_estimators=200;, score=0.381 total time=  12.9s\n"
     ]
    },
    {
     "name": "stderr",
     "output_type": "stream",
     "text": [
      "C:\\Users\\learo\\AppData\\Local\\Packages\\PythonSoftwareFoundation.Python.3.12_qbz5n2kfra8p0\\LocalCache\\local-packages\\Python312\\site-packages\\sklearn\\ensemble\\_weight_boosting.py:527: FutureWarning: The SAMME.R algorithm (the default) is deprecated and will be removed in 1.6. Use the SAMME algorithm to circumvent this warning.\n",
      "  warnings.warn(\n"
     ]
    },
    {
     "name": "stdout",
     "output_type": "stream",
     "text": [
      "[CV 2/5] END algorithm=SAMME.R, learning_rate=0.325, n_estimators=200;, score=0.385 total time=  13.3s\n"
     ]
    },
    {
     "name": "stderr",
     "output_type": "stream",
     "text": [
      "C:\\Users\\learo\\AppData\\Local\\Packages\\PythonSoftwareFoundation.Python.3.12_qbz5n2kfra8p0\\LocalCache\\local-packages\\Python312\\site-packages\\sklearn\\ensemble\\_weight_boosting.py:527: FutureWarning: The SAMME.R algorithm (the default) is deprecated and will be removed in 1.6. Use the SAMME algorithm to circumvent this warning.\n",
      "  warnings.warn(\n"
     ]
    },
    {
     "name": "stdout",
     "output_type": "stream",
     "text": [
      "[CV 3/5] END algorithm=SAMME.R, learning_rate=0.325, n_estimators=200;, score=0.382 total time=  13.3s\n"
     ]
    },
    {
     "name": "stderr",
     "output_type": "stream",
     "text": [
      "C:\\Users\\learo\\AppData\\Local\\Packages\\PythonSoftwareFoundation.Python.3.12_qbz5n2kfra8p0\\LocalCache\\local-packages\\Python312\\site-packages\\sklearn\\ensemble\\_weight_boosting.py:527: FutureWarning: The SAMME.R algorithm (the default) is deprecated and will be removed in 1.6. Use the SAMME algorithm to circumvent this warning.\n",
      "  warnings.warn(\n"
     ]
    },
    {
     "name": "stdout",
     "output_type": "stream",
     "text": [
      "[CV 4/5] END algorithm=SAMME.R, learning_rate=0.325, n_estimators=200;, score=0.380 total time=  13.4s\n"
     ]
    },
    {
     "name": "stderr",
     "output_type": "stream",
     "text": [
      "C:\\Users\\learo\\AppData\\Local\\Packages\\PythonSoftwareFoundation.Python.3.12_qbz5n2kfra8p0\\LocalCache\\local-packages\\Python312\\site-packages\\sklearn\\ensemble\\_weight_boosting.py:527: FutureWarning: The SAMME.R algorithm (the default) is deprecated and will be removed in 1.6. Use the SAMME algorithm to circumvent this warning.\n",
      "  warnings.warn(\n"
     ]
    },
    {
     "name": "stdout",
     "output_type": "stream",
     "text": [
      "[CV 5/5] END algorithm=SAMME.R, learning_rate=0.325, n_estimators=200;, score=0.380 total time=  13.2s\n"
     ]
    },
    {
     "name": "stderr",
     "output_type": "stream",
     "text": [
      "C:\\Users\\learo\\AppData\\Local\\Packages\\PythonSoftwareFoundation.Python.3.12_qbz5n2kfra8p0\\LocalCache\\local-packages\\Python312\\site-packages\\sklearn\\ensemble\\_weight_boosting.py:527: FutureWarning: The SAMME.R algorithm (the default) is deprecated and will be removed in 1.6. Use the SAMME algorithm to circumvent this warning.\n",
      "  warnings.warn(\n"
     ]
    },
    {
     "name": "stdout",
     "output_type": "stream",
     "text": [
      "[CV 1/5] END algorithm=SAMME.R, learning_rate=0.55, n_estimators=50;, score=0.378 total time=   3.2s\n"
     ]
    },
    {
     "name": "stderr",
     "output_type": "stream",
     "text": [
      "C:\\Users\\learo\\AppData\\Local\\Packages\\PythonSoftwareFoundation.Python.3.12_qbz5n2kfra8p0\\LocalCache\\local-packages\\Python312\\site-packages\\sklearn\\ensemble\\_weight_boosting.py:527: FutureWarning: The SAMME.R algorithm (the default) is deprecated and will be removed in 1.6. Use the SAMME algorithm to circumvent this warning.\n",
      "  warnings.warn(\n"
     ]
    },
    {
     "name": "stdout",
     "output_type": "stream",
     "text": [
      "[CV 2/5] END algorithm=SAMME.R, learning_rate=0.55, n_estimators=50;, score=0.380 total time=   3.3s\n"
     ]
    },
    {
     "name": "stderr",
     "output_type": "stream",
     "text": [
      "C:\\Users\\learo\\AppData\\Local\\Packages\\PythonSoftwareFoundation.Python.3.12_qbz5n2kfra8p0\\LocalCache\\local-packages\\Python312\\site-packages\\sklearn\\ensemble\\_weight_boosting.py:527: FutureWarning: The SAMME.R algorithm (the default) is deprecated and will be removed in 1.6. Use the SAMME algorithm to circumvent this warning.\n",
      "  warnings.warn(\n"
     ]
    },
    {
     "name": "stdout",
     "output_type": "stream",
     "text": [
      "[CV 3/5] END algorithm=SAMME.R, learning_rate=0.55, n_estimators=50;, score=0.378 total time=   3.2s\n"
     ]
    },
    {
     "name": "stderr",
     "output_type": "stream",
     "text": [
      "C:\\Users\\learo\\AppData\\Local\\Packages\\PythonSoftwareFoundation.Python.3.12_qbz5n2kfra8p0\\LocalCache\\local-packages\\Python312\\site-packages\\sklearn\\ensemble\\_weight_boosting.py:527: FutureWarning: The SAMME.R algorithm (the default) is deprecated and will be removed in 1.6. Use the SAMME algorithm to circumvent this warning.\n",
      "  warnings.warn(\n"
     ]
    },
    {
     "name": "stdout",
     "output_type": "stream",
     "text": [
      "[CV 4/5] END algorithm=SAMME.R, learning_rate=0.55, n_estimators=50;, score=0.378 total time=   3.3s\n"
     ]
    },
    {
     "name": "stderr",
     "output_type": "stream",
     "text": [
      "C:\\Users\\learo\\AppData\\Local\\Packages\\PythonSoftwareFoundation.Python.3.12_qbz5n2kfra8p0\\LocalCache\\local-packages\\Python312\\site-packages\\sklearn\\ensemble\\_weight_boosting.py:527: FutureWarning: The SAMME.R algorithm (the default) is deprecated and will be removed in 1.6. Use the SAMME algorithm to circumvent this warning.\n",
      "  warnings.warn(\n"
     ]
    },
    {
     "name": "stdout",
     "output_type": "stream",
     "text": [
      "[CV 5/5] END algorithm=SAMME.R, learning_rate=0.55, n_estimators=50;, score=0.376 total time=   3.2s\n"
     ]
    },
    {
     "name": "stderr",
     "output_type": "stream",
     "text": [
      "C:\\Users\\learo\\AppData\\Local\\Packages\\PythonSoftwareFoundation.Python.3.12_qbz5n2kfra8p0\\LocalCache\\local-packages\\Python312\\site-packages\\sklearn\\ensemble\\_weight_boosting.py:527: FutureWarning: The SAMME.R algorithm (the default) is deprecated and will be removed in 1.6. Use the SAMME algorithm to circumvent this warning.\n",
      "  warnings.warn(\n"
     ]
    },
    {
     "name": "stdout",
     "output_type": "stream",
     "text": [
      "[CV 1/5] END algorithm=SAMME.R, learning_rate=0.55, n_estimators=100;, score=0.382 total time=   6.6s\n"
     ]
    },
    {
     "name": "stderr",
     "output_type": "stream",
     "text": [
      "C:\\Users\\learo\\AppData\\Local\\Packages\\PythonSoftwareFoundation.Python.3.12_qbz5n2kfra8p0\\LocalCache\\local-packages\\Python312\\site-packages\\sklearn\\ensemble\\_weight_boosting.py:527: FutureWarning: The SAMME.R algorithm (the default) is deprecated and will be removed in 1.6. Use the SAMME algorithm to circumvent this warning.\n",
      "  warnings.warn(\n"
     ]
    },
    {
     "name": "stdout",
     "output_type": "stream",
     "text": [
      "[CV 2/5] END algorithm=SAMME.R, learning_rate=0.55, n_estimators=100;, score=0.384 total time=   6.4s\n"
     ]
    },
    {
     "name": "stderr",
     "output_type": "stream",
     "text": [
      "C:\\Users\\learo\\AppData\\Local\\Packages\\PythonSoftwareFoundation.Python.3.12_qbz5n2kfra8p0\\LocalCache\\local-packages\\Python312\\site-packages\\sklearn\\ensemble\\_weight_boosting.py:527: FutureWarning: The SAMME.R algorithm (the default) is deprecated and will be removed in 1.6. Use the SAMME algorithm to circumvent this warning.\n",
      "  warnings.warn(\n"
     ]
    },
    {
     "name": "stdout",
     "output_type": "stream",
     "text": [
      "[CV 3/5] END algorithm=SAMME.R, learning_rate=0.55, n_estimators=100;, score=0.384 total time=   6.5s\n"
     ]
    },
    {
     "name": "stderr",
     "output_type": "stream",
     "text": [
      "C:\\Users\\learo\\AppData\\Local\\Packages\\PythonSoftwareFoundation.Python.3.12_qbz5n2kfra8p0\\LocalCache\\local-packages\\Python312\\site-packages\\sklearn\\ensemble\\_weight_boosting.py:527: FutureWarning: The SAMME.R algorithm (the default) is deprecated and will be removed in 1.6. Use the SAMME algorithm to circumvent this warning.\n",
      "  warnings.warn(\n"
     ]
    },
    {
     "name": "stdout",
     "output_type": "stream",
     "text": [
      "[CV 4/5] END algorithm=SAMME.R, learning_rate=0.55, n_estimators=100;, score=0.381 total time=   6.5s\n"
     ]
    },
    {
     "name": "stderr",
     "output_type": "stream",
     "text": [
      "C:\\Users\\learo\\AppData\\Local\\Packages\\PythonSoftwareFoundation.Python.3.12_qbz5n2kfra8p0\\LocalCache\\local-packages\\Python312\\site-packages\\sklearn\\ensemble\\_weight_boosting.py:527: FutureWarning: The SAMME.R algorithm (the default) is deprecated and will be removed in 1.6. Use the SAMME algorithm to circumvent this warning.\n",
      "  warnings.warn(\n"
     ]
    },
    {
     "name": "stdout",
     "output_type": "stream",
     "text": [
      "[CV 5/5] END algorithm=SAMME.R, learning_rate=0.55, n_estimators=100;, score=0.380 total time=   6.4s\n"
     ]
    },
    {
     "name": "stderr",
     "output_type": "stream",
     "text": [
      "C:\\Users\\learo\\AppData\\Local\\Packages\\PythonSoftwareFoundation.Python.3.12_qbz5n2kfra8p0\\LocalCache\\local-packages\\Python312\\site-packages\\sklearn\\ensemble\\_weight_boosting.py:527: FutureWarning: The SAMME.R algorithm (the default) is deprecated and will be removed in 1.6. Use the SAMME algorithm to circumvent this warning.\n",
      "  warnings.warn(\n"
     ]
    },
    {
     "name": "stdout",
     "output_type": "stream",
     "text": [
      "[CV 1/5] END algorithm=SAMME.R, learning_rate=0.55, n_estimators=150;, score=0.385 total time=   9.6s\n"
     ]
    },
    {
     "name": "stderr",
     "output_type": "stream",
     "text": [
      "C:\\Users\\learo\\AppData\\Local\\Packages\\PythonSoftwareFoundation.Python.3.12_qbz5n2kfra8p0\\LocalCache\\local-packages\\Python312\\site-packages\\sklearn\\ensemble\\_weight_boosting.py:527: FutureWarning: The SAMME.R algorithm (the default) is deprecated and will be removed in 1.6. Use the SAMME algorithm to circumvent this warning.\n",
      "  warnings.warn(\n"
     ]
    },
    {
     "name": "stdout",
     "output_type": "stream",
     "text": [
      "[CV 2/5] END algorithm=SAMME.R, learning_rate=0.55, n_estimators=150;, score=0.386 total time=   9.8s\n"
     ]
    },
    {
     "name": "stderr",
     "output_type": "stream",
     "text": [
      "C:\\Users\\learo\\AppData\\Local\\Packages\\PythonSoftwareFoundation.Python.3.12_qbz5n2kfra8p0\\LocalCache\\local-packages\\Python312\\site-packages\\sklearn\\ensemble\\_weight_boosting.py:527: FutureWarning: The SAMME.R algorithm (the default) is deprecated and will be removed in 1.6. Use the SAMME algorithm to circumvent this warning.\n",
      "  warnings.warn(\n"
     ]
    },
    {
     "name": "stdout",
     "output_type": "stream",
     "text": [
      "[CV 3/5] END algorithm=SAMME.R, learning_rate=0.55, n_estimators=150;, score=0.385 total time=   9.9s\n"
     ]
    },
    {
     "name": "stderr",
     "output_type": "stream",
     "text": [
      "C:\\Users\\learo\\AppData\\Local\\Packages\\PythonSoftwareFoundation.Python.3.12_qbz5n2kfra8p0\\LocalCache\\local-packages\\Python312\\site-packages\\sklearn\\ensemble\\_weight_boosting.py:527: FutureWarning: The SAMME.R algorithm (the default) is deprecated and will be removed in 1.6. Use the SAMME algorithm to circumvent this warning.\n",
      "  warnings.warn(\n"
     ]
    },
    {
     "name": "stdout",
     "output_type": "stream",
     "text": [
      "[CV 4/5] END algorithm=SAMME.R, learning_rate=0.55, n_estimators=150;, score=0.384 total time=   9.8s\n"
     ]
    },
    {
     "name": "stderr",
     "output_type": "stream",
     "text": [
      "C:\\Users\\learo\\AppData\\Local\\Packages\\PythonSoftwareFoundation.Python.3.12_qbz5n2kfra8p0\\LocalCache\\local-packages\\Python312\\site-packages\\sklearn\\ensemble\\_weight_boosting.py:527: FutureWarning: The SAMME.R algorithm (the default) is deprecated and will be removed in 1.6. Use the SAMME algorithm to circumvent this warning.\n",
      "  warnings.warn(\n"
     ]
    },
    {
     "name": "stdout",
     "output_type": "stream",
     "text": [
      "[CV 5/5] END algorithm=SAMME.R, learning_rate=0.55, n_estimators=150;, score=0.382 total time=  10.0s\n"
     ]
    },
    {
     "name": "stderr",
     "output_type": "stream",
     "text": [
      "C:\\Users\\learo\\AppData\\Local\\Packages\\PythonSoftwareFoundation.Python.3.12_qbz5n2kfra8p0\\LocalCache\\local-packages\\Python312\\site-packages\\sklearn\\ensemble\\_weight_boosting.py:527: FutureWarning: The SAMME.R algorithm (the default) is deprecated and will be removed in 1.6. Use the SAMME algorithm to circumvent this warning.\n",
      "  warnings.warn(\n"
     ]
    },
    {
     "name": "stdout",
     "output_type": "stream",
     "text": [
      "[CV 1/5] END algorithm=SAMME.R, learning_rate=0.55, n_estimators=200;, score=0.385 total time=  12.8s\n"
     ]
    },
    {
     "name": "stderr",
     "output_type": "stream",
     "text": [
      "C:\\Users\\learo\\AppData\\Local\\Packages\\PythonSoftwareFoundation.Python.3.12_qbz5n2kfra8p0\\LocalCache\\local-packages\\Python312\\site-packages\\sklearn\\ensemble\\_weight_boosting.py:527: FutureWarning: The SAMME.R algorithm (the default) is deprecated and will be removed in 1.6. Use the SAMME algorithm to circumvent this warning.\n",
      "  warnings.warn(\n"
     ]
    },
    {
     "name": "stdout",
     "output_type": "stream",
     "text": [
      "[CV 2/5] END algorithm=SAMME.R, learning_rate=0.55, n_estimators=200;, score=0.386 total time=  12.9s\n"
     ]
    },
    {
     "name": "stderr",
     "output_type": "stream",
     "text": [
      "C:\\Users\\learo\\AppData\\Local\\Packages\\PythonSoftwareFoundation.Python.3.12_qbz5n2kfra8p0\\LocalCache\\local-packages\\Python312\\site-packages\\sklearn\\ensemble\\_weight_boosting.py:527: FutureWarning: The SAMME.R algorithm (the default) is deprecated and will be removed in 1.6. Use the SAMME algorithm to circumvent this warning.\n",
      "  warnings.warn(\n"
     ]
    },
    {
     "name": "stdout",
     "output_type": "stream",
     "text": [
      "[CV 3/5] END algorithm=SAMME.R, learning_rate=0.55, n_estimators=200;, score=0.386 total time=  12.9s\n"
     ]
    },
    {
     "name": "stderr",
     "output_type": "stream",
     "text": [
      "C:\\Users\\learo\\AppData\\Local\\Packages\\PythonSoftwareFoundation.Python.3.12_qbz5n2kfra8p0\\LocalCache\\local-packages\\Python312\\site-packages\\sklearn\\ensemble\\_weight_boosting.py:527: FutureWarning: The SAMME.R algorithm (the default) is deprecated and will be removed in 1.6. Use the SAMME algorithm to circumvent this warning.\n",
      "  warnings.warn(\n"
     ]
    },
    {
     "name": "stdout",
     "output_type": "stream",
     "text": [
      "[CV 4/5] END algorithm=SAMME.R, learning_rate=0.55, n_estimators=200;, score=0.383 total time=  12.9s\n"
     ]
    },
    {
     "name": "stderr",
     "output_type": "stream",
     "text": [
      "C:\\Users\\learo\\AppData\\Local\\Packages\\PythonSoftwareFoundation.Python.3.12_qbz5n2kfra8p0\\LocalCache\\local-packages\\Python312\\site-packages\\sklearn\\ensemble\\_weight_boosting.py:527: FutureWarning: The SAMME.R algorithm (the default) is deprecated and will be removed in 1.6. Use the SAMME algorithm to circumvent this warning.\n",
      "  warnings.warn(\n"
     ]
    },
    {
     "name": "stdout",
     "output_type": "stream",
     "text": [
      "[CV 5/5] END algorithm=SAMME.R, learning_rate=0.55, n_estimators=200;, score=0.382 total time=  12.9s\n"
     ]
    },
    {
     "name": "stderr",
     "output_type": "stream",
     "text": [
      "C:\\Users\\learo\\AppData\\Local\\Packages\\PythonSoftwareFoundation.Python.3.12_qbz5n2kfra8p0\\LocalCache\\local-packages\\Python312\\site-packages\\sklearn\\ensemble\\_weight_boosting.py:527: FutureWarning: The SAMME.R algorithm (the default) is deprecated and will be removed in 1.6. Use the SAMME algorithm to circumvent this warning.\n",
      "  warnings.warn(\n"
     ]
    },
    {
     "name": "stdout",
     "output_type": "stream",
     "text": [
      "[CV 1/5] END algorithm=SAMME.R, learning_rate=0.775, n_estimators=50;, score=0.387 total time=   3.2s\n"
     ]
    },
    {
     "name": "stderr",
     "output_type": "stream",
     "text": [
      "C:\\Users\\learo\\AppData\\Local\\Packages\\PythonSoftwareFoundation.Python.3.12_qbz5n2kfra8p0\\LocalCache\\local-packages\\Python312\\site-packages\\sklearn\\ensemble\\_weight_boosting.py:527: FutureWarning: The SAMME.R algorithm (the default) is deprecated and will be removed in 1.6. Use the SAMME algorithm to circumvent this warning.\n",
      "  warnings.warn(\n"
     ]
    },
    {
     "name": "stdout",
     "output_type": "stream",
     "text": [
      "[CV 2/5] END algorithm=SAMME.R, learning_rate=0.775, n_estimators=50;, score=0.384 total time=   3.3s\n"
     ]
    },
    {
     "name": "stderr",
     "output_type": "stream",
     "text": [
      "C:\\Users\\learo\\AppData\\Local\\Packages\\PythonSoftwareFoundation.Python.3.12_qbz5n2kfra8p0\\LocalCache\\local-packages\\Python312\\site-packages\\sklearn\\ensemble\\_weight_boosting.py:527: FutureWarning: The SAMME.R algorithm (the default) is deprecated and will be removed in 1.6. Use the SAMME algorithm to circumvent this warning.\n",
      "  warnings.warn(\n"
     ]
    },
    {
     "name": "stdout",
     "output_type": "stream",
     "text": [
      "[CV 3/5] END algorithm=SAMME.R, learning_rate=0.775, n_estimators=50;, score=0.383 total time=   3.5s\n"
     ]
    },
    {
     "name": "stderr",
     "output_type": "stream",
     "text": [
      "C:\\Users\\learo\\AppData\\Local\\Packages\\PythonSoftwareFoundation.Python.3.12_qbz5n2kfra8p0\\LocalCache\\local-packages\\Python312\\site-packages\\sklearn\\ensemble\\_weight_boosting.py:527: FutureWarning: The SAMME.R algorithm (the default) is deprecated and will be removed in 1.6. Use the SAMME algorithm to circumvent this warning.\n",
      "  warnings.warn(\n"
     ]
    },
    {
     "name": "stdout",
     "output_type": "stream",
     "text": [
      "[CV 4/5] END algorithm=SAMME.R, learning_rate=0.775, n_estimators=50;, score=0.385 total time=   3.3s\n"
     ]
    },
    {
     "name": "stderr",
     "output_type": "stream",
     "text": [
      "C:\\Users\\learo\\AppData\\Local\\Packages\\PythonSoftwareFoundation.Python.3.12_qbz5n2kfra8p0\\LocalCache\\local-packages\\Python312\\site-packages\\sklearn\\ensemble\\_weight_boosting.py:527: FutureWarning: The SAMME.R algorithm (the default) is deprecated and will be removed in 1.6. Use the SAMME algorithm to circumvent this warning.\n",
      "  warnings.warn(\n"
     ]
    },
    {
     "name": "stdout",
     "output_type": "stream",
     "text": [
      "[CV 5/5] END algorithm=SAMME.R, learning_rate=0.775, n_estimators=50;, score=0.384 total time=   3.3s\n"
     ]
    },
    {
     "name": "stderr",
     "output_type": "stream",
     "text": [
      "C:\\Users\\learo\\AppData\\Local\\Packages\\PythonSoftwareFoundation.Python.3.12_qbz5n2kfra8p0\\LocalCache\\local-packages\\Python312\\site-packages\\sklearn\\ensemble\\_weight_boosting.py:527: FutureWarning: The SAMME.R algorithm (the default) is deprecated and will be removed in 1.6. Use the SAMME algorithm to circumvent this warning.\n",
      "  warnings.warn(\n"
     ]
    },
    {
     "name": "stdout",
     "output_type": "stream",
     "text": [
      "[CV 1/5] END algorithm=SAMME.R, learning_rate=0.775, n_estimators=100;, score=0.388 total time=   6.4s\n"
     ]
    },
    {
     "name": "stderr",
     "output_type": "stream",
     "text": [
      "C:\\Users\\learo\\AppData\\Local\\Packages\\PythonSoftwareFoundation.Python.3.12_qbz5n2kfra8p0\\LocalCache\\local-packages\\Python312\\site-packages\\sklearn\\ensemble\\_weight_boosting.py:527: FutureWarning: The SAMME.R algorithm (the default) is deprecated and will be removed in 1.6. Use the SAMME algorithm to circumvent this warning.\n",
      "  warnings.warn(\n"
     ]
    },
    {
     "name": "stdout",
     "output_type": "stream",
     "text": [
      "[CV 2/5] END algorithm=SAMME.R, learning_rate=0.775, n_estimators=100;, score=0.389 total time=   6.5s\n"
     ]
    },
    {
     "name": "stderr",
     "output_type": "stream",
     "text": [
      "C:\\Users\\learo\\AppData\\Local\\Packages\\PythonSoftwareFoundation.Python.3.12_qbz5n2kfra8p0\\LocalCache\\local-packages\\Python312\\site-packages\\sklearn\\ensemble\\_weight_boosting.py:527: FutureWarning: The SAMME.R algorithm (the default) is deprecated and will be removed in 1.6. Use the SAMME algorithm to circumvent this warning.\n",
      "  warnings.warn(\n"
     ]
    },
    {
     "name": "stdout",
     "output_type": "stream",
     "text": [
      "[CV 3/5] END algorithm=SAMME.R, learning_rate=0.775, n_estimators=100;, score=0.386 total time=   6.5s\n"
     ]
    },
    {
     "name": "stderr",
     "output_type": "stream",
     "text": [
      "C:\\Users\\learo\\AppData\\Local\\Packages\\PythonSoftwareFoundation.Python.3.12_qbz5n2kfra8p0\\LocalCache\\local-packages\\Python312\\site-packages\\sklearn\\ensemble\\_weight_boosting.py:527: FutureWarning: The SAMME.R algorithm (the default) is deprecated and will be removed in 1.6. Use the SAMME algorithm to circumvent this warning.\n",
      "  warnings.warn(\n"
     ]
    },
    {
     "name": "stdout",
     "output_type": "stream",
     "text": [
      "[CV 4/5] END algorithm=SAMME.R, learning_rate=0.775, n_estimators=100;, score=0.386 total time=   6.5s\n"
     ]
    },
    {
     "name": "stderr",
     "output_type": "stream",
     "text": [
      "C:\\Users\\learo\\AppData\\Local\\Packages\\PythonSoftwareFoundation.Python.3.12_qbz5n2kfra8p0\\LocalCache\\local-packages\\Python312\\site-packages\\sklearn\\ensemble\\_weight_boosting.py:527: FutureWarning: The SAMME.R algorithm (the default) is deprecated and will be removed in 1.6. Use the SAMME algorithm to circumvent this warning.\n",
      "  warnings.warn(\n"
     ]
    },
    {
     "name": "stdout",
     "output_type": "stream",
     "text": [
      "[CV 5/5] END algorithm=SAMME.R, learning_rate=0.775, n_estimators=100;, score=0.384 total time=   6.5s\n"
     ]
    },
    {
     "name": "stderr",
     "output_type": "stream",
     "text": [
      "C:\\Users\\learo\\AppData\\Local\\Packages\\PythonSoftwareFoundation.Python.3.12_qbz5n2kfra8p0\\LocalCache\\local-packages\\Python312\\site-packages\\sklearn\\ensemble\\_weight_boosting.py:527: FutureWarning: The SAMME.R algorithm (the default) is deprecated and will be removed in 1.6. Use the SAMME algorithm to circumvent this warning.\n",
      "  warnings.warn(\n"
     ]
    },
    {
     "name": "stdout",
     "output_type": "stream",
     "text": [
      "[CV 1/5] END algorithm=SAMME.R, learning_rate=0.775, n_estimators=150;, score=0.387 total time=   9.6s\n"
     ]
    },
    {
     "name": "stderr",
     "output_type": "stream",
     "text": [
      "C:\\Users\\learo\\AppData\\Local\\Packages\\PythonSoftwareFoundation.Python.3.12_qbz5n2kfra8p0\\LocalCache\\local-packages\\Python312\\site-packages\\sklearn\\ensemble\\_weight_boosting.py:527: FutureWarning: The SAMME.R algorithm (the default) is deprecated and will be removed in 1.6. Use the SAMME algorithm to circumvent this warning.\n",
      "  warnings.warn(\n"
     ]
    },
    {
     "name": "stdout",
     "output_type": "stream",
     "text": [
      "[CV 2/5] END algorithm=SAMME.R, learning_rate=0.775, n_estimators=150;, score=0.389 total time=   9.7s\n"
     ]
    },
    {
     "name": "stderr",
     "output_type": "stream",
     "text": [
      "C:\\Users\\learo\\AppData\\Local\\Packages\\PythonSoftwareFoundation.Python.3.12_qbz5n2kfra8p0\\LocalCache\\local-packages\\Python312\\site-packages\\sklearn\\ensemble\\_weight_boosting.py:527: FutureWarning: The SAMME.R algorithm (the default) is deprecated and will be removed in 1.6. Use the SAMME algorithm to circumvent this warning.\n",
      "  warnings.warn(\n"
     ]
    },
    {
     "name": "stdout",
     "output_type": "stream",
     "text": [
      "[CV 3/5] END algorithm=SAMME.R, learning_rate=0.775, n_estimators=150;, score=0.385 total time=   9.7s\n"
     ]
    },
    {
     "name": "stderr",
     "output_type": "stream",
     "text": [
      "C:\\Users\\learo\\AppData\\Local\\Packages\\PythonSoftwareFoundation.Python.3.12_qbz5n2kfra8p0\\LocalCache\\local-packages\\Python312\\site-packages\\sklearn\\ensemble\\_weight_boosting.py:527: FutureWarning: The SAMME.R algorithm (the default) is deprecated and will be removed in 1.6. Use the SAMME algorithm to circumvent this warning.\n",
      "  warnings.warn(\n"
     ]
    },
    {
     "name": "stdout",
     "output_type": "stream",
     "text": [
      "[CV 4/5] END algorithm=SAMME.R, learning_rate=0.775, n_estimators=150;, score=0.386 total time=  10.0s\n"
     ]
    },
    {
     "name": "stderr",
     "output_type": "stream",
     "text": [
      "C:\\Users\\learo\\AppData\\Local\\Packages\\PythonSoftwareFoundation.Python.3.12_qbz5n2kfra8p0\\LocalCache\\local-packages\\Python312\\site-packages\\sklearn\\ensemble\\_weight_boosting.py:527: FutureWarning: The SAMME.R algorithm (the default) is deprecated and will be removed in 1.6. Use the SAMME algorithm to circumvent this warning.\n",
      "  warnings.warn(\n"
     ]
    },
    {
     "name": "stdout",
     "output_type": "stream",
     "text": [
      "[CV 5/5] END algorithm=SAMME.R, learning_rate=0.775, n_estimators=150;, score=0.385 total time=  10.0s\n"
     ]
    },
    {
     "name": "stderr",
     "output_type": "stream",
     "text": [
      "C:\\Users\\learo\\AppData\\Local\\Packages\\PythonSoftwareFoundation.Python.3.12_qbz5n2kfra8p0\\LocalCache\\local-packages\\Python312\\site-packages\\sklearn\\ensemble\\_weight_boosting.py:527: FutureWarning: The SAMME.R algorithm (the default) is deprecated and will be removed in 1.6. Use the SAMME algorithm to circumvent this warning.\n",
      "  warnings.warn(\n"
     ]
    },
    {
     "name": "stdout",
     "output_type": "stream",
     "text": [
      "[CV 1/5] END algorithm=SAMME.R, learning_rate=0.775, n_estimators=200;, score=0.388 total time=  13.0s\n"
     ]
    },
    {
     "name": "stderr",
     "output_type": "stream",
     "text": [
      "C:\\Users\\learo\\AppData\\Local\\Packages\\PythonSoftwareFoundation.Python.3.12_qbz5n2kfra8p0\\LocalCache\\local-packages\\Python312\\site-packages\\sklearn\\ensemble\\_weight_boosting.py:527: FutureWarning: The SAMME.R algorithm (the default) is deprecated and will be removed in 1.6. Use the SAMME algorithm to circumvent this warning.\n",
      "  warnings.warn(\n"
     ]
    },
    {
     "name": "stdout",
     "output_type": "stream",
     "text": [
      "[CV 2/5] END algorithm=SAMME.R, learning_rate=0.775, n_estimators=200;, score=0.388 total time=  12.9s\n"
     ]
    },
    {
     "name": "stderr",
     "output_type": "stream",
     "text": [
      "C:\\Users\\learo\\AppData\\Local\\Packages\\PythonSoftwareFoundation.Python.3.12_qbz5n2kfra8p0\\LocalCache\\local-packages\\Python312\\site-packages\\sklearn\\ensemble\\_weight_boosting.py:527: FutureWarning: The SAMME.R algorithm (the default) is deprecated and will be removed in 1.6. Use the SAMME algorithm to circumvent this warning.\n",
      "  warnings.warn(\n"
     ]
    },
    {
     "name": "stdout",
     "output_type": "stream",
     "text": [
      "[CV 3/5] END algorithm=SAMME.R, learning_rate=0.775, n_estimators=200;, score=0.387 total time=  13.2s\n"
     ]
    },
    {
     "name": "stderr",
     "output_type": "stream",
     "text": [
      "C:\\Users\\learo\\AppData\\Local\\Packages\\PythonSoftwareFoundation.Python.3.12_qbz5n2kfra8p0\\LocalCache\\local-packages\\Python312\\site-packages\\sklearn\\ensemble\\_weight_boosting.py:527: FutureWarning: The SAMME.R algorithm (the default) is deprecated and will be removed in 1.6. Use the SAMME algorithm to circumvent this warning.\n",
      "  warnings.warn(\n"
     ]
    },
    {
     "name": "stdout",
     "output_type": "stream",
     "text": [
      "[CV 4/5] END algorithm=SAMME.R, learning_rate=0.775, n_estimators=200;, score=0.384 total time=  13.4s\n"
     ]
    },
    {
     "name": "stderr",
     "output_type": "stream",
     "text": [
      "C:\\Users\\learo\\AppData\\Local\\Packages\\PythonSoftwareFoundation.Python.3.12_qbz5n2kfra8p0\\LocalCache\\local-packages\\Python312\\site-packages\\sklearn\\ensemble\\_weight_boosting.py:527: FutureWarning: The SAMME.R algorithm (the default) is deprecated and will be removed in 1.6. Use the SAMME algorithm to circumvent this warning.\n",
      "  warnings.warn(\n"
     ]
    },
    {
     "name": "stdout",
     "output_type": "stream",
     "text": [
      "[CV 5/5] END algorithm=SAMME.R, learning_rate=0.775, n_estimators=200;, score=0.385 total time=  12.9s\n"
     ]
    },
    {
     "name": "stderr",
     "output_type": "stream",
     "text": [
      "C:\\Users\\learo\\AppData\\Local\\Packages\\PythonSoftwareFoundation.Python.3.12_qbz5n2kfra8p0\\LocalCache\\local-packages\\Python312\\site-packages\\sklearn\\ensemble\\_weight_boosting.py:527: FutureWarning: The SAMME.R algorithm (the default) is deprecated and will be removed in 1.6. Use the SAMME algorithm to circumvent this warning.\n",
      "  warnings.warn(\n"
     ]
    },
    {
     "name": "stdout",
     "output_type": "stream",
     "text": [
      "[CV 1/5] END algorithm=SAMME.R, learning_rate=1.0, n_estimators=50;, score=0.386 total time=   3.2s\n"
     ]
    },
    {
     "name": "stderr",
     "output_type": "stream",
     "text": [
      "C:\\Users\\learo\\AppData\\Local\\Packages\\PythonSoftwareFoundation.Python.3.12_qbz5n2kfra8p0\\LocalCache\\local-packages\\Python312\\site-packages\\sklearn\\ensemble\\_weight_boosting.py:527: FutureWarning: The SAMME.R algorithm (the default) is deprecated and will be removed in 1.6. Use the SAMME algorithm to circumvent this warning.\n",
      "  warnings.warn(\n"
     ]
    },
    {
     "name": "stdout",
     "output_type": "stream",
     "text": [
      "[CV 2/5] END algorithm=SAMME.R, learning_rate=1.0, n_estimators=50;, score=0.389 total time=   3.2s\n"
     ]
    },
    {
     "name": "stderr",
     "output_type": "stream",
     "text": [
      "C:\\Users\\learo\\AppData\\Local\\Packages\\PythonSoftwareFoundation.Python.3.12_qbz5n2kfra8p0\\LocalCache\\local-packages\\Python312\\site-packages\\sklearn\\ensemble\\_weight_boosting.py:527: FutureWarning: The SAMME.R algorithm (the default) is deprecated and will be removed in 1.6. Use the SAMME algorithm to circumvent this warning.\n",
      "  warnings.warn(\n"
     ]
    },
    {
     "name": "stdout",
     "output_type": "stream",
     "text": [
      "[CV 3/5] END algorithm=SAMME.R, learning_rate=1.0, n_estimators=50;, score=0.388 total time=   3.2s\n"
     ]
    },
    {
     "name": "stderr",
     "output_type": "stream",
     "text": [
      "C:\\Users\\learo\\AppData\\Local\\Packages\\PythonSoftwareFoundation.Python.3.12_qbz5n2kfra8p0\\LocalCache\\local-packages\\Python312\\site-packages\\sklearn\\ensemble\\_weight_boosting.py:527: FutureWarning: The SAMME.R algorithm (the default) is deprecated and will be removed in 1.6. Use the SAMME algorithm to circumvent this warning.\n",
      "  warnings.warn(\n"
     ]
    },
    {
     "name": "stdout",
     "output_type": "stream",
     "text": [
      "[CV 4/5] END algorithm=SAMME.R, learning_rate=1.0, n_estimators=50;, score=0.388 total time=   3.2s\n"
     ]
    },
    {
     "name": "stderr",
     "output_type": "stream",
     "text": [
      "C:\\Users\\learo\\AppData\\Local\\Packages\\PythonSoftwareFoundation.Python.3.12_qbz5n2kfra8p0\\LocalCache\\local-packages\\Python312\\site-packages\\sklearn\\ensemble\\_weight_boosting.py:527: FutureWarning: The SAMME.R algorithm (the default) is deprecated and will be removed in 1.6. Use the SAMME algorithm to circumvent this warning.\n",
      "  warnings.warn(\n"
     ]
    },
    {
     "name": "stdout",
     "output_type": "stream",
     "text": [
      "[CV 5/5] END algorithm=SAMME.R, learning_rate=1.0, n_estimators=50;, score=0.386 total time=   3.2s\n"
     ]
    },
    {
     "name": "stderr",
     "output_type": "stream",
     "text": [
      "C:\\Users\\learo\\AppData\\Local\\Packages\\PythonSoftwareFoundation.Python.3.12_qbz5n2kfra8p0\\LocalCache\\local-packages\\Python312\\site-packages\\sklearn\\ensemble\\_weight_boosting.py:527: FutureWarning: The SAMME.R algorithm (the default) is deprecated and will be removed in 1.6. Use the SAMME algorithm to circumvent this warning.\n",
      "  warnings.warn(\n"
     ]
    },
    {
     "name": "stdout",
     "output_type": "stream",
     "text": [
      "[CV 1/5] END algorithm=SAMME.R, learning_rate=1.0, n_estimators=100;, score=0.389 total time=   6.6s\n"
     ]
    },
    {
     "name": "stderr",
     "output_type": "stream",
     "text": [
      "C:\\Users\\learo\\AppData\\Local\\Packages\\PythonSoftwareFoundation.Python.3.12_qbz5n2kfra8p0\\LocalCache\\local-packages\\Python312\\site-packages\\sklearn\\ensemble\\_weight_boosting.py:527: FutureWarning: The SAMME.R algorithm (the default) is deprecated and will be removed in 1.6. Use the SAMME algorithm to circumvent this warning.\n",
      "  warnings.warn(\n"
     ]
    },
    {
     "name": "stdout",
     "output_type": "stream",
     "text": [
      "[CV 2/5] END algorithm=SAMME.R, learning_rate=1.0, n_estimators=100;, score=0.389 total time=   6.4s\n"
     ]
    },
    {
     "name": "stderr",
     "output_type": "stream",
     "text": [
      "C:\\Users\\learo\\AppData\\Local\\Packages\\PythonSoftwareFoundation.Python.3.12_qbz5n2kfra8p0\\LocalCache\\local-packages\\Python312\\site-packages\\sklearn\\ensemble\\_weight_boosting.py:527: FutureWarning: The SAMME.R algorithm (the default) is deprecated and will be removed in 1.6. Use the SAMME algorithm to circumvent this warning.\n",
      "  warnings.warn(\n"
     ]
    },
    {
     "name": "stdout",
     "output_type": "stream",
     "text": [
      "[CV 3/5] END algorithm=SAMME.R, learning_rate=1.0, n_estimators=100;, score=0.386 total time=   6.4s\n"
     ]
    },
    {
     "name": "stderr",
     "output_type": "stream",
     "text": [
      "C:\\Users\\learo\\AppData\\Local\\Packages\\PythonSoftwareFoundation.Python.3.12_qbz5n2kfra8p0\\LocalCache\\local-packages\\Python312\\site-packages\\sklearn\\ensemble\\_weight_boosting.py:527: FutureWarning: The SAMME.R algorithm (the default) is deprecated and will be removed in 1.6. Use the SAMME algorithm to circumvent this warning.\n",
      "  warnings.warn(\n"
     ]
    },
    {
     "name": "stdout",
     "output_type": "stream",
     "text": [
      "[CV 4/5] END algorithm=SAMME.R, learning_rate=1.0, n_estimators=100;, score=0.388 total time=   6.4s\n"
     ]
    },
    {
     "name": "stderr",
     "output_type": "stream",
     "text": [
      "C:\\Users\\learo\\AppData\\Local\\Packages\\PythonSoftwareFoundation.Python.3.12_qbz5n2kfra8p0\\LocalCache\\local-packages\\Python312\\site-packages\\sklearn\\ensemble\\_weight_boosting.py:527: FutureWarning: The SAMME.R algorithm (the default) is deprecated and will be removed in 1.6. Use the SAMME algorithm to circumvent this warning.\n",
      "  warnings.warn(\n"
     ]
    },
    {
     "name": "stdout",
     "output_type": "stream",
     "text": [
      "[CV 5/5] END algorithm=SAMME.R, learning_rate=1.0, n_estimators=100;, score=0.385 total time=   6.4s\n"
     ]
    },
    {
     "name": "stderr",
     "output_type": "stream",
     "text": [
      "C:\\Users\\learo\\AppData\\Local\\Packages\\PythonSoftwareFoundation.Python.3.12_qbz5n2kfra8p0\\LocalCache\\local-packages\\Python312\\site-packages\\sklearn\\ensemble\\_weight_boosting.py:527: FutureWarning: The SAMME.R algorithm (the default) is deprecated and will be removed in 1.6. Use the SAMME algorithm to circumvent this warning.\n",
      "  warnings.warn(\n"
     ]
    },
    {
     "name": "stdout",
     "output_type": "stream",
     "text": [
      "[CV 1/5] END algorithm=SAMME.R, learning_rate=1.0, n_estimators=150;, score=0.390 total time=   9.6s\n"
     ]
    },
    {
     "name": "stderr",
     "output_type": "stream",
     "text": [
      "C:\\Users\\learo\\AppData\\Local\\Packages\\PythonSoftwareFoundation.Python.3.12_qbz5n2kfra8p0\\LocalCache\\local-packages\\Python312\\site-packages\\sklearn\\ensemble\\_weight_boosting.py:527: FutureWarning: The SAMME.R algorithm (the default) is deprecated and will be removed in 1.6. Use the SAMME algorithm to circumvent this warning.\n",
      "  warnings.warn(\n"
     ]
    },
    {
     "name": "stdout",
     "output_type": "stream",
     "text": [
      "[CV 2/5] END algorithm=SAMME.R, learning_rate=1.0, n_estimators=150;, score=0.392 total time=   9.7s\n"
     ]
    },
    {
     "name": "stderr",
     "output_type": "stream",
     "text": [
      "C:\\Users\\learo\\AppData\\Local\\Packages\\PythonSoftwareFoundation.Python.3.12_qbz5n2kfra8p0\\LocalCache\\local-packages\\Python312\\site-packages\\sklearn\\ensemble\\_weight_boosting.py:527: FutureWarning: The SAMME.R algorithm (the default) is deprecated and will be removed in 1.6. Use the SAMME algorithm to circumvent this warning.\n",
      "  warnings.warn(\n"
     ]
    },
    {
     "name": "stdout",
     "output_type": "stream",
     "text": [
      "[CV 3/5] END algorithm=SAMME.R, learning_rate=1.0, n_estimators=150;, score=0.387 total time=   9.7s\n"
     ]
    },
    {
     "name": "stderr",
     "output_type": "stream",
     "text": [
      "C:\\Users\\learo\\AppData\\Local\\Packages\\PythonSoftwareFoundation.Python.3.12_qbz5n2kfra8p0\\LocalCache\\local-packages\\Python312\\site-packages\\sklearn\\ensemble\\_weight_boosting.py:527: FutureWarning: The SAMME.R algorithm (the default) is deprecated and will be removed in 1.6. Use the SAMME algorithm to circumvent this warning.\n",
      "  warnings.warn(\n"
     ]
    },
    {
     "name": "stdout",
     "output_type": "stream",
     "text": [
      "[CV 4/5] END algorithm=SAMME.R, learning_rate=1.0, n_estimators=150;, score=0.388 total time=   9.6s\n"
     ]
    },
    {
     "name": "stderr",
     "output_type": "stream",
     "text": [
      "C:\\Users\\learo\\AppData\\Local\\Packages\\PythonSoftwareFoundation.Python.3.12_qbz5n2kfra8p0\\LocalCache\\local-packages\\Python312\\site-packages\\sklearn\\ensemble\\_weight_boosting.py:527: FutureWarning: The SAMME.R algorithm (the default) is deprecated and will be removed in 1.6. Use the SAMME algorithm to circumvent this warning.\n",
      "  warnings.warn(\n"
     ]
    },
    {
     "name": "stdout",
     "output_type": "stream",
     "text": [
      "[CV 5/5] END algorithm=SAMME.R, learning_rate=1.0, n_estimators=150;, score=0.386 total time=  10.0s\n"
     ]
    },
    {
     "name": "stderr",
     "output_type": "stream",
     "text": [
      "C:\\Users\\learo\\AppData\\Local\\Packages\\PythonSoftwareFoundation.Python.3.12_qbz5n2kfra8p0\\LocalCache\\local-packages\\Python312\\site-packages\\sklearn\\ensemble\\_weight_boosting.py:527: FutureWarning: The SAMME.R algorithm (the default) is deprecated and will be removed in 1.6. Use the SAMME algorithm to circumvent this warning.\n",
      "  warnings.warn(\n"
     ]
    },
    {
     "name": "stdout",
     "output_type": "stream",
     "text": [
      "[CV 1/5] END algorithm=SAMME.R, learning_rate=1.0, n_estimators=200;, score=0.390 total time=  13.2s\n"
     ]
    },
    {
     "name": "stderr",
     "output_type": "stream",
     "text": [
      "C:\\Users\\learo\\AppData\\Local\\Packages\\PythonSoftwareFoundation.Python.3.12_qbz5n2kfra8p0\\LocalCache\\local-packages\\Python312\\site-packages\\sklearn\\ensemble\\_weight_boosting.py:527: FutureWarning: The SAMME.R algorithm (the default) is deprecated and will be removed in 1.6. Use the SAMME algorithm to circumvent this warning.\n",
      "  warnings.warn(\n"
     ]
    },
    {
     "name": "stdout",
     "output_type": "stream",
     "text": [
      "[CV 2/5] END algorithm=SAMME.R, learning_rate=1.0, n_estimators=200;, score=0.390 total time=  13.2s\n"
     ]
    },
    {
     "name": "stderr",
     "output_type": "stream",
     "text": [
      "C:\\Users\\learo\\AppData\\Local\\Packages\\PythonSoftwareFoundation.Python.3.12_qbz5n2kfra8p0\\LocalCache\\local-packages\\Python312\\site-packages\\sklearn\\ensemble\\_weight_boosting.py:527: FutureWarning: The SAMME.R algorithm (the default) is deprecated and will be removed in 1.6. Use the SAMME algorithm to circumvent this warning.\n",
      "  warnings.warn(\n"
     ]
    },
    {
     "name": "stdout",
     "output_type": "stream",
     "text": [
      "[CV 3/5] END algorithm=SAMME.R, learning_rate=1.0, n_estimators=200;, score=0.388 total time=  13.0s\n"
     ]
    },
    {
     "name": "stderr",
     "output_type": "stream",
     "text": [
      "C:\\Users\\learo\\AppData\\Local\\Packages\\PythonSoftwareFoundation.Python.3.12_qbz5n2kfra8p0\\LocalCache\\local-packages\\Python312\\site-packages\\sklearn\\ensemble\\_weight_boosting.py:527: FutureWarning: The SAMME.R algorithm (the default) is deprecated and will be removed in 1.6. Use the SAMME algorithm to circumvent this warning.\n",
      "  warnings.warn(\n"
     ]
    },
    {
     "name": "stdout",
     "output_type": "stream",
     "text": [
      "[CV 4/5] END algorithm=SAMME.R, learning_rate=1.0, n_estimators=200;, score=0.386 total time=  13.1s\n"
     ]
    },
    {
     "name": "stderr",
     "output_type": "stream",
     "text": [
      "C:\\Users\\learo\\AppData\\Local\\Packages\\PythonSoftwareFoundation.Python.3.12_qbz5n2kfra8p0\\LocalCache\\local-packages\\Python312\\site-packages\\sklearn\\ensemble\\_weight_boosting.py:527: FutureWarning: The SAMME.R algorithm (the default) is deprecated and will be removed in 1.6. Use the SAMME algorithm to circumvent this warning.\n",
      "  warnings.warn(\n"
     ]
    },
    {
     "name": "stdout",
     "output_type": "stream",
     "text": [
      "[CV 5/5] END algorithm=SAMME.R, learning_rate=1.0, n_estimators=200;, score=0.386 total time=  13.0s\n"
     ]
    },
    {
     "name": "stderr",
     "output_type": "stream",
     "text": [
      "C:\\Users\\learo\\AppData\\Local\\Packages\\PythonSoftwareFoundation.Python.3.12_qbz5n2kfra8p0\\LocalCache\\local-packages\\Python312\\site-packages\\sklearn\\ensemble\\_weight_boosting.py:527: FutureWarning: The SAMME.R algorithm (the default) is deprecated and will be removed in 1.6. Use the SAMME algorithm to circumvent this warning.\n",
      "  warnings.warn(\n"
     ]
    },
    {
     "name": "stdout",
     "output_type": "stream",
     "text": [
      "Best params:  {'algorithm': 'SAMME.R', 'learning_rate': 1.0, 'n_estimators': 150} Best score: 0.3884299711754948\n"
     ]
    }
   ],
   "source": [
    "param_grid = {\n",
    "    'n_estimators': np.arange(50, 201, 50),\n",
    "    'learning_rate': np.linspace(0.1, 1.0, 5),\n",
    "    'algorithm': ['SAMME', 'SAMME.R']\n",
    "}\n",
    "\n",
    "get_best_hyperparams(X_train, y_train, param_grid, AdaBoostClassifier())"
   ]
  },
  {
   "cell_type": "code",
   "execution_count": 10,
   "metadata": {},
   "outputs": [
    {
     "name": "stderr",
     "output_type": "stream",
     "text": [
      "C:\\Users\\learo\\AppData\\Local\\Packages\\PythonSoftwareFoundation.Python.3.12_qbz5n2kfra8p0\\LocalCache\\local-packages\\Python312\\site-packages\\sklearn\\ensemble\\_weight_boosting.py:527: FutureWarning: The SAMME.R algorithm (the default) is deprecated and will be removed in 1.6. Use the SAMME algorithm to circumvent this warning.\n",
      "  warnings.warn(\n"
     ]
    },
    {
     "name": "stdout",
     "output_type": "stream",
     "text": [
      "f1 macro: 0.39\n"
     ]
    }
   ],
   "source": [
    "# Create a weak learner (base estimator), usually a decision tree stump\n",
    "base_estimator = DecisionTreeClassifier(max_depth=1)\n",
    "# Create an AdaBoost classifier\n",
    "adaboost_clf = AdaBoostClassifier(algorithm='SAMME.R', learning_rate=1.0, n_estimators=150)\n",
    "# Train the AdaBoost classifier on the training data\n",
    "adaboost_clf.fit(X_train[best_features], y_train)\n",
    "# Make predictions on the validation set\n",
    "y_pred = adaboost_clf.predict(X_validation[best_features])\n",
    "# Evaluate the f1_macro of the AdaBoost classifier\n",
    "f1_macro = f1_score(y_validation, y_pred, average='macro')\n",
    "print(f\"f1 macro: {f1_macro:.2f}\")"
   ]
  },
  {
   "cell_type": "markdown",
   "metadata": {},
   "source": [
    "## 2.3 Random Forest Classifier"
   ]
  },
  {
   "cell_type": "markdown",
   "metadata": {},
   "source": [
    "Finally, we applied the Random Forest classifier. We used the Random Forest Classifier with various hyperparameters to find the best ones. After that we trained the Random Forest classifier on the training data and evaluated it on the validation set."
   ]
  },
  {
   "cell_type": "code",
   "execution_count": 7,
   "metadata": {},
   "outputs": [
    {
     "name": "stdout",
     "output_type": "stream",
     "text": [
      "(63577, 25)\n",
      "Fitting 5 folds for each of 96 candidates, totalling 480 fits\n",
      "[CV 1/5] END bootstrap=True, max_depth=None, max_features=sqrt, min_samples_leaf=1, min_samples_split=2, n_estimators=50;, score=0.388 total time=   3.6s\n",
      "[CV 2/5] END bootstrap=True, max_depth=None, max_features=sqrt, min_samples_leaf=1, min_samples_split=2, n_estimators=50;, score=0.391 total time=   3.4s\n",
      "[CV 3/5] END bootstrap=True, max_depth=None, max_features=sqrt, min_samples_leaf=1, min_samples_split=2, n_estimators=50;, score=0.395 total time=   3.7s\n",
      "[CV 4/5] END bootstrap=True, max_depth=None, max_features=sqrt, min_samples_leaf=1, min_samples_split=2, n_estimators=50;, score=0.395 total time=   3.3s\n",
      "[CV 5/5] END bootstrap=True, max_depth=None, max_features=sqrt, min_samples_leaf=1, min_samples_split=2, n_estimators=50;, score=0.393 total time=   3.2s\n",
      "[CV 1/5] END bootstrap=True, max_depth=None, max_features=sqrt, min_samples_leaf=1, min_samples_split=2, n_estimators=100;, score=0.383 total time=   6.7s\n",
      "[CV 2/5] END bootstrap=True, max_depth=None, max_features=sqrt, min_samples_leaf=1, min_samples_split=2, n_estimators=100;, score=0.393 total time=   6.5s\n",
      "[CV 3/5] END bootstrap=True, max_depth=None, max_features=sqrt, min_samples_leaf=1, min_samples_split=2, n_estimators=100;, score=0.392 total time=   6.6s\n",
      "[CV 4/5] END bootstrap=True, max_depth=None, max_features=sqrt, min_samples_leaf=1, min_samples_split=2, n_estimators=100;, score=0.395 total time=   6.6s\n",
      "[CV 5/5] END bootstrap=True, max_depth=None, max_features=sqrt, min_samples_leaf=1, min_samples_split=2, n_estimators=100;, score=0.388 total time=   6.6s\n",
      "[CV 1/5] END bootstrap=True, max_depth=None, max_features=sqrt, min_samples_leaf=1, min_samples_split=2, n_estimators=150;, score=0.390 total time=   9.9s\n",
      "[CV 2/5] END bootstrap=True, max_depth=None, max_features=sqrt, min_samples_leaf=1, min_samples_split=2, n_estimators=150;, score=0.391 total time=   9.7s\n",
      "[CV 3/5] END bootstrap=True, max_depth=None, max_features=sqrt, min_samples_leaf=1, min_samples_split=2, n_estimators=150;, score=0.391 total time=   9.7s\n",
      "[CV 4/5] END bootstrap=True, max_depth=None, max_features=sqrt, min_samples_leaf=1, min_samples_split=2, n_estimators=150;, score=0.391 total time=   9.7s\n",
      "[CV 5/5] END bootstrap=True, max_depth=None, max_features=sqrt, min_samples_leaf=1, min_samples_split=2, n_estimators=150;, score=0.389 total time=   9.9s\n",
      "[CV 1/5] END bootstrap=True, max_depth=None, max_features=sqrt, min_samples_leaf=1, min_samples_split=5, n_estimators=50;, score=0.388 total time=   3.0s\n",
      "[CV 2/5] END bootstrap=True, max_depth=None, max_features=sqrt, min_samples_leaf=1, min_samples_split=5, n_estimators=50;, score=0.395 total time=   2.8s\n",
      "[CV 3/5] END bootstrap=True, max_depth=None, max_features=sqrt, min_samples_leaf=1, min_samples_split=5, n_estimators=50;, score=0.392 total time=   2.9s\n",
      "[CV 4/5] END bootstrap=True, max_depth=None, max_features=sqrt, min_samples_leaf=1, min_samples_split=5, n_estimators=50;, score=0.392 total time=   2.9s\n",
      "[CV 5/5] END bootstrap=True, max_depth=None, max_features=sqrt, min_samples_leaf=1, min_samples_split=5, n_estimators=50;, score=0.387 total time=   2.9s\n",
      "[CV 1/5] END bootstrap=True, max_depth=None, max_features=sqrt, min_samples_leaf=1, min_samples_split=5, n_estimators=100;, score=0.387 total time=   5.7s\n",
      "[CV 2/5] END bootstrap=True, max_depth=None, max_features=sqrt, min_samples_leaf=1, min_samples_split=5, n_estimators=100;, score=0.388 total time=   5.8s\n",
      "[CV 3/5] END bootstrap=True, max_depth=None, max_features=sqrt, min_samples_leaf=1, min_samples_split=5, n_estimators=100;, score=0.392 total time=   6.1s\n",
      "[CV 4/5] END bootstrap=True, max_depth=None, max_features=sqrt, min_samples_leaf=1, min_samples_split=5, n_estimators=100;, score=0.388 total time=   5.7s\n",
      "[CV 5/5] END bootstrap=True, max_depth=None, max_features=sqrt, min_samples_leaf=1, min_samples_split=5, n_estimators=100;, score=0.387 total time=   5.7s\n",
      "[CV 1/5] END bootstrap=True, max_depth=None, max_features=sqrt, min_samples_leaf=1, min_samples_split=5, n_estimators=150;, score=0.391 total time=   8.7s\n",
      "[CV 2/5] END bootstrap=True, max_depth=None, max_features=sqrt, min_samples_leaf=1, min_samples_split=5, n_estimators=150;, score=0.388 total time=   8.7s\n",
      "[CV 3/5] END bootstrap=True, max_depth=None, max_features=sqrt, min_samples_leaf=1, min_samples_split=5, n_estimators=150;, score=0.392 total time=   8.6s\n",
      "[CV 4/5] END bootstrap=True, max_depth=None, max_features=sqrt, min_samples_leaf=1, min_samples_split=5, n_estimators=150;, score=0.388 total time=   8.5s\n",
      "[CV 5/5] END bootstrap=True, max_depth=None, max_features=sqrt, min_samples_leaf=1, min_samples_split=5, n_estimators=150;, score=0.390 total time=   8.6s\n",
      "[CV 1/5] END bootstrap=True, max_depth=None, max_features=sqrt, min_samples_leaf=2, min_samples_split=2, n_estimators=50;, score=0.386 total time=   2.8s\n",
      "[CV 2/5] END bootstrap=True, max_depth=None, max_features=sqrt, min_samples_leaf=2, min_samples_split=2, n_estimators=50;, score=0.385 total time=   2.7s\n",
      "[CV 3/5] END bootstrap=True, max_depth=None, max_features=sqrt, min_samples_leaf=2, min_samples_split=2, n_estimators=50;, score=0.387 total time=   2.6s\n",
      "[CV 4/5] END bootstrap=True, max_depth=None, max_features=sqrt, min_samples_leaf=2, min_samples_split=2, n_estimators=50;, score=0.388 total time=   2.7s\n",
      "[CV 5/5] END bootstrap=True, max_depth=None, max_features=sqrt, min_samples_leaf=2, min_samples_split=2, n_estimators=50;, score=0.383 total time=   2.7s\n",
      "[CV 1/5] END bootstrap=True, max_depth=None, max_features=sqrt, min_samples_leaf=2, min_samples_split=2, n_estimators=100;, score=0.386 total time=   5.3s\n",
      "[CV 2/5] END bootstrap=True, max_depth=None, max_features=sqrt, min_samples_leaf=2, min_samples_split=2, n_estimators=100;, score=0.388 total time=   5.3s\n",
      "[CV 3/5] END bootstrap=True, max_depth=None, max_features=sqrt, min_samples_leaf=2, min_samples_split=2, n_estimators=100;, score=0.388 total time=   5.3s\n",
      "[CV 4/5] END bootstrap=True, max_depth=None, max_features=sqrt, min_samples_leaf=2, min_samples_split=2, n_estimators=100;, score=0.389 total time=   5.3s\n",
      "[CV 5/5] END bootstrap=True, max_depth=None, max_features=sqrt, min_samples_leaf=2, min_samples_split=2, n_estimators=100;, score=0.382 total time=   5.3s\n",
      "[CV 1/5] END bootstrap=True, max_depth=None, max_features=sqrt, min_samples_leaf=2, min_samples_split=2, n_estimators=150;, score=0.386 total time=   7.9s\n",
      "[CV 2/5] END bootstrap=True, max_depth=None, max_features=sqrt, min_samples_leaf=2, min_samples_split=2, n_estimators=150;, score=0.385 total time=   7.8s\n",
      "[CV 3/5] END bootstrap=True, max_depth=None, max_features=sqrt, min_samples_leaf=2, min_samples_split=2, n_estimators=150;, score=0.389 total time=   7.9s\n",
      "[CV 4/5] END bootstrap=True, max_depth=None, max_features=sqrt, min_samples_leaf=2, min_samples_split=2, n_estimators=150;, score=0.387 total time=   8.0s\n",
      "[CV 5/5] END bootstrap=True, max_depth=None, max_features=sqrt, min_samples_leaf=2, min_samples_split=2, n_estimators=150;, score=0.385 total time=   7.8s\n",
      "[CV 1/5] END bootstrap=True, max_depth=None, max_features=sqrt, min_samples_leaf=2, min_samples_split=5, n_estimators=50;, score=0.387 total time=   2.6s\n",
      "[CV 2/5] END bootstrap=True, max_depth=None, max_features=sqrt, min_samples_leaf=2, min_samples_split=5, n_estimators=50;, score=0.388 total time=   2.5s\n",
      "[CV 3/5] END bootstrap=True, max_depth=None, max_features=sqrt, min_samples_leaf=2, min_samples_split=5, n_estimators=50;, score=0.387 total time=   2.5s\n",
      "[CV 4/5] END bootstrap=True, max_depth=None, max_features=sqrt, min_samples_leaf=2, min_samples_split=5, n_estimators=50;, score=0.387 total time=   2.6s\n",
      "[CV 5/5] END bootstrap=True, max_depth=None, max_features=sqrt, min_samples_leaf=2, min_samples_split=5, n_estimators=50;, score=0.385 total time=   2.5s\n",
      "[CV 1/5] END bootstrap=True, max_depth=None, max_features=sqrt, min_samples_leaf=2, min_samples_split=5, n_estimators=100;, score=0.385 total time=   5.2s\n",
      "[CV 2/5] END bootstrap=True, max_depth=None, max_features=sqrt, min_samples_leaf=2, min_samples_split=5, n_estimators=100;, score=0.389 total time=   5.1s\n",
      "[CV 3/5] END bootstrap=True, max_depth=None, max_features=sqrt, min_samples_leaf=2, min_samples_split=5, n_estimators=100;, score=0.390 total time=   5.1s\n",
      "[CV 4/5] END bootstrap=True, max_depth=None, max_features=sqrt, min_samples_leaf=2, min_samples_split=5, n_estimators=100;, score=0.387 total time=   5.1s\n",
      "[CV 5/5] END bootstrap=True, max_depth=None, max_features=sqrt, min_samples_leaf=2, min_samples_split=5, n_estimators=100;, score=0.383 total time=   5.1s\n",
      "[CV 1/5] END bootstrap=True, max_depth=None, max_features=sqrt, min_samples_leaf=2, min_samples_split=5, n_estimators=150;, score=0.385 total time=   8.2s\n",
      "[CV 2/5] END bootstrap=True, max_depth=None, max_features=sqrt, min_samples_leaf=2, min_samples_split=5, n_estimators=150;, score=0.388 total time=   7.6s\n",
      "[CV 3/5] END bootstrap=True, max_depth=None, max_features=sqrt, min_samples_leaf=2, min_samples_split=5, n_estimators=150;, score=0.387 total time=   7.6s\n",
      "[CV 4/5] END bootstrap=True, max_depth=None, max_features=sqrt, min_samples_leaf=2, min_samples_split=5, n_estimators=150;, score=0.388 total time=   7.6s\n",
      "[CV 5/5] END bootstrap=True, max_depth=None, max_features=sqrt, min_samples_leaf=2, min_samples_split=5, n_estimators=150;, score=0.384 total time=   7.6s\n",
      "[CV 1/5] END bootstrap=True, max_depth=None, max_features=log2, min_samples_leaf=1, min_samples_split=2, n_estimators=50;, score=0.383 total time=   3.1s\n",
      "[CV 2/5] END bootstrap=True, max_depth=None, max_features=log2, min_samples_leaf=1, min_samples_split=2, n_estimators=50;, score=0.395 total time=   3.1s\n",
      "[CV 3/5] END bootstrap=True, max_depth=None, max_features=log2, min_samples_leaf=1, min_samples_split=2, n_estimators=50;, score=0.391 total time=   3.0s\n",
      "[CV 4/5] END bootstrap=True, max_depth=None, max_features=log2, min_samples_leaf=1, min_samples_split=2, n_estimators=50;, score=0.388 total time=   3.0s\n",
      "[CV 5/5] END bootstrap=True, max_depth=None, max_features=log2, min_samples_leaf=1, min_samples_split=2, n_estimators=50;, score=0.387 total time=   3.1s\n",
      "[CV 1/5] END bootstrap=True, max_depth=None, max_features=log2, min_samples_leaf=1, min_samples_split=2, n_estimators=100;, score=0.387 total time=   6.0s\n",
      "[CV 2/5] END bootstrap=True, max_depth=None, max_features=log2, min_samples_leaf=1, min_samples_split=2, n_estimators=100;, score=0.389 total time=   5.9s\n",
      "[CV 3/5] END bootstrap=True, max_depth=None, max_features=log2, min_samples_leaf=1, min_samples_split=2, n_estimators=100;, score=0.392 total time=   5.9s\n",
      "[CV 4/5] END bootstrap=True, max_depth=None, max_features=log2, min_samples_leaf=1, min_samples_split=2, n_estimators=100;, score=0.390 total time=   6.0s\n",
      "[CV 5/5] END bootstrap=True, max_depth=None, max_features=log2, min_samples_leaf=1, min_samples_split=2, n_estimators=100;, score=0.386 total time=   6.0s\n",
      "[CV 1/5] END bootstrap=True, max_depth=None, max_features=log2, min_samples_leaf=1, min_samples_split=2, n_estimators=150;, score=0.391 total time=   9.0s\n",
      "[CV 2/5] END bootstrap=True, max_depth=None, max_features=log2, min_samples_leaf=1, min_samples_split=2, n_estimators=150;, score=0.388 total time=   8.9s\n",
      "[CV 3/5] END bootstrap=True, max_depth=None, max_features=log2, min_samples_leaf=1, min_samples_split=2, n_estimators=150;, score=0.391 total time=   8.9s\n",
      "[CV 4/5] END bootstrap=True, max_depth=None, max_features=log2, min_samples_leaf=1, min_samples_split=2, n_estimators=150;, score=0.388 total time=   8.9s\n",
      "[CV 5/5] END bootstrap=True, max_depth=None, max_features=log2, min_samples_leaf=1, min_samples_split=2, n_estimators=150;, score=0.386 total time=   8.9s\n",
      "[CV 1/5] END bootstrap=True, max_depth=None, max_features=log2, min_samples_leaf=1, min_samples_split=5, n_estimators=50;, score=0.390 total time=   2.7s\n",
      "[CV 2/5] END bootstrap=True, max_depth=None, max_features=log2, min_samples_leaf=1, min_samples_split=5, n_estimators=50;, score=0.387 total time=   2.6s\n",
      "[CV 3/5] END bootstrap=True, max_depth=None, max_features=log2, min_samples_leaf=1, min_samples_split=5, n_estimators=50;, score=0.392 total time=   2.6s\n",
      "[CV 4/5] END bootstrap=True, max_depth=None, max_features=log2, min_samples_leaf=1, min_samples_split=5, n_estimators=50;, score=0.385 total time=   2.6s\n",
      "[CV 5/5] END bootstrap=True, max_depth=None, max_features=log2, min_samples_leaf=1, min_samples_split=5, n_estimators=50;, score=0.386 total time=   2.6s\n",
      "[CV 1/5] END bootstrap=True, max_depth=None, max_features=log2, min_samples_leaf=1, min_samples_split=5, n_estimators=100;, score=0.385 total time=   5.2s\n",
      "[CV 2/5] END bootstrap=True, max_depth=None, max_features=log2, min_samples_leaf=1, min_samples_split=5, n_estimators=100;, score=0.390 total time=   5.2s\n",
      "[CV 3/5] END bootstrap=True, max_depth=None, max_features=log2, min_samples_leaf=1, min_samples_split=5, n_estimators=100;, score=0.391 total time=   5.1s\n",
      "[CV 4/5] END bootstrap=True, max_depth=None, max_features=log2, min_samples_leaf=1, min_samples_split=5, n_estimators=100;, score=0.390 total time=   5.2s\n",
      "[CV 5/5] END bootstrap=True, max_depth=None, max_features=log2, min_samples_leaf=1, min_samples_split=5, n_estimators=100;, score=0.387 total time=   5.1s\n",
      "[CV 1/5] END bootstrap=True, max_depth=None, max_features=log2, min_samples_leaf=1, min_samples_split=5, n_estimators=150;, score=0.387 total time=   7.8s\n",
      "[CV 2/5] END bootstrap=True, max_depth=None, max_features=log2, min_samples_leaf=1, min_samples_split=5, n_estimators=150;, score=0.393 total time=   7.8s\n",
      "[CV 3/5] END bootstrap=True, max_depth=None, max_features=log2, min_samples_leaf=1, min_samples_split=5, n_estimators=150;, score=0.389 total time=   7.8s\n",
      "[CV 4/5] END bootstrap=True, max_depth=None, max_features=log2, min_samples_leaf=1, min_samples_split=5, n_estimators=150;, score=0.390 total time=   7.7s\n",
      "[CV 5/5] END bootstrap=True, max_depth=None, max_features=log2, min_samples_leaf=1, min_samples_split=5, n_estimators=150;, score=0.388 total time=   7.8s\n",
      "[CV 1/5] END bootstrap=True, max_depth=None, max_features=log2, min_samples_leaf=2, min_samples_split=2, n_estimators=50;, score=0.386 total time=   2.4s\n",
      "[CV 2/5] END bootstrap=True, max_depth=None, max_features=log2, min_samples_leaf=2, min_samples_split=2, n_estimators=50;, score=0.386 total time=   2.3s\n",
      "[CV 3/5] END bootstrap=True, max_depth=None, max_features=log2, min_samples_leaf=2, min_samples_split=2, n_estimators=50;, score=0.385 total time=   2.4s\n",
      "[CV 4/5] END bootstrap=True, max_depth=None, max_features=log2, min_samples_leaf=2, min_samples_split=2, n_estimators=50;, score=0.386 total time=   2.2s\n",
      "[CV 5/5] END bootstrap=True, max_depth=None, max_features=log2, min_samples_leaf=2, min_samples_split=2, n_estimators=50;, score=0.381 total time=   2.2s\n",
      "[CV 1/5] END bootstrap=True, max_depth=None, max_features=log2, min_samples_leaf=2, min_samples_split=2, n_estimators=100;, score=0.387 total time=   4.6s\n",
      "[CV 2/5] END bootstrap=True, max_depth=None, max_features=log2, min_samples_leaf=2, min_samples_split=2, n_estimators=100;, score=0.384 total time=   4.5s\n",
      "[CV 3/5] END bootstrap=True, max_depth=None, max_features=log2, min_samples_leaf=2, min_samples_split=2, n_estimators=100;, score=0.385 total time=   4.6s\n",
      "[CV 4/5] END bootstrap=True, max_depth=None, max_features=log2, min_samples_leaf=2, min_samples_split=2, n_estimators=100;, score=0.387 total time=   4.6s\n",
      "[CV 5/5] END bootstrap=True, max_depth=None, max_features=log2, min_samples_leaf=2, min_samples_split=2, n_estimators=100;, score=0.385 total time=   4.5s\n",
      "[CV 1/5] END bootstrap=True, max_depth=None, max_features=log2, min_samples_leaf=2, min_samples_split=2, n_estimators=150;, score=0.382 total time=   6.8s\n",
      "[CV 2/5] END bootstrap=True, max_depth=None, max_features=log2, min_samples_leaf=2, min_samples_split=2, n_estimators=150;, score=0.385 total time=   6.7s\n",
      "[CV 3/5] END bootstrap=True, max_depth=None, max_features=log2, min_samples_leaf=2, min_samples_split=2, n_estimators=150;, score=0.387 total time=   6.8s\n",
      "[CV 4/5] END bootstrap=True, max_depth=None, max_features=log2, min_samples_leaf=2, min_samples_split=2, n_estimators=150;, score=0.387 total time=   6.8s\n",
      "[CV 5/5] END bootstrap=True, max_depth=None, max_features=log2, min_samples_leaf=2, min_samples_split=2, n_estimators=150;, score=0.380 total time=   6.8s\n",
      "[CV 1/5] END bootstrap=True, max_depth=None, max_features=log2, min_samples_leaf=2, min_samples_split=5, n_estimators=50;, score=0.386 total time=   2.2s\n",
      "[CV 2/5] END bootstrap=True, max_depth=None, max_features=log2, min_samples_leaf=2, min_samples_split=5, n_estimators=50;, score=0.387 total time=   2.2s\n",
      "[CV 3/5] END bootstrap=True, max_depth=None, max_features=log2, min_samples_leaf=2, min_samples_split=5, n_estimators=50;, score=0.385 total time=   2.2s\n",
      "[CV 4/5] END bootstrap=True, max_depth=None, max_features=log2, min_samples_leaf=2, min_samples_split=5, n_estimators=50;, score=0.383 total time=   2.2s\n",
      "[CV 5/5] END bootstrap=True, max_depth=None, max_features=log2, min_samples_leaf=2, min_samples_split=5, n_estimators=50;, score=0.383 total time=   2.2s\n",
      "[CV 1/5] END bootstrap=True, max_depth=None, max_features=log2, min_samples_leaf=2, min_samples_split=5, n_estimators=100;, score=0.388 total time=   4.5s\n",
      "[CV 2/5] END bootstrap=True, max_depth=None, max_features=log2, min_samples_leaf=2, min_samples_split=5, n_estimators=100;, score=0.386 total time=   4.4s\n",
      "[CV 3/5] END bootstrap=True, max_depth=None, max_features=log2, min_samples_leaf=2, min_samples_split=5, n_estimators=100;, score=0.384 total time=   4.5s\n",
      "[CV 4/5] END bootstrap=True, max_depth=None, max_features=log2, min_samples_leaf=2, min_samples_split=5, n_estimators=100;, score=0.384 total time=   4.4s\n",
      "[CV 5/5] END bootstrap=True, max_depth=None, max_features=log2, min_samples_leaf=2, min_samples_split=5, n_estimators=100;, score=0.385 total time=   4.4s\n",
      "[CV 1/5] END bootstrap=True, max_depth=None, max_features=log2, min_samples_leaf=2, min_samples_split=5, n_estimators=150;, score=0.385 total time=   6.6s\n",
      "[CV 2/5] END bootstrap=True, max_depth=None, max_features=log2, min_samples_leaf=2, min_samples_split=5, n_estimators=150;, score=0.383 total time=   6.6s\n",
      "[CV 3/5] END bootstrap=True, max_depth=None, max_features=log2, min_samples_leaf=2, min_samples_split=5, n_estimators=150;, score=0.388 total time=   6.6s\n",
      "[CV 4/5] END bootstrap=True, max_depth=None, max_features=log2, min_samples_leaf=2, min_samples_split=5, n_estimators=150;, score=0.385 total time=   6.5s\n",
      "[CV 5/5] END bootstrap=True, max_depth=None, max_features=log2, min_samples_leaf=2, min_samples_split=5, n_estimators=150;, score=0.381 total time=   6.7s\n",
      "[CV 1/5] END bootstrap=True, max_depth=10, max_features=sqrt, min_samples_leaf=1, min_samples_split=2, n_estimators=50;, score=0.377 total time=   1.3s\n",
      "[CV 2/5] END bootstrap=True, max_depth=10, max_features=sqrt, min_samples_leaf=1, min_samples_split=2, n_estimators=50;, score=0.377 total time=   1.3s\n",
      "[CV 3/5] END bootstrap=True, max_depth=10, max_features=sqrt, min_samples_leaf=1, min_samples_split=2, n_estimators=50;, score=0.377 total time=   1.3s\n",
      "[CV 4/5] END bootstrap=True, max_depth=10, max_features=sqrt, min_samples_leaf=1, min_samples_split=2, n_estimators=50;, score=0.378 total time=   1.3s\n",
      "[CV 5/5] END bootstrap=True, max_depth=10, max_features=sqrt, min_samples_leaf=1, min_samples_split=2, n_estimators=50;, score=0.379 total time=   1.3s\n",
      "[CV 1/5] END bootstrap=True, max_depth=10, max_features=sqrt, min_samples_leaf=1, min_samples_split=2, n_estimators=100;, score=0.377 total time=   2.6s\n",
      "[CV 2/5] END bootstrap=True, max_depth=10, max_features=sqrt, min_samples_leaf=1, min_samples_split=2, n_estimators=100;, score=0.377 total time=   2.6s\n",
      "[CV 3/5] END bootstrap=True, max_depth=10, max_features=sqrt, min_samples_leaf=1, min_samples_split=2, n_estimators=100;, score=0.378 total time=   2.6s\n",
      "[CV 4/5] END bootstrap=True, max_depth=10, max_features=sqrt, min_samples_leaf=1, min_samples_split=2, n_estimators=100;, score=0.375 total time=   2.6s\n",
      "[CV 5/5] END bootstrap=True, max_depth=10, max_features=sqrt, min_samples_leaf=1, min_samples_split=2, n_estimators=100;, score=0.379 total time=   2.6s\n",
      "[CV 1/5] END bootstrap=True, max_depth=10, max_features=sqrt, min_samples_leaf=1, min_samples_split=2, n_estimators=150;, score=0.378 total time=   3.8s\n",
      "[CV 2/5] END bootstrap=True, max_depth=10, max_features=sqrt, min_samples_leaf=1, min_samples_split=2, n_estimators=150;, score=0.376 total time=   3.9s\n",
      "[CV 3/5] END bootstrap=True, max_depth=10, max_features=sqrt, min_samples_leaf=1, min_samples_split=2, n_estimators=150;, score=0.379 total time=   3.8s\n",
      "[CV 4/5] END bootstrap=True, max_depth=10, max_features=sqrt, min_samples_leaf=1, min_samples_split=2, n_estimators=150;, score=0.376 total time=   3.9s\n",
      "[CV 5/5] END bootstrap=True, max_depth=10, max_features=sqrt, min_samples_leaf=1, min_samples_split=2, n_estimators=150;, score=0.379 total time=   3.9s\n",
      "[CV 1/5] END bootstrap=True, max_depth=10, max_features=sqrt, min_samples_leaf=1, min_samples_split=5, n_estimators=50;, score=0.380 total time=   1.3s\n",
      "[CV 2/5] END bootstrap=True, max_depth=10, max_features=sqrt, min_samples_leaf=1, min_samples_split=5, n_estimators=50;, score=0.377 total time=   1.3s\n",
      "[CV 3/5] END bootstrap=True, max_depth=10, max_features=sqrt, min_samples_leaf=1, min_samples_split=5, n_estimators=50;, score=0.378 total time=   1.3s\n",
      "[CV 4/5] END bootstrap=True, max_depth=10, max_features=sqrt, min_samples_leaf=1, min_samples_split=5, n_estimators=50;, score=0.378 total time=   1.3s\n",
      "[CV 5/5] END bootstrap=True, max_depth=10, max_features=sqrt, min_samples_leaf=1, min_samples_split=5, n_estimators=50;, score=0.377 total time=   1.3s\n",
      "[CV 1/5] END bootstrap=True, max_depth=10, max_features=sqrt, min_samples_leaf=1, min_samples_split=5, n_estimators=100;, score=0.379 total time=   2.5s\n",
      "[CV 2/5] END bootstrap=True, max_depth=10, max_features=sqrt, min_samples_leaf=1, min_samples_split=5, n_estimators=100;, score=0.378 total time=   2.6s\n",
      "[CV 3/5] END bootstrap=True, max_depth=10, max_features=sqrt, min_samples_leaf=1, min_samples_split=5, n_estimators=100;, score=0.379 total time=   2.6s\n",
      "[CV 4/5] END bootstrap=True, max_depth=10, max_features=sqrt, min_samples_leaf=1, min_samples_split=5, n_estimators=100;, score=0.378 total time=   2.6s\n",
      "[CV 5/5] END bootstrap=True, max_depth=10, max_features=sqrt, min_samples_leaf=1, min_samples_split=5, n_estimators=100;, score=0.381 total time=   2.5s\n",
      "[CV 1/5] END bootstrap=True, max_depth=10, max_features=sqrt, min_samples_leaf=1, min_samples_split=5, n_estimators=150;, score=0.379 total time=   3.9s\n",
      "[CV 2/5] END bootstrap=True, max_depth=10, max_features=sqrt, min_samples_leaf=1, min_samples_split=5, n_estimators=150;, score=0.379 total time=   3.9s\n",
      "[CV 3/5] END bootstrap=True, max_depth=10, max_features=sqrt, min_samples_leaf=1, min_samples_split=5, n_estimators=150;, score=0.376 total time=   3.8s\n",
      "[CV 4/5] END bootstrap=True, max_depth=10, max_features=sqrt, min_samples_leaf=1, min_samples_split=5, n_estimators=150;, score=0.376 total time=   3.9s\n",
      "[CV 5/5] END bootstrap=True, max_depth=10, max_features=sqrt, min_samples_leaf=1, min_samples_split=5, n_estimators=150;, score=0.379 total time=   3.8s\n",
      "[CV 1/5] END bootstrap=True, max_depth=10, max_features=sqrt, min_samples_leaf=2, min_samples_split=2, n_estimators=50;, score=0.380 total time=   1.3s\n",
      "[CV 2/5] END bootstrap=True, max_depth=10, max_features=sqrt, min_samples_leaf=2, min_samples_split=2, n_estimators=50;, score=0.377 total time=   1.3s\n",
      "[CV 3/5] END bootstrap=True, max_depth=10, max_features=sqrt, min_samples_leaf=2, min_samples_split=2, n_estimators=50;, score=0.378 total time=   1.3s\n",
      "[CV 4/5] END bootstrap=True, max_depth=10, max_features=sqrt, min_samples_leaf=2, min_samples_split=2, n_estimators=50;, score=0.376 total time=   1.3s\n",
      "[CV 5/5] END bootstrap=True, max_depth=10, max_features=sqrt, min_samples_leaf=2, min_samples_split=2, n_estimators=50;, score=0.379 total time=   1.3s\n",
      "[CV 1/5] END bootstrap=True, max_depth=10, max_features=sqrt, min_samples_leaf=2, min_samples_split=2, n_estimators=100;, score=0.380 total time=   2.6s\n",
      "[CV 2/5] END bootstrap=True, max_depth=10, max_features=sqrt, min_samples_leaf=2, min_samples_split=2, n_estimators=100;, score=0.376 total time=   2.6s\n",
      "[CV 3/5] END bootstrap=True, max_depth=10, max_features=sqrt, min_samples_leaf=2, min_samples_split=2, n_estimators=100;, score=0.378 total time=   2.6s\n",
      "[CV 4/5] END bootstrap=True, max_depth=10, max_features=sqrt, min_samples_leaf=2, min_samples_split=2, n_estimators=100;, score=0.378 total time=   2.6s\n",
      "[CV 5/5] END bootstrap=True, max_depth=10, max_features=sqrt, min_samples_leaf=2, min_samples_split=2, n_estimators=100;, score=0.380 total time=   2.5s\n",
      "[CV 1/5] END bootstrap=True, max_depth=10, max_features=sqrt, min_samples_leaf=2, min_samples_split=2, n_estimators=150;, score=0.378 total time=   3.8s\n",
      "[CV 2/5] END bootstrap=True, max_depth=10, max_features=sqrt, min_samples_leaf=2, min_samples_split=2, n_estimators=150;, score=0.379 total time=   3.9s\n",
      "[CV 3/5] END bootstrap=True, max_depth=10, max_features=sqrt, min_samples_leaf=2, min_samples_split=2, n_estimators=150;, score=0.379 total time=   3.9s\n",
      "[CV 4/5] END bootstrap=True, max_depth=10, max_features=sqrt, min_samples_leaf=2, min_samples_split=2, n_estimators=150;, score=0.375 total time=   3.9s\n",
      "[CV 5/5] END bootstrap=True, max_depth=10, max_features=sqrt, min_samples_leaf=2, min_samples_split=2, n_estimators=150;, score=0.379 total time=   3.8s\n",
      "[CV 1/5] END bootstrap=True, max_depth=10, max_features=sqrt, min_samples_leaf=2, min_samples_split=5, n_estimators=50;, score=0.379 total time=   1.3s\n",
      "[CV 2/5] END bootstrap=True, max_depth=10, max_features=sqrt, min_samples_leaf=2, min_samples_split=5, n_estimators=50;, score=0.377 total time=   1.3s\n",
      "[CV 3/5] END bootstrap=True, max_depth=10, max_features=sqrt, min_samples_leaf=2, min_samples_split=5, n_estimators=50;, score=0.378 total time=   1.3s\n",
      "[CV 4/5] END bootstrap=True, max_depth=10, max_features=sqrt, min_samples_leaf=2, min_samples_split=5, n_estimators=50;, score=0.380 total time=   1.3s\n",
      "[CV 5/5] END bootstrap=True, max_depth=10, max_features=sqrt, min_samples_leaf=2, min_samples_split=5, n_estimators=50;, score=0.379 total time=   1.3s\n",
      "[CV 1/5] END bootstrap=True, max_depth=10, max_features=sqrt, min_samples_leaf=2, min_samples_split=5, n_estimators=100;, score=0.378 total time=   2.6s\n",
      "[CV 2/5] END bootstrap=True, max_depth=10, max_features=sqrt, min_samples_leaf=2, min_samples_split=5, n_estimators=100;, score=0.378 total time=   2.5s\n",
      "[CV 3/5] END bootstrap=True, max_depth=10, max_features=sqrt, min_samples_leaf=2, min_samples_split=5, n_estimators=100;, score=0.380 total time=   2.5s\n",
      "[CV 4/5] END bootstrap=True, max_depth=10, max_features=sqrt, min_samples_leaf=2, min_samples_split=5, n_estimators=100;, score=0.378 total time=   2.6s\n",
      "[CV 5/5] END bootstrap=True, max_depth=10, max_features=sqrt, min_samples_leaf=2, min_samples_split=5, n_estimators=100;, score=0.377 total time=   2.6s\n",
      "[CV 1/5] END bootstrap=True, max_depth=10, max_features=sqrt, min_samples_leaf=2, min_samples_split=5, n_estimators=150;, score=0.378 total time=   3.9s\n",
      "[CV 2/5] END bootstrap=True, max_depth=10, max_features=sqrt, min_samples_leaf=2, min_samples_split=5, n_estimators=150;, score=0.377 total time=   3.8s\n",
      "[CV 3/5] END bootstrap=True, max_depth=10, max_features=sqrt, min_samples_leaf=2, min_samples_split=5, n_estimators=150;, score=0.379 total time=   3.8s\n",
      "[CV 4/5] END bootstrap=True, max_depth=10, max_features=sqrt, min_samples_leaf=2, min_samples_split=5, n_estimators=150;, score=0.377 total time=   3.8s\n",
      "[CV 5/5] END bootstrap=True, max_depth=10, max_features=sqrt, min_samples_leaf=2, min_samples_split=5, n_estimators=150;, score=0.379 total time=   3.9s\n",
      "[CV 1/5] END bootstrap=True, max_depth=10, max_features=log2, min_samples_leaf=1, min_samples_split=2, n_estimators=50;, score=0.375 total time=   1.1s\n",
      "[CV 2/5] END bootstrap=True, max_depth=10, max_features=log2, min_samples_leaf=1, min_samples_split=2, n_estimators=50;, score=0.373 total time=   1.1s\n",
      "[CV 3/5] END bootstrap=True, max_depth=10, max_features=log2, min_samples_leaf=1, min_samples_split=2, n_estimators=50;, score=0.373 total time=   1.1s\n",
      "[CV 4/5] END bootstrap=True, max_depth=10, max_features=log2, min_samples_leaf=1, min_samples_split=2, n_estimators=50;, score=0.373 total time=   1.1s\n",
      "[CV 5/5] END bootstrap=True, max_depth=10, max_features=log2, min_samples_leaf=1, min_samples_split=2, n_estimators=50;, score=0.375 total time=   1.2s\n",
      "[CV 1/5] END bootstrap=True, max_depth=10, max_features=log2, min_samples_leaf=1, min_samples_split=2, n_estimators=100;, score=0.373 total time=   2.2s\n",
      "[CV 2/5] END bootstrap=True, max_depth=10, max_features=log2, min_samples_leaf=1, min_samples_split=2, n_estimators=100;, score=0.374 total time=   2.2s\n",
      "[CV 3/5] END bootstrap=True, max_depth=10, max_features=log2, min_samples_leaf=1, min_samples_split=2, n_estimators=100;, score=0.374 total time=   2.2s\n",
      "[CV 4/5] END bootstrap=True, max_depth=10, max_features=log2, min_samples_leaf=1, min_samples_split=2, n_estimators=100;, score=0.375 total time=   2.3s\n",
      "[CV 5/5] END bootstrap=True, max_depth=10, max_features=log2, min_samples_leaf=1, min_samples_split=2, n_estimators=100;, score=0.374 total time=   2.2s\n",
      "[CV 1/5] END bootstrap=True, max_depth=10, max_features=log2, min_samples_leaf=1, min_samples_split=2, n_estimators=150;, score=0.374 total time=   3.3s\n",
      "[CV 2/5] END bootstrap=True, max_depth=10, max_features=log2, min_samples_leaf=1, min_samples_split=2, n_estimators=150;, score=0.375 total time=   3.4s\n",
      "[CV 3/5] END bootstrap=True, max_depth=10, max_features=log2, min_samples_leaf=1, min_samples_split=2, n_estimators=150;, score=0.373 total time=   3.4s\n",
      "[CV 4/5] END bootstrap=True, max_depth=10, max_features=log2, min_samples_leaf=1, min_samples_split=2, n_estimators=150;, score=0.373 total time=   3.3s\n",
      "[CV 5/5] END bootstrap=True, max_depth=10, max_features=log2, min_samples_leaf=1, min_samples_split=2, n_estimators=150;, score=0.375 total time=   3.4s\n",
      "[CV 1/5] END bootstrap=True, max_depth=10, max_features=log2, min_samples_leaf=1, min_samples_split=5, n_estimators=50;, score=0.373 total time=   1.2s\n",
      "[CV 2/5] END bootstrap=True, max_depth=10, max_features=log2, min_samples_leaf=1, min_samples_split=5, n_estimators=50;, score=0.376 total time=   1.1s\n",
      "[CV 3/5] END bootstrap=True, max_depth=10, max_features=log2, min_samples_leaf=1, min_samples_split=5, n_estimators=50;, score=0.373 total time=   1.1s\n",
      "[CV 4/5] END bootstrap=True, max_depth=10, max_features=log2, min_samples_leaf=1, min_samples_split=5, n_estimators=50;, score=0.374 total time=   1.1s\n",
      "[CV 5/5] END bootstrap=True, max_depth=10, max_features=log2, min_samples_leaf=1, min_samples_split=5, n_estimators=50;, score=0.375 total time=   1.1s\n",
      "[CV 1/5] END bootstrap=True, max_depth=10, max_features=log2, min_samples_leaf=1, min_samples_split=5, n_estimators=100;, score=0.378 total time=   2.2s\n",
      "[CV 2/5] END bootstrap=True, max_depth=10, max_features=log2, min_samples_leaf=1, min_samples_split=5, n_estimators=100;, score=0.376 total time=   2.3s\n",
      "[CV 3/5] END bootstrap=True, max_depth=10, max_features=log2, min_samples_leaf=1, min_samples_split=5, n_estimators=100;, score=0.375 total time=   2.3s\n",
      "[CV 4/5] END bootstrap=True, max_depth=10, max_features=log2, min_samples_leaf=1, min_samples_split=5, n_estimators=100;, score=0.375 total time=   2.2s\n",
      "[CV 5/5] END bootstrap=True, max_depth=10, max_features=log2, min_samples_leaf=1, min_samples_split=5, n_estimators=100;, score=0.375 total time=   2.2s\n",
      "[CV 1/5] END bootstrap=True, max_depth=10, max_features=log2, min_samples_leaf=1, min_samples_split=5, n_estimators=150;, score=0.376 total time=   3.3s\n",
      "[CV 2/5] END bootstrap=True, max_depth=10, max_features=log2, min_samples_leaf=1, min_samples_split=5, n_estimators=150;, score=0.374 total time=   3.3s\n",
      "[CV 3/5] END bootstrap=True, max_depth=10, max_features=log2, min_samples_leaf=1, min_samples_split=5, n_estimators=150;, score=0.374 total time=   3.4s\n",
      "[CV 4/5] END bootstrap=True, max_depth=10, max_features=log2, min_samples_leaf=1, min_samples_split=5, n_estimators=150;, score=0.373 total time=   3.3s\n",
      "[CV 5/5] END bootstrap=True, max_depth=10, max_features=log2, min_samples_leaf=1, min_samples_split=5, n_estimators=150;, score=0.373 total time=   3.3s\n",
      "[CV 1/5] END bootstrap=True, max_depth=10, max_features=log2, min_samples_leaf=2, min_samples_split=2, n_estimators=50;, score=0.373 total time=   1.2s\n",
      "[CV 2/5] END bootstrap=True, max_depth=10, max_features=log2, min_samples_leaf=2, min_samples_split=2, n_estimators=50;, score=0.375 total time=   1.1s\n",
      "[CV 3/5] END bootstrap=True, max_depth=10, max_features=log2, min_samples_leaf=2, min_samples_split=2, n_estimators=50;, score=0.374 total time=   1.1s\n",
      "[CV 4/5] END bootstrap=True, max_depth=10, max_features=log2, min_samples_leaf=2, min_samples_split=2, n_estimators=50;, score=0.374 total time=   1.2s\n",
      "[CV 5/5] END bootstrap=True, max_depth=10, max_features=log2, min_samples_leaf=2, min_samples_split=2, n_estimators=50;, score=0.376 total time=   1.1s\n",
      "[CV 1/5] END bootstrap=True, max_depth=10, max_features=log2, min_samples_leaf=2, min_samples_split=2, n_estimators=100;, score=0.373 total time=   2.2s\n",
      "[CV 2/5] END bootstrap=True, max_depth=10, max_features=log2, min_samples_leaf=2, min_samples_split=2, n_estimators=100;, score=0.375 total time=   2.2s\n",
      "[CV 3/5] END bootstrap=True, max_depth=10, max_features=log2, min_samples_leaf=2, min_samples_split=2, n_estimators=100;, score=0.373 total time=   2.3s\n",
      "[CV 4/5] END bootstrap=True, max_depth=10, max_features=log2, min_samples_leaf=2, min_samples_split=2, n_estimators=100;, score=0.370 total time=   2.3s\n",
      "[CV 5/5] END bootstrap=True, max_depth=10, max_features=log2, min_samples_leaf=2, min_samples_split=2, n_estimators=100;, score=0.376 total time=   2.2s\n",
      "[CV 1/5] END bootstrap=True, max_depth=10, max_features=log2, min_samples_leaf=2, min_samples_split=2, n_estimators=150;, score=0.374 total time=   3.3s\n",
      "[CV 2/5] END bootstrap=True, max_depth=10, max_features=log2, min_samples_leaf=2, min_samples_split=2, n_estimators=150;, score=0.372 total time=   3.3s\n",
      "[CV 3/5] END bootstrap=True, max_depth=10, max_features=log2, min_samples_leaf=2, min_samples_split=2, n_estimators=150;, score=0.377 total time=   3.4s\n",
      "[CV 4/5] END bootstrap=True, max_depth=10, max_features=log2, min_samples_leaf=2, min_samples_split=2, n_estimators=150;, score=0.374 total time=   3.3s\n",
      "[CV 5/5] END bootstrap=True, max_depth=10, max_features=log2, min_samples_leaf=2, min_samples_split=2, n_estimators=150;, score=0.374 total time=   3.3s\n",
      "[CV 1/5] END bootstrap=True, max_depth=10, max_features=log2, min_samples_leaf=2, min_samples_split=5, n_estimators=50;, score=0.377 total time=   1.1s\n",
      "[CV 2/5] END bootstrap=True, max_depth=10, max_features=log2, min_samples_leaf=2, min_samples_split=5, n_estimators=50;, score=0.373 total time=   1.1s\n",
      "[CV 3/5] END bootstrap=True, max_depth=10, max_features=log2, min_samples_leaf=2, min_samples_split=5, n_estimators=50;, score=0.376 total time=   1.1s\n",
      "[CV 4/5] END bootstrap=True, max_depth=10, max_features=log2, min_samples_leaf=2, min_samples_split=5, n_estimators=50;, score=0.373 total time=   1.1s\n",
      "[CV 5/5] END bootstrap=True, max_depth=10, max_features=log2, min_samples_leaf=2, min_samples_split=5, n_estimators=50;, score=0.375 total time=   1.1s\n",
      "[CV 1/5] END bootstrap=True, max_depth=10, max_features=log2, min_samples_leaf=2, min_samples_split=5, n_estimators=100;, score=0.376 total time=   2.2s\n",
      "[CV 2/5] END bootstrap=True, max_depth=10, max_features=log2, min_samples_leaf=2, min_samples_split=5, n_estimators=100;, score=0.374 total time=   2.3s\n",
      "[CV 3/5] END bootstrap=True, max_depth=10, max_features=log2, min_samples_leaf=2, min_samples_split=5, n_estimators=100;, score=0.373 total time=   2.2s\n",
      "[CV 4/5] END bootstrap=True, max_depth=10, max_features=log2, min_samples_leaf=2, min_samples_split=5, n_estimators=100;, score=0.370 total time=   2.2s\n",
      "[CV 5/5] END bootstrap=True, max_depth=10, max_features=log2, min_samples_leaf=2, min_samples_split=5, n_estimators=100;, score=0.374 total time=   2.3s\n",
      "[CV 1/5] END bootstrap=True, max_depth=10, max_features=log2, min_samples_leaf=2, min_samples_split=5, n_estimators=150;, score=0.372 total time=   3.4s\n",
      "[CV 2/5] END bootstrap=True, max_depth=10, max_features=log2, min_samples_leaf=2, min_samples_split=5, n_estimators=150;, score=0.374 total time=   3.3s\n",
      "[CV 3/5] END bootstrap=True, max_depth=10, max_features=log2, min_samples_leaf=2, min_samples_split=5, n_estimators=150;, score=0.375 total time=   3.3s\n",
      "[CV 4/5] END bootstrap=True, max_depth=10, max_features=log2, min_samples_leaf=2, min_samples_split=5, n_estimators=150;, score=0.371 total time=   3.4s\n",
      "[CV 5/5] END bootstrap=True, max_depth=10, max_features=log2, min_samples_leaf=2, min_samples_split=5, n_estimators=150;, score=0.375 total time=   3.3s\n",
      "[CV 1/5] END bootstrap=True, max_depth=50, max_features=sqrt, min_samples_leaf=1, min_samples_split=2, n_estimators=50;, score=0.391 total time=   3.3s\n",
      "[CV 2/5] END bootstrap=True, max_depth=50, max_features=sqrt, min_samples_leaf=1, min_samples_split=2, n_estimators=50;, score=0.394 total time=   3.3s\n",
      "[CV 3/5] END bootstrap=True, max_depth=50, max_features=sqrt, min_samples_leaf=1, min_samples_split=2, n_estimators=50;, score=0.395 total time=   3.3s\n",
      "[CV 4/5] END bootstrap=True, max_depth=50, max_features=sqrt, min_samples_leaf=1, min_samples_split=2, n_estimators=50;, score=0.390 total time=   3.3s\n",
      "[CV 5/5] END bootstrap=True, max_depth=50, max_features=sqrt, min_samples_leaf=1, min_samples_split=2, n_estimators=50;, score=0.396 total time=   3.3s\n",
      "[CV 1/5] END bootstrap=True, max_depth=50, max_features=sqrt, min_samples_leaf=1, min_samples_split=2, n_estimators=100;, score=0.386 total time=   6.4s\n",
      "[CV 2/5] END bootstrap=True, max_depth=50, max_features=sqrt, min_samples_leaf=1, min_samples_split=2, n_estimators=100;, score=0.392 total time=   6.5s\n",
      "[CV 3/5] END bootstrap=True, max_depth=50, max_features=sqrt, min_samples_leaf=1, min_samples_split=2, n_estimators=100;, score=0.396 total time=   6.6s\n",
      "[CV 4/5] END bootstrap=True, max_depth=50, max_features=sqrt, min_samples_leaf=1, min_samples_split=2, n_estimators=100;, score=0.393 total time=   6.5s\n",
      "[CV 5/5] END bootstrap=True, max_depth=50, max_features=sqrt, min_samples_leaf=1, min_samples_split=2, n_estimators=100;, score=0.387 total time=   6.5s\n",
      "[CV 1/5] END bootstrap=True, max_depth=50, max_features=sqrt, min_samples_leaf=1, min_samples_split=2, n_estimators=150;, score=0.387 total time=   9.7s\n",
      "[CV 2/5] END bootstrap=True, max_depth=50, max_features=sqrt, min_samples_leaf=1, min_samples_split=2, n_estimators=150;, score=0.394 total time=   9.7s\n",
      "[CV 3/5] END bootstrap=True, max_depth=50, max_features=sqrt, min_samples_leaf=1, min_samples_split=2, n_estimators=150;, score=0.393 total time=   9.7s\n",
      "[CV 4/5] END bootstrap=True, max_depth=50, max_features=sqrt, min_samples_leaf=1, min_samples_split=2, n_estimators=150;, score=0.391 total time=   9.7s\n",
      "[CV 5/5] END bootstrap=True, max_depth=50, max_features=sqrt, min_samples_leaf=1, min_samples_split=2, n_estimators=150;, score=0.387 total time=   9.7s\n",
      "[CV 1/5] END bootstrap=True, max_depth=50, max_features=sqrt, min_samples_leaf=1, min_samples_split=5, n_estimators=50;, score=0.382 total time=   3.0s\n",
      "[CV 2/5] END bootstrap=True, max_depth=50, max_features=sqrt, min_samples_leaf=1, min_samples_split=5, n_estimators=50;, score=0.390 total time=   2.9s\n",
      "[CV 3/5] END bootstrap=True, max_depth=50, max_features=sqrt, min_samples_leaf=1, min_samples_split=5, n_estimators=50;, score=0.389 total time=   2.9s\n",
      "[CV 4/5] END bootstrap=True, max_depth=50, max_features=sqrt, min_samples_leaf=1, min_samples_split=5, n_estimators=50;, score=0.386 total time=   3.4s\n",
      "[CV 5/5] END bootstrap=True, max_depth=50, max_features=sqrt, min_samples_leaf=1, min_samples_split=5, n_estimators=50;, score=0.386 total time=   3.5s\n",
      "[CV 1/5] END bootstrap=True, max_depth=50, max_features=sqrt, min_samples_leaf=1, min_samples_split=5, n_estimators=100;, score=0.387 total time=   5.9s\n",
      "[CV 2/5] END bootstrap=True, max_depth=50, max_features=sqrt, min_samples_leaf=1, min_samples_split=5, n_estimators=100;, score=0.388 total time=   5.7s\n",
      "[CV 3/5] END bootstrap=True, max_depth=50, max_features=sqrt, min_samples_leaf=1, min_samples_split=5, n_estimators=100;, score=0.389 total time=   5.8s\n",
      "[CV 4/5] END bootstrap=True, max_depth=50, max_features=sqrt, min_samples_leaf=1, min_samples_split=5, n_estimators=100;, score=0.390 total time=   5.9s\n",
      "[CV 5/5] END bootstrap=True, max_depth=50, max_features=sqrt, min_samples_leaf=1, min_samples_split=5, n_estimators=100;, score=0.389 total time=   5.7s\n",
      "[CV 1/5] END bootstrap=True, max_depth=50, max_features=sqrt, min_samples_leaf=1, min_samples_split=5, n_estimators=150;, score=0.390 total time=   8.6s\n",
      "[CV 2/5] END bootstrap=True, max_depth=50, max_features=sqrt, min_samples_leaf=1, min_samples_split=5, n_estimators=150;, score=0.389 total time=   8.5s\n",
      "[CV 3/5] END bootstrap=True, max_depth=50, max_features=sqrt, min_samples_leaf=1, min_samples_split=5, n_estimators=150;, score=0.394 total time=   8.6s\n",
      "[CV 4/5] END bootstrap=True, max_depth=50, max_features=sqrt, min_samples_leaf=1, min_samples_split=5, n_estimators=150;, score=0.388 total time=   8.5s\n",
      "[CV 5/5] END bootstrap=True, max_depth=50, max_features=sqrt, min_samples_leaf=1, min_samples_split=5, n_estimators=150;, score=0.388 total time=   8.6s\n",
      "[CV 1/5] END bootstrap=True, max_depth=50, max_features=sqrt, min_samples_leaf=2, min_samples_split=2, n_estimators=50;, score=0.384 total time=   2.6s\n",
      "[CV 2/5] END bootstrap=True, max_depth=50, max_features=sqrt, min_samples_leaf=2, min_samples_split=2, n_estimators=50;, score=0.390 total time=   2.7s\n",
      "[CV 3/5] END bootstrap=True, max_depth=50, max_features=sqrt, min_samples_leaf=2, min_samples_split=2, n_estimators=50;, score=0.386 total time=   2.7s\n",
      "[CV 4/5] END bootstrap=True, max_depth=50, max_features=sqrt, min_samples_leaf=2, min_samples_split=2, n_estimators=50;, score=0.387 total time=   2.6s\n",
      "[CV 5/5] END bootstrap=True, max_depth=50, max_features=sqrt, min_samples_leaf=2, min_samples_split=2, n_estimators=50;, score=0.387 total time=   2.7s\n",
      "[CV 1/5] END bootstrap=True, max_depth=50, max_features=sqrt, min_samples_leaf=2, min_samples_split=2, n_estimators=100;, score=0.385 total time=   5.3s\n",
      "[CV 2/5] END bootstrap=True, max_depth=50, max_features=sqrt, min_samples_leaf=2, min_samples_split=2, n_estimators=100;, score=0.384 total time=   5.2s\n",
      "[CV 3/5] END bootstrap=True, max_depth=50, max_features=sqrt, min_samples_leaf=2, min_samples_split=2, n_estimators=100;, score=0.391 total time=   5.3s\n",
      "[CV 4/5] END bootstrap=True, max_depth=50, max_features=sqrt, min_samples_leaf=2, min_samples_split=2, n_estimators=100;, score=0.389 total time=   5.3s\n",
      "[CV 5/5] END bootstrap=True, max_depth=50, max_features=sqrt, min_samples_leaf=2, min_samples_split=2, n_estimators=100;, score=0.384 total time=   5.2s\n",
      "[CV 1/5] END bootstrap=True, max_depth=50, max_features=sqrt, min_samples_leaf=2, min_samples_split=2, n_estimators=150;, score=0.389 total time=   7.9s\n",
      "[CV 2/5] END bootstrap=True, max_depth=50, max_features=sqrt, min_samples_leaf=2, min_samples_split=2, n_estimators=150;, score=0.385 total time=   7.8s\n",
      "[CV 3/5] END bootstrap=True, max_depth=50, max_features=sqrt, min_samples_leaf=2, min_samples_split=2, n_estimators=150;, score=0.393 total time=   7.9s\n",
      "[CV 4/5] END bootstrap=True, max_depth=50, max_features=sqrt, min_samples_leaf=2, min_samples_split=2, n_estimators=150;, score=0.390 total time=   8.1s\n",
      "[CV 5/5] END bootstrap=True, max_depth=50, max_features=sqrt, min_samples_leaf=2, min_samples_split=2, n_estimators=150;, score=0.385 total time=   8.0s\n",
      "[CV 1/5] END bootstrap=True, max_depth=50, max_features=sqrt, min_samples_leaf=2, min_samples_split=5, n_estimators=50;, score=0.382 total time=   2.6s\n",
      "[CV 2/5] END bootstrap=True, max_depth=50, max_features=sqrt, min_samples_leaf=2, min_samples_split=5, n_estimators=50;, score=0.386 total time=   2.5s\n",
      "[CV 3/5] END bootstrap=True, max_depth=50, max_features=sqrt, min_samples_leaf=2, min_samples_split=5, n_estimators=50;, score=0.389 total time=   2.5s\n",
      "[CV 4/5] END bootstrap=True, max_depth=50, max_features=sqrt, min_samples_leaf=2, min_samples_split=5, n_estimators=50;, score=0.388 total time=   2.5s\n",
      "[CV 5/5] END bootstrap=True, max_depth=50, max_features=sqrt, min_samples_leaf=2, min_samples_split=5, n_estimators=50;, score=0.388 total time=   2.6s\n",
      "[CV 1/5] END bootstrap=True, max_depth=50, max_features=sqrt, min_samples_leaf=2, min_samples_split=5, n_estimators=100;, score=0.388 total time=   5.0s\n",
      "[CV 2/5] END bootstrap=True, max_depth=50, max_features=sqrt, min_samples_leaf=2, min_samples_split=5, n_estimators=100;, score=0.387 total time=   5.1s\n",
      "[CV 3/5] END bootstrap=True, max_depth=50, max_features=sqrt, min_samples_leaf=2, min_samples_split=5, n_estimators=100;, score=0.388 total time=   5.1s\n",
      "[CV 4/5] END bootstrap=True, max_depth=50, max_features=sqrt, min_samples_leaf=2, min_samples_split=5, n_estimators=100;, score=0.387 total time=   5.4s\n",
      "[CV 5/5] END bootstrap=True, max_depth=50, max_features=sqrt, min_samples_leaf=2, min_samples_split=5, n_estimators=100;, score=0.382 total time=   5.1s\n",
      "[CV 1/5] END bootstrap=True, max_depth=50, max_features=sqrt, min_samples_leaf=2, min_samples_split=5, n_estimators=150;, score=0.386 total time=   7.8s\n",
      "[CV 2/5] END bootstrap=True, max_depth=50, max_features=sqrt, min_samples_leaf=2, min_samples_split=5, n_estimators=150;, score=0.387 total time=   7.8s\n",
      "[CV 3/5] END bootstrap=True, max_depth=50, max_features=sqrt, min_samples_leaf=2, min_samples_split=5, n_estimators=150;, score=0.390 total time=   7.6s\n",
      "[CV 4/5] END bootstrap=True, max_depth=50, max_features=sqrt, min_samples_leaf=2, min_samples_split=5, n_estimators=150;, score=0.387 total time=   7.5s\n",
      "[CV 5/5] END bootstrap=True, max_depth=50, max_features=sqrt, min_samples_leaf=2, min_samples_split=5, n_estimators=150;, score=0.386 total time=   7.5s\n",
      "[CV 1/5] END bootstrap=True, max_depth=50, max_features=log2, min_samples_leaf=1, min_samples_split=2, n_estimators=50;, score=0.388 total time=   3.0s\n",
      "[CV 2/5] END bootstrap=True, max_depth=50, max_features=log2, min_samples_leaf=1, min_samples_split=2, n_estimators=50;, score=0.389 total time=   3.0s\n",
      "[CV 3/5] END bootstrap=True, max_depth=50, max_features=log2, min_samples_leaf=1, min_samples_split=2, n_estimators=50;, score=0.392 total time=   3.0s\n",
      "[CV 4/5] END bootstrap=True, max_depth=50, max_features=log2, min_samples_leaf=1, min_samples_split=2, n_estimators=50;, score=0.389 total time=   3.0s\n",
      "[CV 5/5] END bootstrap=True, max_depth=50, max_features=log2, min_samples_leaf=1, min_samples_split=2, n_estimators=50;, score=0.390 total time=   3.0s\n",
      "[CV 1/5] END bootstrap=True, max_depth=50, max_features=log2, min_samples_leaf=1, min_samples_split=2, n_estimators=100;, score=0.388 total time=   6.1s\n",
      "[CV 2/5] END bootstrap=True, max_depth=50, max_features=log2, min_samples_leaf=1, min_samples_split=2, n_estimators=100;, score=0.390 total time=   6.0s\n",
      "[CV 3/5] END bootstrap=True, max_depth=50, max_features=log2, min_samples_leaf=1, min_samples_split=2, n_estimators=100;, score=0.392 total time=   6.0s\n",
      "[CV 4/5] END bootstrap=True, max_depth=50, max_features=log2, min_samples_leaf=1, min_samples_split=2, n_estimators=100;, score=0.389 total time=   6.0s\n",
      "[CV 5/5] END bootstrap=True, max_depth=50, max_features=log2, min_samples_leaf=1, min_samples_split=2, n_estimators=100;, score=0.390 total time=   6.0s\n",
      "[CV 1/5] END bootstrap=True, max_depth=50, max_features=log2, min_samples_leaf=1, min_samples_split=2, n_estimators=150;, score=0.389 total time=   9.1s\n",
      "[CV 2/5] END bootstrap=True, max_depth=50, max_features=log2, min_samples_leaf=1, min_samples_split=2, n_estimators=150;, score=0.390 total time=   9.0s\n",
      "[CV 3/5] END bootstrap=True, max_depth=50, max_features=log2, min_samples_leaf=1, min_samples_split=2, n_estimators=150;, score=0.389 total time=   9.0s\n",
      "[CV 4/5] END bootstrap=True, max_depth=50, max_features=log2, min_samples_leaf=1, min_samples_split=2, n_estimators=150;, score=0.391 total time=   9.1s\n",
      "[CV 5/5] END bootstrap=True, max_depth=50, max_features=log2, min_samples_leaf=1, min_samples_split=2, n_estimators=150;, score=0.385 total time=   8.8s\n",
      "[CV 1/5] END bootstrap=True, max_depth=50, max_features=log2, min_samples_leaf=1, min_samples_split=5, n_estimators=50;, score=0.384 total time=   2.6s\n",
      "[CV 2/5] END bootstrap=True, max_depth=50, max_features=log2, min_samples_leaf=1, min_samples_split=5, n_estimators=50;, score=0.386 total time=   2.6s\n",
      "[CV 3/5] END bootstrap=True, max_depth=50, max_features=log2, min_samples_leaf=1, min_samples_split=5, n_estimators=50;, score=0.387 total time=   2.6s\n",
      "[CV 4/5] END bootstrap=True, max_depth=50, max_features=log2, min_samples_leaf=1, min_samples_split=5, n_estimators=50;, score=0.388 total time=   2.6s\n",
      "[CV 5/5] END bootstrap=True, max_depth=50, max_features=log2, min_samples_leaf=1, min_samples_split=5, n_estimators=50;, score=0.384 total time=   2.7s\n",
      "[CV 1/5] END bootstrap=True, max_depth=50, max_features=log2, min_samples_leaf=1, min_samples_split=5, n_estimators=100;, score=0.389 total time=   5.4s\n",
      "[CV 2/5] END bootstrap=True, max_depth=50, max_features=log2, min_samples_leaf=1, min_samples_split=5, n_estimators=100;, score=0.389 total time=   6.4s\n",
      "[CV 3/5] END bootstrap=True, max_depth=50, max_features=log2, min_samples_leaf=1, min_samples_split=5, n_estimators=100;, score=0.387 total time=   5.4s\n",
      "[CV 4/5] END bootstrap=True, max_depth=50, max_features=log2, min_samples_leaf=1, min_samples_split=5, n_estimators=100;, score=0.393 total time=   5.1s\n",
      "[CV 5/5] END bootstrap=True, max_depth=50, max_features=log2, min_samples_leaf=1, min_samples_split=5, n_estimators=100;, score=0.384 total time=   5.1s\n",
      "[CV 1/5] END bootstrap=True, max_depth=50, max_features=log2, min_samples_leaf=1, min_samples_split=5, n_estimators=150;, score=0.386 total time=   7.9s\n",
      "[CV 2/5] END bootstrap=True, max_depth=50, max_features=log2, min_samples_leaf=1, min_samples_split=5, n_estimators=150;, score=0.386 total time=   7.8s\n",
      "[CV 3/5] END bootstrap=True, max_depth=50, max_features=log2, min_samples_leaf=1, min_samples_split=5, n_estimators=150;, score=0.389 total time=   7.7s\n",
      "[CV 4/5] END bootstrap=True, max_depth=50, max_features=log2, min_samples_leaf=1, min_samples_split=5, n_estimators=150;, score=0.388 total time=   7.7s\n",
      "[CV 5/5] END bootstrap=True, max_depth=50, max_features=log2, min_samples_leaf=1, min_samples_split=5, n_estimators=150;, score=0.386 total time=   7.7s\n",
      "[CV 1/5] END bootstrap=True, max_depth=50, max_features=log2, min_samples_leaf=2, min_samples_split=2, n_estimators=50;, score=0.387 total time=   2.3s\n",
      "[CV 2/5] END bootstrap=True, max_depth=50, max_features=log2, min_samples_leaf=2, min_samples_split=2, n_estimators=50;, score=0.383 total time=   2.3s\n",
      "[CV 3/5] END bootstrap=True, max_depth=50, max_features=log2, min_samples_leaf=2, min_samples_split=2, n_estimators=50;, score=0.387 total time=   2.3s\n",
      "[CV 4/5] END bootstrap=True, max_depth=50, max_features=log2, min_samples_leaf=2, min_samples_split=2, n_estimators=50;, score=0.384 total time=   2.3s\n",
      "[CV 5/5] END bootstrap=True, max_depth=50, max_features=log2, min_samples_leaf=2, min_samples_split=2, n_estimators=50;, score=0.385 total time=   2.3s\n",
      "[CV 1/5] END bootstrap=True, max_depth=50, max_features=log2, min_samples_leaf=2, min_samples_split=2, n_estimators=100;, score=0.384 total time=   4.5s\n",
      "[CV 2/5] END bootstrap=True, max_depth=50, max_features=log2, min_samples_leaf=2, min_samples_split=2, n_estimators=100;, score=0.383 total time=   4.5s\n",
      "[CV 3/5] END bootstrap=True, max_depth=50, max_features=log2, min_samples_leaf=2, min_samples_split=2, n_estimators=100;, score=0.388 total time=   4.6s\n",
      "[CV 4/5] END bootstrap=True, max_depth=50, max_features=log2, min_samples_leaf=2, min_samples_split=2, n_estimators=100;, score=0.385 total time=   4.5s\n",
      "[CV 5/5] END bootstrap=True, max_depth=50, max_features=log2, min_samples_leaf=2, min_samples_split=2, n_estimators=100;, score=0.382 total time=   4.6s\n",
      "[CV 1/5] END bootstrap=True, max_depth=50, max_features=log2, min_samples_leaf=2, min_samples_split=2, n_estimators=150;, score=0.383 total time=   6.7s\n",
      "[CV 2/5] END bootstrap=True, max_depth=50, max_features=log2, min_samples_leaf=2, min_samples_split=2, n_estimators=150;, score=0.386 total time=   6.7s\n",
      "[CV 3/5] END bootstrap=True, max_depth=50, max_features=log2, min_samples_leaf=2, min_samples_split=2, n_estimators=150;, score=0.389 total time=   6.9s\n",
      "[CV 4/5] END bootstrap=True, max_depth=50, max_features=log2, min_samples_leaf=2, min_samples_split=2, n_estimators=150;, score=0.382 total time=   6.7s\n",
      "[CV 5/5] END bootstrap=True, max_depth=50, max_features=log2, min_samples_leaf=2, min_samples_split=2, n_estimators=150;, score=0.382 total time=   6.8s\n",
      "[CV 1/5] END bootstrap=True, max_depth=50, max_features=log2, min_samples_leaf=2, min_samples_split=5, n_estimators=50;, score=0.383 total time=   2.2s\n",
      "[CV 2/5] END bootstrap=True, max_depth=50, max_features=log2, min_samples_leaf=2, min_samples_split=5, n_estimators=50;, score=0.383 total time=   2.2s\n",
      "[CV 3/5] END bootstrap=True, max_depth=50, max_features=log2, min_samples_leaf=2, min_samples_split=5, n_estimators=50;, score=0.386 total time=   2.2s\n",
      "[CV 4/5] END bootstrap=True, max_depth=50, max_features=log2, min_samples_leaf=2, min_samples_split=5, n_estimators=50;, score=0.387 total time=   2.2s\n",
      "[CV 5/5] END bootstrap=True, max_depth=50, max_features=log2, min_samples_leaf=2, min_samples_split=5, n_estimators=50;, score=0.383 total time=   2.2s\n",
      "[CV 1/5] END bootstrap=True, max_depth=50, max_features=log2, min_samples_leaf=2, min_samples_split=5, n_estimators=100;, score=0.387 total time=   4.4s\n",
      "[CV 2/5] END bootstrap=True, max_depth=50, max_features=log2, min_samples_leaf=2, min_samples_split=5, n_estimators=100;, score=0.384 total time=   4.4s\n",
      "[CV 3/5] END bootstrap=True, max_depth=50, max_features=log2, min_samples_leaf=2, min_samples_split=5, n_estimators=100;, score=0.386 total time=   4.4s\n",
      "[CV 4/5] END bootstrap=True, max_depth=50, max_features=log2, min_samples_leaf=2, min_samples_split=5, n_estimators=100;, score=0.382 total time=   4.5s\n",
      "[CV 5/5] END bootstrap=True, max_depth=50, max_features=log2, min_samples_leaf=2, min_samples_split=5, n_estimators=100;, score=0.381 total time=   4.3s\n",
      "[CV 1/5] END bootstrap=True, max_depth=50, max_features=log2, min_samples_leaf=2, min_samples_split=5, n_estimators=150;, score=0.383 total time=   6.6s\n",
      "[CV 2/5] END bootstrap=True, max_depth=50, max_features=log2, min_samples_leaf=2, min_samples_split=5, n_estimators=150;, score=0.385 total time=   6.6s\n",
      "[CV 3/5] END bootstrap=True, max_depth=50, max_features=log2, min_samples_leaf=2, min_samples_split=5, n_estimators=150;, score=0.387 total time=   6.6s\n",
      "[CV 4/5] END bootstrap=True, max_depth=50, max_features=log2, min_samples_leaf=2, min_samples_split=5, n_estimators=150;, score=0.385 total time=   6.6s\n",
      "[CV 5/5] END bootstrap=True, max_depth=50, max_features=log2, min_samples_leaf=2, min_samples_split=5, n_estimators=150;, score=0.379 total time=   6.7s\n",
      "[CV 1/5] END bootstrap=True, max_depth=100, max_features=sqrt, min_samples_leaf=1, min_samples_split=2, n_estimators=50;, score=0.394 total time=   3.3s\n",
      "[CV 2/5] END bootstrap=True, max_depth=100, max_features=sqrt, min_samples_leaf=1, min_samples_split=2, n_estimators=50;, score=0.390 total time=   3.2s\n",
      "[CV 3/5] END bootstrap=True, max_depth=100, max_features=sqrt, min_samples_leaf=1, min_samples_split=2, n_estimators=50;, score=0.395 total time=   3.3s\n",
      "[CV 4/5] END bootstrap=True, max_depth=100, max_features=sqrt, min_samples_leaf=1, min_samples_split=2, n_estimators=50;, score=0.396 total time=   3.2s\n",
      "[CV 5/5] END bootstrap=True, max_depth=100, max_features=sqrt, min_samples_leaf=1, min_samples_split=2, n_estimators=50;, score=0.385 total time=   3.3s\n",
      "[CV 1/5] END bootstrap=True, max_depth=100, max_features=sqrt, min_samples_leaf=1, min_samples_split=2, n_estimators=100;, score=0.392 total time=   6.5s\n",
      "[CV 2/5] END bootstrap=True, max_depth=100, max_features=sqrt, min_samples_leaf=1, min_samples_split=2, n_estimators=100;, score=0.393 total time=   6.5s\n",
      "[CV 3/5] END bootstrap=True, max_depth=100, max_features=sqrt, min_samples_leaf=1, min_samples_split=2, n_estimators=100;, score=0.392 total time=   6.5s\n",
      "[CV 4/5] END bootstrap=True, max_depth=100, max_features=sqrt, min_samples_leaf=1, min_samples_split=2, n_estimators=100;, score=0.395 total time=   6.6s\n",
      "[CV 5/5] END bootstrap=True, max_depth=100, max_features=sqrt, min_samples_leaf=1, min_samples_split=2, n_estimators=100;, score=0.389 total time=   6.6s\n",
      "[CV 1/5] END bootstrap=True, max_depth=100, max_features=sqrt, min_samples_leaf=1, min_samples_split=2, n_estimators=150;, score=0.397 total time=   9.8s\n",
      "[CV 2/5] END bootstrap=True, max_depth=100, max_features=sqrt, min_samples_leaf=1, min_samples_split=2, n_estimators=150;, score=0.394 total time=   9.7s\n",
      "[CV 3/5] END bootstrap=True, max_depth=100, max_features=sqrt, min_samples_leaf=1, min_samples_split=2, n_estimators=150;, score=0.389 total time=   9.8s\n",
      "[CV 4/5] END bootstrap=True, max_depth=100, max_features=sqrt, min_samples_leaf=1, min_samples_split=2, n_estimators=150;, score=0.391 total time=   9.8s\n",
      "[CV 5/5] END bootstrap=True, max_depth=100, max_features=sqrt, min_samples_leaf=1, min_samples_split=2, n_estimators=150;, score=0.389 total time=   9.7s\n",
      "[CV 1/5] END bootstrap=True, max_depth=100, max_features=sqrt, min_samples_leaf=1, min_samples_split=5, n_estimators=50;, score=0.389 total time=   3.0s\n",
      "[CV 2/5] END bootstrap=True, max_depth=100, max_features=sqrt, min_samples_leaf=1, min_samples_split=5, n_estimators=50;, score=0.389 total time=   2.9s\n",
      "[CV 3/5] END bootstrap=True, max_depth=100, max_features=sqrt, min_samples_leaf=1, min_samples_split=5, n_estimators=50;, score=0.389 total time=   2.9s\n",
      "[CV 4/5] END bootstrap=True, max_depth=100, max_features=sqrt, min_samples_leaf=1, min_samples_split=5, n_estimators=50;, score=0.392 total time=   2.9s\n",
      "[CV 5/5] END bootstrap=True, max_depth=100, max_features=sqrt, min_samples_leaf=1, min_samples_split=5, n_estimators=50;, score=0.386 total time=   2.8s\n",
      "[CV 1/5] END bootstrap=True, max_depth=100, max_features=sqrt, min_samples_leaf=1, min_samples_split=5, n_estimators=100;, score=0.388 total time=   5.8s\n",
      "[CV 2/5] END bootstrap=True, max_depth=100, max_features=sqrt, min_samples_leaf=1, min_samples_split=5, n_estimators=100;, score=0.392 total time=   5.7s\n",
      "[CV 3/5] END bootstrap=True, max_depth=100, max_features=sqrt, min_samples_leaf=1, min_samples_split=5, n_estimators=100;, score=0.393 total time=   5.7s\n",
      "[CV 4/5] END bootstrap=True, max_depth=100, max_features=sqrt, min_samples_leaf=1, min_samples_split=5, n_estimators=100;, score=0.388 total time=   5.8s\n",
      "[CV 5/5] END bootstrap=True, max_depth=100, max_features=sqrt, min_samples_leaf=1, min_samples_split=5, n_estimators=100;, score=0.386 total time=   5.7s\n",
      "[CV 1/5] END bootstrap=True, max_depth=100, max_features=sqrt, min_samples_leaf=1, min_samples_split=5, n_estimators=150;, score=0.384 total time=   8.6s\n",
      "[CV 2/5] END bootstrap=True, max_depth=100, max_features=sqrt, min_samples_leaf=1, min_samples_split=5, n_estimators=150;, score=0.391 total time=   8.6s\n",
      "[CV 3/5] END bootstrap=True, max_depth=100, max_features=sqrt, min_samples_leaf=1, min_samples_split=5, n_estimators=150;, score=0.391 total time=   8.6s\n",
      "[CV 4/5] END bootstrap=True, max_depth=100, max_features=sqrt, min_samples_leaf=1, min_samples_split=5, n_estimators=150;, score=0.390 total time=   8.5s\n",
      "[CV 5/5] END bootstrap=True, max_depth=100, max_features=sqrt, min_samples_leaf=1, min_samples_split=5, n_estimators=150;, score=0.386 total time=   8.6s\n",
      "[CV 1/5] END bootstrap=True, max_depth=100, max_features=sqrt, min_samples_leaf=2, min_samples_split=2, n_estimators=50;, score=0.383 total time=   2.7s\n",
      "[CV 2/5] END bootstrap=True, max_depth=100, max_features=sqrt, min_samples_leaf=2, min_samples_split=2, n_estimators=50;, score=0.388 total time=   2.6s\n",
      "[CV 3/5] END bootstrap=True, max_depth=100, max_features=sqrt, min_samples_leaf=2, min_samples_split=2, n_estimators=50;, score=0.387 total time=   2.6s\n",
      "[CV 4/5] END bootstrap=True, max_depth=100, max_features=sqrt, min_samples_leaf=2, min_samples_split=2, n_estimators=50;, score=0.389 total time=   2.7s\n",
      "[CV 5/5] END bootstrap=True, max_depth=100, max_features=sqrt, min_samples_leaf=2, min_samples_split=2, n_estimators=50;, score=0.384 total time=   2.7s\n",
      "[CV 1/5] END bootstrap=True, max_depth=100, max_features=sqrt, min_samples_leaf=2, min_samples_split=2, n_estimators=100;, score=0.387 total time=   5.3s\n",
      "[CV 2/5] END bootstrap=True, max_depth=100, max_features=sqrt, min_samples_leaf=2, min_samples_split=2, n_estimators=100;, score=0.388 total time=   5.4s\n",
      "[CV 3/5] END bootstrap=True, max_depth=100, max_features=sqrt, min_samples_leaf=2, min_samples_split=2, n_estimators=100;, score=0.389 total time=   5.3s\n",
      "[CV 4/5] END bootstrap=True, max_depth=100, max_features=sqrt, min_samples_leaf=2, min_samples_split=2, n_estimators=100;, score=0.387 total time=   5.3s\n",
      "[CV 5/5] END bootstrap=True, max_depth=100, max_features=sqrt, min_samples_leaf=2, min_samples_split=2, n_estimators=100;, score=0.386 total time=   5.2s\n",
      "[CV 1/5] END bootstrap=True, max_depth=100, max_features=sqrt, min_samples_leaf=2, min_samples_split=2, n_estimators=150;, score=0.389 total time=   7.9s\n",
      "[CV 2/5] END bootstrap=True, max_depth=100, max_features=sqrt, min_samples_leaf=2, min_samples_split=2, n_estimators=150;, score=0.385 total time=   7.9s\n",
      "[CV 3/5] END bootstrap=True, max_depth=100, max_features=sqrt, min_samples_leaf=2, min_samples_split=2, n_estimators=150;, score=0.390 total time=   8.0s\n",
      "[CV 4/5] END bootstrap=True, max_depth=100, max_features=sqrt, min_samples_leaf=2, min_samples_split=2, n_estimators=150;, score=0.391 total time=   7.9s\n",
      "[CV 5/5] END bootstrap=True, max_depth=100, max_features=sqrt, min_samples_leaf=2, min_samples_split=2, n_estimators=150;, score=0.382 total time=   7.8s\n",
      "[CV 1/5] END bootstrap=True, max_depth=100, max_features=sqrt, min_samples_leaf=2, min_samples_split=5, n_estimators=50;, score=0.384 total time=   2.6s\n",
      "[CV 2/5] END bootstrap=True, max_depth=100, max_features=sqrt, min_samples_leaf=2, min_samples_split=5, n_estimators=50;, score=0.386 total time=   2.5s\n",
      "[CV 3/5] END bootstrap=True, max_depth=100, max_features=sqrt, min_samples_leaf=2, min_samples_split=5, n_estimators=50;, score=0.390 total time=   2.6s\n",
      "[CV 4/5] END bootstrap=True, max_depth=100, max_features=sqrt, min_samples_leaf=2, min_samples_split=5, n_estimators=50;, score=0.391 total time=   2.5s\n",
      "[CV 5/5] END bootstrap=True, max_depth=100, max_features=sqrt, min_samples_leaf=2, min_samples_split=5, n_estimators=50;, score=0.383 total time=   2.6s\n",
      "[CV 1/5] END bootstrap=True, max_depth=100, max_features=sqrt, min_samples_leaf=2, min_samples_split=5, n_estimators=100;, score=0.387 total time=   5.1s\n",
      "[CV 2/5] END bootstrap=True, max_depth=100, max_features=sqrt, min_samples_leaf=2, min_samples_split=5, n_estimators=100;, score=0.388 total time=   5.1s\n",
      "[CV 3/5] END bootstrap=True, max_depth=100, max_features=sqrt, min_samples_leaf=2, min_samples_split=5, n_estimators=100;, score=0.390 total time=   5.1s\n",
      "[CV 4/5] END bootstrap=True, max_depth=100, max_features=sqrt, min_samples_leaf=2, min_samples_split=5, n_estimators=100;, score=0.390 total time=   5.0s\n",
      "[CV 5/5] END bootstrap=True, max_depth=100, max_features=sqrt, min_samples_leaf=2, min_samples_split=5, n_estimators=100;, score=0.383 total time=   5.0s\n",
      "[CV 1/5] END bootstrap=True, max_depth=100, max_features=sqrt, min_samples_leaf=2, min_samples_split=5, n_estimators=150;, score=0.387 total time=   7.7s\n",
      "[CV 2/5] END bootstrap=True, max_depth=100, max_features=sqrt, min_samples_leaf=2, min_samples_split=5, n_estimators=150;, score=0.386 total time=   7.5s\n",
      "[CV 3/5] END bootstrap=True, max_depth=100, max_features=sqrt, min_samples_leaf=2, min_samples_split=5, n_estimators=150;, score=0.388 total time=   7.9s\n",
      "[CV 4/5] END bootstrap=True, max_depth=100, max_features=sqrt, min_samples_leaf=2, min_samples_split=5, n_estimators=150;, score=0.391 total time=   8.0s\n",
      "[CV 5/5] END bootstrap=True, max_depth=100, max_features=sqrt, min_samples_leaf=2, min_samples_split=5, n_estimators=150;, score=0.386 total time=   8.3s\n",
      "[CV 1/5] END bootstrap=True, max_depth=100, max_features=log2, min_samples_leaf=1, min_samples_split=2, n_estimators=50;, score=0.388 total time=   3.4s\n",
      "[CV 2/5] END bootstrap=True, max_depth=100, max_features=log2, min_samples_leaf=1, min_samples_split=2, n_estimators=50;, score=0.389 total time=   3.3s\n",
      "[CV 3/5] END bootstrap=True, max_depth=100, max_features=log2, min_samples_leaf=1, min_samples_split=2, n_estimators=50;, score=0.392 total time=   3.4s\n",
      "[CV 4/5] END bootstrap=True, max_depth=100, max_features=log2, min_samples_leaf=1, min_samples_split=2, n_estimators=50;, score=0.395 total time=   3.2s\n",
      "[CV 5/5] END bootstrap=True, max_depth=100, max_features=log2, min_samples_leaf=1, min_samples_split=2, n_estimators=50;, score=0.388 total time=   3.1s\n",
      "[CV 1/5] END bootstrap=True, max_depth=100, max_features=log2, min_samples_leaf=1, min_samples_split=2, n_estimators=100;, score=0.388 total time=   6.2s\n",
      "[CV 2/5] END bootstrap=True, max_depth=100, max_features=log2, min_samples_leaf=1, min_samples_split=2, n_estimators=100;, score=0.391 total time=   6.1s\n",
      "[CV 3/5] END bootstrap=True, max_depth=100, max_features=log2, min_samples_leaf=1, min_samples_split=2, n_estimators=100;, score=0.394 total time=   6.3s\n",
      "[CV 4/5] END bootstrap=True, max_depth=100, max_features=log2, min_samples_leaf=1, min_samples_split=2, n_estimators=100;, score=0.391 total time=   5.9s\n",
      "[CV 5/5] END bootstrap=True, max_depth=100, max_features=log2, min_samples_leaf=1, min_samples_split=2, n_estimators=100;, score=0.386 total time=   5.8s\n",
      "[CV 1/5] END bootstrap=True, max_depth=100, max_features=log2, min_samples_leaf=1, min_samples_split=2, n_estimators=150;, score=0.390 total time=   8.8s\n",
      "[CV 2/5] END bootstrap=True, max_depth=100, max_features=log2, min_samples_leaf=1, min_samples_split=2, n_estimators=150;, score=0.393 total time=   8.8s\n",
      "[CV 3/5] END bootstrap=True, max_depth=100, max_features=log2, min_samples_leaf=1, min_samples_split=2, n_estimators=150;, score=0.392 total time=   8.8s\n",
      "[CV 4/5] END bootstrap=True, max_depth=100, max_features=log2, min_samples_leaf=1, min_samples_split=2, n_estimators=150;, score=0.391 total time=   8.8s\n",
      "[CV 5/5] END bootstrap=True, max_depth=100, max_features=log2, min_samples_leaf=1, min_samples_split=2, n_estimators=150;, score=0.388 total time=   8.7s\n",
      "[CV 1/5] END bootstrap=True, max_depth=100, max_features=log2, min_samples_leaf=1, min_samples_split=5, n_estimators=50;, score=0.386 total time=   2.7s\n",
      "[CV 2/5] END bootstrap=True, max_depth=100, max_features=log2, min_samples_leaf=1, min_samples_split=5, n_estimators=50;, score=0.387 total time=   2.5s\n",
      "[CV 3/5] END bootstrap=True, max_depth=100, max_features=log2, min_samples_leaf=1, min_samples_split=5, n_estimators=50;, score=0.394 total time=   2.6s\n",
      "[CV 4/5] END bootstrap=True, max_depth=100, max_features=log2, min_samples_leaf=1, min_samples_split=5, n_estimators=50;, score=0.389 total time=   2.6s\n",
      "[CV 5/5] END bootstrap=True, max_depth=100, max_features=log2, min_samples_leaf=1, min_samples_split=5, n_estimators=50;, score=0.386 total time=   2.5s\n",
      "[CV 1/5] END bootstrap=True, max_depth=100, max_features=log2, min_samples_leaf=1, min_samples_split=5, n_estimators=100;, score=0.387 total time=   5.0s\n",
      "[CV 2/5] END bootstrap=True, max_depth=100, max_features=log2, min_samples_leaf=1, min_samples_split=5, n_estimators=100;, score=0.389 total time=   5.1s\n",
      "[CV 3/5] END bootstrap=True, max_depth=100, max_features=log2, min_samples_leaf=1, min_samples_split=5, n_estimators=100;, score=0.387 total time=   5.1s\n",
      "[CV 4/5] END bootstrap=True, max_depth=100, max_features=log2, min_samples_leaf=1, min_samples_split=5, n_estimators=100;, score=0.390 total time=   5.1s\n",
      "[CV 5/5] END bootstrap=True, max_depth=100, max_features=log2, min_samples_leaf=1, min_samples_split=5, n_estimators=100;, score=0.386 total time=   5.1s\n",
      "[CV 1/5] END bootstrap=True, max_depth=100, max_features=log2, min_samples_leaf=1, min_samples_split=5, n_estimators=150;, score=0.385 total time=   7.6s\n",
      "[CV 2/5] END bootstrap=True, max_depth=100, max_features=log2, min_samples_leaf=1, min_samples_split=5, n_estimators=150;, score=0.391 total time=   7.7s\n",
      "[CV 3/5] END bootstrap=True, max_depth=100, max_features=log2, min_samples_leaf=1, min_samples_split=5, n_estimators=150;, score=0.390 total time=   7.7s\n",
      "[CV 4/5] END bootstrap=True, max_depth=100, max_features=log2, min_samples_leaf=1, min_samples_split=5, n_estimators=150;, score=0.390 total time=   7.5s\n",
      "[CV 5/5] END bootstrap=True, max_depth=100, max_features=log2, min_samples_leaf=1, min_samples_split=5, n_estimators=150;, score=0.386 total time=   7.6s\n",
      "[CV 1/5] END bootstrap=True, max_depth=100, max_features=log2, min_samples_leaf=2, min_samples_split=2, n_estimators=50;, score=0.386 total time=   2.3s\n",
      "[CV 2/5] END bootstrap=True, max_depth=100, max_features=log2, min_samples_leaf=2, min_samples_split=2, n_estimators=50;, score=0.384 total time=   2.2s\n",
      "[CV 3/5] END bootstrap=True, max_depth=100, max_features=log2, min_samples_leaf=2, min_samples_split=2, n_estimators=50;, score=0.386 total time=   2.3s\n",
      "[CV 4/5] END bootstrap=True, max_depth=100, max_features=log2, min_samples_leaf=2, min_samples_split=2, n_estimators=50;, score=0.384 total time=   2.2s\n",
      "[CV 5/5] END bootstrap=True, max_depth=100, max_features=log2, min_samples_leaf=2, min_samples_split=2, n_estimators=50;, score=0.380 total time=   2.2s\n",
      "[CV 1/5] END bootstrap=True, max_depth=100, max_features=log2, min_samples_leaf=2, min_samples_split=2, n_estimators=100;, score=0.387 total time=   4.5s\n",
      "[CV 2/5] END bootstrap=True, max_depth=100, max_features=log2, min_samples_leaf=2, min_samples_split=2, n_estimators=100;, score=0.386 total time=   4.4s\n",
      "[CV 3/5] END bootstrap=True, max_depth=100, max_features=log2, min_samples_leaf=2, min_samples_split=2, n_estimators=100;, score=0.388 total time=   4.5s\n",
      "[CV 4/5] END bootstrap=True, max_depth=100, max_features=log2, min_samples_leaf=2, min_samples_split=2, n_estimators=100;, score=0.384 total time=   4.5s\n",
      "[CV 5/5] END bootstrap=True, max_depth=100, max_features=log2, min_samples_leaf=2, min_samples_split=2, n_estimators=100;, score=0.382 total time=   4.5s\n",
      "[CV 1/5] END bootstrap=True, max_depth=100, max_features=log2, min_samples_leaf=2, min_samples_split=2, n_estimators=150;, score=0.385 total time=   6.8s\n",
      "[CV 2/5] END bootstrap=True, max_depth=100, max_features=log2, min_samples_leaf=2, min_samples_split=2, n_estimators=150;, score=0.388 total time=   6.6s\n",
      "[CV 3/5] END bootstrap=True, max_depth=100, max_features=log2, min_samples_leaf=2, min_samples_split=2, n_estimators=150;, score=0.384 total time=   6.7s\n",
      "[CV 4/5] END bootstrap=True, max_depth=100, max_features=log2, min_samples_leaf=2, min_samples_split=2, n_estimators=150;, score=0.383 total time=   6.8s\n",
      "[CV 5/5] END bootstrap=True, max_depth=100, max_features=log2, min_samples_leaf=2, min_samples_split=2, n_estimators=150;, score=0.380 total time=   6.6s\n",
      "[CV 1/5] END bootstrap=True, max_depth=100, max_features=log2, min_samples_leaf=2, min_samples_split=5, n_estimators=50;, score=0.385 total time=   2.2s\n",
      "[CV 2/5] END bootstrap=True, max_depth=100, max_features=log2, min_samples_leaf=2, min_samples_split=5, n_estimators=50;, score=0.384 total time=   2.2s\n",
      "[CV 3/5] END bootstrap=True, max_depth=100, max_features=log2, min_samples_leaf=2, min_samples_split=5, n_estimators=50;, score=0.388 total time=   2.2s\n",
      "[CV 4/5] END bootstrap=True, max_depth=100, max_features=log2, min_samples_leaf=2, min_samples_split=5, n_estimators=50;, score=0.385 total time=   2.2s\n",
      "[CV 5/5] END bootstrap=True, max_depth=100, max_features=log2, min_samples_leaf=2, min_samples_split=5, n_estimators=50;, score=0.383 total time=   2.2s\n",
      "[CV 1/5] END bootstrap=True, max_depth=100, max_features=log2, min_samples_leaf=2, min_samples_split=5, n_estimators=100;, score=0.384 total time=   4.4s\n",
      "[CV 2/5] END bootstrap=True, max_depth=100, max_features=log2, min_samples_leaf=2, min_samples_split=5, n_estimators=100;, score=0.385 total time=   4.4s\n",
      "[CV 3/5] END bootstrap=True, max_depth=100, max_features=log2, min_samples_leaf=2, min_samples_split=5, n_estimators=100;, score=0.387 total time=   4.4s\n",
      "[CV 4/5] END bootstrap=True, max_depth=100, max_features=log2, min_samples_leaf=2, min_samples_split=5, n_estimators=100;, score=0.383 total time=   4.3s\n",
      "[CV 5/5] END bootstrap=True, max_depth=100, max_features=log2, min_samples_leaf=2, min_samples_split=5, n_estimators=100;, score=0.378 total time=   4.4s\n",
      "[CV 1/5] END bootstrap=True, max_depth=100, max_features=log2, min_samples_leaf=2, min_samples_split=5, n_estimators=150;, score=0.385 total time=   6.5s\n",
      "[CV 2/5] END bootstrap=True, max_depth=100, max_features=log2, min_samples_leaf=2, min_samples_split=5, n_estimators=150;, score=0.385 total time=   6.6s\n",
      "[CV 3/5] END bootstrap=True, max_depth=100, max_features=log2, min_samples_leaf=2, min_samples_split=5, n_estimators=150;, score=0.386 total time=   6.6s\n",
      "[CV 4/5] END bootstrap=True, max_depth=100, max_features=log2, min_samples_leaf=2, min_samples_split=5, n_estimators=150;, score=0.385 total time=   6.5s\n",
      "[CV 5/5] END bootstrap=True, max_depth=100, max_features=log2, min_samples_leaf=2, min_samples_split=5, n_estimators=150;, score=0.382 total time=   6.6s\n",
      "Best params:  {'bootstrap': True, 'max_depth': 50, 'max_features': 'sqrt', 'min_samples_leaf': 1, 'min_samples_split': 2, 'n_estimators': 50} Best score: 0.3931854257508672\n"
     ]
    }
   ],
   "source": [
    "param_grid = {\n",
    "    'n_estimators': [50, 100, 150],  \n",
    "    'max_depth': [None, 10, 50, 100],\n",
    "    'min_samples_split': [2, 5],  \n",
    "    'min_samples_leaf': [1, 2],  \n",
    "    'max_features': ['sqrt', 'log2'],  \n",
    "    'bootstrap': [True]  \n",
    "}\n",
    "\n",
    "get_best_hyperparams(X_train, y_train, param_grid, RandomForestClassifier())"
   ]
  },
  {
   "cell_type": "code",
   "execution_count": 8,
   "metadata": {},
   "outputs": [
    {
     "name": "stdout",
     "output_type": "stream",
     "text": [
      "f1 macro: 0.39\n"
     ]
    }
   ],
   "source": [
    "random_forest_clf = RandomForestClassifier(bootstrap=True, max_depth=50, max_features='sqrt', min_samples_leaf=1, min_samples_split=2, n_estimators=50)\n",
    "random_forest_clf.fit(X_train[best_features], y_train)\n",
    "# Make predictions on the validation set\n",
    "y_pred = random_forest_clf.predict(X_validation[best_features])\n",
    "# Evaluate the f1_macro of the AdaBoost classifier\n",
    "f1_macro = f1_score(y_validation, y_pred, average='macro')\n",
    "print(f\"f1 macro: {f1_macro:.2f}\")"
   ]
  },
  {
   "cell_type": "markdown",
   "metadata": {},
   "source": [
    "## 2.4 Stacking"
   ]
  },
  {
   "cell_type": "markdown",
   "metadata": {},
   "source": [
    "We tried various combinations for the stacking classifier.\n",
    "\n",
    "To get started, we first took all of the estimators from our fourth notebook."
   ]
  },
  {
   "cell_type": "code",
   "execution_count": 42,
   "metadata": {},
   "outputs": [
    {
     "name": "stdout",
     "output_type": "stream",
     "text": [
      "              precision    recall  f1-score   support\n",
      "\n",
      "         <30       0.47      0.03      0.06      1810\n",
      "         >30       0.50      0.35      0.41      5681\n",
      "          NO       0.60      0.84      0.70      8404\n",
      "\n",
      "    accuracy                           0.57     15895\n",
      "   macro avg       0.52      0.41      0.39     15895\n",
      "weighted avg       0.55      0.57      0.52     15895\n",
      "\n"
     ]
    }
   ],
   "source": [
    "# 6 base learners\n",
    "log_clf = LogisticRegression(C=10.0, class_weight='balanced', penalty='l2')\n",
    "gnb_clf = GaussianNB(var_smoothing=1e-05)\n",
    "bernoulli_clf = BernoulliNB(alpha=0.1, binarize=0.0)\n",
    "knn_clf = KNeighborsClassifier(algorithm='auto', n_neighbors=5, weights='uniform')\n",
    "dt_clf = DecisionTreeClassifier(criterion='gini', max_depth=14)\n",
    "svc_clf = SVC(C=1.0, gamma=0.1, kernel='rbf', max_iter=1000)\n",
    "# build the ensemble\n",
    "stacking_clf = StackingClassifier(\n",
    "estimators=[ ('lr', log_clf),\n",
    "('gaussian', gnb_clf),\n",
    "('bernoulli', bernoulli_clf),\n",
    "('knn', knn_clf),\n",
    "('dt', dt_clf),\n",
    "('svc', svc_clf)],\n",
    "cv=5\n",
    ")\n",
    "\n",
    "# train the ensemble\n",
    "# base learners are cloned, and clones are trained\n",
    "stacking_clf.fit(X_train[best_features], y_train)\n",
    "\n",
    "# Evaluate the ensemble\n",
    "ensemble_pred = stacking_clf.predict(X_validation[best_features])\n",
    "ensemble_f1 = f1_score(y_validation, ensemble_pred, average='macro')  # or 'weighted'\n",
    "print(classification_report(y_validation, ensemble_pred))"
   ]
  },
  {
   "cell_type": "markdown",
   "metadata": {},
   "source": [
    "The f1 macro average for six base learners is 0.39.\n",
    "\n",
    "Secondly, we took the five best estimators from our second notebook."
   ]
  },
  {
   "cell_type": "code",
   "execution_count": 43,
   "metadata": {},
   "outputs": [
    {
     "name": "stdout",
     "output_type": "stream",
     "text": [
      "              precision    recall  f1-score   support\n",
      "\n",
      "         <30       0.48      0.03      0.06      1810\n",
      "         >30       0.50      0.34      0.40      5681\n",
      "          NO       0.60      0.85      0.70      8404\n",
      "\n",
      "    accuracy                           0.57     15895\n",
      "   macro avg       0.53      0.41      0.39     15895\n",
      "weighted avg       0.55      0.57      0.52     15895\n",
      "\n"
     ]
    }
   ],
   "source": [
    "# 5 base learners\n",
    "log_clf = LogisticRegression(C=10.0, class_weight='balanced', penalty='l2')\n",
    "gnb_clf = GaussianNB(var_smoothing=1e-05)\n",
    "bernoulli_clf = BernoulliNB(alpha=0.1, binarize=0.0)\n",
    "knn_clf = KNeighborsClassifier(algorithm='auto', n_neighbors=5, weights='uniform')\n",
    "dt_clf = DecisionTreeClassifier(criterion='gini', max_depth=14)\n",
    "# build the ensemble\n",
    "stacking_clf = StackingClassifier(\n",
    "estimators=[ ('lr', log_clf),\n",
    "('gaussian', gnb_clf),\n",
    "('bernoulli', bernoulli_clf),\n",
    "('knn', knn_clf),\n",
    "('dt', dt_clf)],\n",
    "cv=5\n",
    ")\n",
    "\n",
    "# train the ensemble\n",
    "# base learners are cloned, and clones are trained\n",
    "stacking_clf.fit(X_train[best_features], y_train)\n",
    "\n",
    "# Evaluate the ensemble\n",
    "ensemble_pred = stacking_clf.predict(X_validation[best_features])\n",
    "ensemble_f1 = f1_score(y_validation, ensemble_pred, average='macro')  # or 'weighted'\n",
    "print(classification_report(y_validation, ensemble_pred))"
   ]
  },
  {
   "cell_type": "markdown",
   "metadata": {},
   "source": [
    "The f1 macro average for five base learners is 0.39 and is therefore no worse than for six base learners.\n",
    "\n",
    "Then, we took the four best estimators from our second notebook."
   ]
  },
  {
   "cell_type": "code",
   "execution_count": 44,
   "metadata": {},
   "outputs": [
    {
     "name": "stdout",
     "output_type": "stream",
     "text": [
      "              precision    recall  f1-score   support\n",
      "\n",
      "         <30       0.47      0.03      0.06      1810\n",
      "         >30       0.50      0.34      0.41      5681\n",
      "          NO       0.60      0.85      0.70      8404\n",
      "\n",
      "    accuracy                           0.57     15895\n",
      "   macro avg       0.52      0.41      0.39     15895\n",
      "weighted avg       0.55      0.57      0.52     15895\n",
      "\n"
     ]
    }
   ],
   "source": [
    "# 4 base learners\n",
    "log_clf = LogisticRegression(C=10.0, class_weight='balanced', penalty='l2')\n",
    "gnb_clf = GaussianNB(var_smoothing=1e-05)\n",
    "bernoulli_clf = BernoulliNB(alpha=0.1, binarize=0.0)\n",
    "knn_clf = KNeighborsClassifier(algorithm='auto', n_neighbors=5, weights='uniform')\n",
    "# build the ensemble\n",
    "stacking_clf = StackingClassifier(\n",
    "estimators=[ ('lr', log_clf),\n",
    "('gaussian', gnb_clf),\n",
    "('bernoulli', bernoulli_clf),\n",
    "('knn', knn_clf)],\n",
    "cv=5\n",
    ")\n",
    "\n",
    "# train the ensemble\n",
    "# base learners are cloned, and clones are trained\n",
    "stacking_clf.fit(X_train[best_features], y_train)\n",
    "\n",
    "# Evaluate the ensemble\n",
    "ensemble_pred = stacking_clf.predict(X_validation[best_features])\n",
    "ensemble_f1 = f1_score(y_validation, ensemble_pred, average='macro')  # or 'weighted'\n",
    "print(classification_report(y_validation, ensemble_pred))"
   ]
  },
  {
   "cell_type": "markdown",
   "metadata": {},
   "source": [
    "The f1 macro average for four base learners is 0.39 and is therefore no worse than for five base learners.\n",
    "\n",
    "Then, we took the three best estimators from our second notebook."
   ]
  },
  {
   "cell_type": "code",
   "execution_count": 45,
   "metadata": {},
   "outputs": [
    {
     "name": "stdout",
     "output_type": "stream",
     "text": [
      "              precision    recall  f1-score   support\n",
      "\n",
      "         <30       0.48      0.03      0.06      1810\n",
      "         >30       0.50      0.33      0.40      5681\n",
      "          NO       0.60      0.85      0.70      8404\n",
      "\n",
      "    accuracy                           0.57     15895\n",
      "   macro avg       0.52      0.41      0.39     15895\n",
      "weighted avg       0.55      0.57      0.52     15895\n",
      "\n"
     ]
    }
   ],
   "source": [
    "# 3 base learners\n",
    "log_clf = LogisticRegression(C=10.0, class_weight='balanced', penalty='l2')\n",
    "gnb_clf = GaussianNB(var_smoothing=1e-05)\n",
    "bernoulli_clf = BernoulliNB(alpha=0.1, binarize=0.0)\n",
    "# build the ensemble\n",
    "stacking_clf = StackingClassifier(\n",
    "estimators=[ ('lr', log_clf),\n",
    "('gaussian', gnb_clf),\n",
    "('bernoulli', bernoulli_clf)],\n",
    "cv=5\n",
    ")\n",
    "\n",
    "# train the ensemble\n",
    "# base learners are cloned, and clones are trained\n",
    "stacking_clf.fit(X_train[best_features], y_train)\n",
    "\n",
    "# Evaluate the ensemble\n",
    "ensemble_pred = stacking_clf.predict(X_validation[best_features])\n",
    "ensemble_f1 = f1_score(y_validation, ensemble_pred, average='macro')  # or 'weighted'\n",
    "print(classification_report(y_validation, ensemble_pred))"
   ]
  },
  {
   "cell_type": "markdown",
   "metadata": {},
   "source": [
    "The f1 macro average for three base learners is 0.39 and is therefore no worse than for four base learners."
   ]
  },
  {
   "cell_type": "markdown",
   "metadata": {},
   "source": [
    "# 4. Model selection\n",
    "The experiments in this notebook found that the best performing models, in order, are as follows:\n",
    "\n",
    "1. Voting Classifier with three base learners and hard voting\n",
    "2. \n",
    "3. \n",
    "4. \n",
    "\n",
    "**Takeaways:**\n"
   ]
  }
 ],
 "metadata": {
  "kernelspec": {
   "display_name": "Python 3",
   "language": "python",
   "name": "python3"
  },
  "language_info": {
   "codemirror_mode": {
    "name": "ipython",
    "version": 3
   },
   "file_extension": ".py",
   "mimetype": "text/x-python",
   "name": "python",
   "nbconvert_exporter": "python",
   "pygments_lexer": "ipython3",
   "version": "3.12.7"
  }
 },
 "nbformat": 4,
 "nbformat_minor": 2
}
