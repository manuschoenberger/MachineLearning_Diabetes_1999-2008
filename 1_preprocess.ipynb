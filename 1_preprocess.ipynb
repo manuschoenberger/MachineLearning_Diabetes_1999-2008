{
 "cells": [
  {
   "metadata": {},
   "cell_type": "markdown",
   "source": "# 0. Project introduction",
   "id": "f69b3765-8427-4871-8655-0d29423912b7"
  },
  {
   "cell_type": "markdown",
   "id": "0ff6e9c7",
   "metadata": {},
   "source": [
    "For our Data 5 project, we use the dataset \"Diabetes 130-US Hospitals for Years 1999-2008\" from the UCI Machine Learning Repository. \n",
    "\n",
    "Each record in the dataset is a visit to the hospital by a patient with diabetes. \n",
    "\n",
    "The target/prediction variable is a label that encodes whether a patient was readmitted to the hospital in 30 days, after 30 days, or not at all. \n",
    "\n",
    "### Features description: \n",
    "Patient details, such as age group, race, medications prescribed during the visit, and diagnoses. \n",
    "\n",
    "### Target description: \n",
    "The target variable is 3 classes: `NO`, `<30`, and `>30`, indicating whether and when a patient returned to hospital after they were discharged. \n",
    "- `NO` indicates a patient did not return to hospital after discharge. \n",
    "- `<30` indicates a patient returned within 30 days of being discharged. \n",
    "- `>30` indicates a patient returned more than 30 days after discharge. "
   ]
  },
  {
   "cell_type": "markdown",
   "id": "5cb1d54f",
   "metadata": {},
   "source": [
    "# 1. Load dataset\n",
    "https://archive.ics.uci.edu/dataset/296/diabetes+130-us+hospitals+for+years+1999-2008"
   ]
  },
  {
   "cell_type": "code",
   "execution_count": 2,
   "id": "268e3d48-af92-4b95-878c-71e516503ef3",
   "metadata": {},
   "outputs": [
    {
     "name": "stderr",
     "output_type": "stream",
     "text": [
      "/Users/dora/anaconda3/lib/python3.12/site-packages/ucimlrepo/fetch.py:97: DtypeWarning: Columns (10) have mixed types. Specify dtype option on import or set low_memory=False.\n",
      "  df = pd.read_csv(data_url)\n"
     ]
    }
   ],
   "source": [
    "# fetch dataset \n",
    "diabetes_130_us_hospitals_for_years_1999_2008 = fetch_ucirepo(id=296) \n",
    "  \n",
    "# data (as pandas dataframes) \n",
    "X = diabetes_130_us_hospitals_for_years_1999_2008.data.features \n",
    "y = diabetes_130_us_hospitals_for_years_1999_2008.data.targets "
   ]
  },
  {
   "cell_type": "code",
   "execution_count": 3,
   "id": "045de50b",
   "metadata": {
    "scrolled": true
   },
   "outputs": [
    {
     "name": "stdout",
     "output_type": "stream",
     "text": [
      "readmitted\n",
      "NO            54864\n",
      ">30           35545\n",
      "<30           11357\n",
      "Name: count, dtype: int64\n"
     ]
    },
    {
     "data": {
      "image/png": "[encoded data removed]",
      "text/plain": [
       "<Figure size 1000x600 with 1 Axes>"
      ]
     },
     "metadata": {},
     "output_type": "display_data"
    }
   ],
   "source": [
    "# Inspect target variable\n",
    "print(y.value_counts())\n",
    "\n",
    "plt.figure(figsize=(10, 6))\n",
    "sns.countplot(x='readmitted', data=y)\n",
    "plt.title('Distribution of target labels')\n",
    "plt.xticks(rotation=45)\n",
    "plt.show()"
   ]
  },
  {
   "cell_type": "markdown",
   "id": "4c306244",
   "metadata": {},
   "source": [
    "# 2. Remove records of deceased patients"
   ]
  },
  {
   "cell_type": "markdown",
   "id": "80a2bf9f",
   "metadata": {},
   "source": [
    "We exclude patients who died from our experiments. Information on whether a patient died after the visit is given in the column `discharge_disposition_id`, which indicates the outcome of the hospital visit (e.g., discharged to home, left against medical advice, etc.). \n",
    "\n",
    "We removed records from patients who died during or after the hospital visit because this information \"gives away\" the target variable, i.e., that the patient did not return to the hospital (classification label `NO`).\n",
    "\n",
    "We also removed records with `discharge_disposition_id` 12, indicating 'Still patient or expected to return for outpatient services', because this id would also \"give away\" the target variable. \n",
    "\n",
    "\n",
    "Below we include information on the values of `discharge_disposition_id` that were removed from the dataset.\n",
    "\n",
    "- 11: 'Expired'\n",
    "- 12: 'Still patient or expected to return for outpatient services'\n",
    "- 13: 'Hospice / home'\n",
    "- 14: 'Hospice / medical facility'\n",
    "- 19: 'Expired at home. Medicaid only, hospice'\n",
    "- 20: 'Expired in a medical facility. Medicaid only, hospice'\n",
    "- 21: 'Expired, place unknown. Medicaid only, hospice'"
   ]
  },
  {
   "cell_type": "code",
   "execution_count": 4,
   "id": "3374547d",
   "metadata": {},
   "outputs": [],
   "source": [
    "# Remove records for patients who died\n",
    "\n",
    "excluded_ids = [11, 12, 13, 14, 19, 20, 21]\n",
    "X = X[~X['discharge_disposition_id'].isin(excluded_ids)]"
   ]
  },
  {
   "cell_type": "code",
   "execution_count": 5,
   "id": "782614d6",
   "metadata": {},
   "outputs": [
    {
     "name": "stdout",
     "output_type": "stream",
     "text": [
      "101766\n",
      "99340\n"
     ]
    }
   ],
   "source": [
    "# Remove corresponding target values\n",
    "print(y.shape[0])\n",
    "y = y.iloc[X.index]\n",
    "\n",
    "# Remaining records\n",
    "print(y.shape[0])"
   ]
  },
  {
   "metadata": {},
   "cell_type": "code",
   "outputs": [],
   "execution_count": 1,
   "source": [
    "from sklearn.compose import ColumnTransformer\n",
    "from sklearn.pipeline import Pipeline\n",
    "from sklearn.impute import SimpleImputer\n",
    "from sklearn.preprocessing import StandardScaler, OneHotEncoder\n",
    "from ucimlrepo import fetch_ucirepo \n",
    "import pandas as pd\n",
    "from sklearn.model_selection import train_test_split\n",
    "import matplotlib.pyplot as plt\n",
    "import seaborn as sns\n",
    "RANDOM_STATE=0"
   ],
   "id": "648f1086-74a0-432a-a1eb-6b123a47742b"
  },
  {
   "cell_type": "markdown",
   "id": "080613ac",
   "metadata": {},
   "source": [
    "# 3. Handle missing values"
   ]
  },
  {
   "cell_type": "markdown",
   "id": "403be626",
   "metadata": {},
   "source": [
    "In this section, we explain the different strategies we use to handle missing values by column in our dataset. \n",
    "\n",
    "The columns `race`, `weight`, `payer_code`, `medical_specialty`, `diag1`, `diag2`, and `diag3`, `max_glu_serum`, and `A1Cresult` contain missing values. "
   ]
  },
  {
   "cell_type": "code",
   "execution_count": 6,
   "id": "9f974879-6653-4b4a-a1a6-786f91f155b5",
   "metadata": {
    "scrolled": true
   },
   "outputs": [
    {
     "data": {
      "text/plain": [
       "race                         2234\n",
       "gender                          0\n",
       "age                             0\n",
       "weight                      96215\n",
       "admission_type_id               0\n",
       "discharge_disposition_id        0\n",
       "admission_source_id             0\n",
       "time_in_hospital                0\n",
       "payer_code                  39395\n",
       "medical_specialty           48616\n",
       "num_lab_procedures              0\n",
       "num_procedures                  0\n",
       "num_medications                 0\n",
       "number_outpatient               0\n",
       "number_emergency                0\n",
       "number_inpatient                0\n",
       "diag_1                         20\n",
       "diag_2                        356\n",
       "diag_3                       1419\n",
       "number_diagnoses                0\n",
       "max_glu_serum               94188\n",
       "A1Cresult                   82506\n",
       "metformin                       0\n",
       "repaglinide                     0\n",
       "nateglinide                     0\n",
       "chlorpropamide                  0\n",
       "glimepiride                     0\n",
       "acetohexamide                   0\n",
       "glipizide                       0\n",
       "glyburide                       0\n",
       "tolbutamide                     0\n",
       "pioglitazone                    0\n",
       "rosiglitazone                   0\n",
       "acarbose                        0\n",
       "miglitol                        0\n",
       "troglitazone                    0\n",
       "tolazamide                      0\n",
       "examide                         0\n",
       "citoglipton                     0\n",
       "insulin                         0\n",
       "glyburide-metformin             0\n",
       "glipizide-metformin             0\n",
       "glimepiride-pioglitazone        0\n",
       "metformin-rosiglitazone         0\n",
       "metformin-pioglitazone          0\n",
       "change                          0\n",
       "diabetesMed                     0\n",
       "dtype: int64"
      ]
     },
     "execution_count": 6,
     "metadata": {},
     "output_type": "execute_result"
    }
   ],
   "source": [
    "# Display columns that contain missing values\n",
    "X.isna().sum()"
   ]
  },
  {
   "cell_type": "markdown",
   "id": "db6c3a89",
   "metadata": {},
   "source": [
    "## `race` column - handle missing values"
   ]
  },
  {
   "cell_type": "markdown",
   "id": "d7943ba1",
   "metadata": {},
   "source": [
    "Below we show the values for the `race` column in our dataset."
   ]
  },
  {
   "cell_type": "code",
   "execution_count": 7,
   "id": "8b29e7ed",
   "metadata": {},
   "outputs": [
    {
     "name": "stdout",
     "output_type": "stream",
     "text": [
      "race\n",
      "Caucasian          74217\n",
      "AfricanAmerican    18772\n",
      "NaN                 2234\n",
      "Hispanic            2017\n",
      "Other               1472\n",
      "Asian                628\n",
      "Name: count, dtype: int64\n"
     ]
    },
    {
     "data": {
      "image/png": "[encoded data removed]",
      "text/plain": [
       "<Figure size 1000x600 with 1 Axes>"
      ]
     },
     "metadata": {},
     "output_type": "display_data"
    }
   ],
   "source": [
    "print(X.race.value_counts(dropna=False))\n",
    "\n",
    "plt.figure(figsize=(10, 6))\n",
    "data_to_plot = X.race.fillna(\"NaN\").to_frame()\n",
    "sns.countplot(x='race', data=data_to_plot)\n",
    "plt.title('Distribution of values in column `race`')\n",
    "plt.xticks(rotation=45)\n",
    "plt.show()"
   ]
  },
  {
   "cell_type": "markdown",
   "id": "c62d8b0e-bb15-4aee-be91-c05da61de5a0",
   "metadata": {},
   "source": [
    "There are 2234 missing values for `race` in this dataset. \"Caucasian\" is the most common race category by far, with over 74K records. \n",
    "\n",
    "**Strategy for missing values**: Impute most common value. \n",
    "\n",
    "Because the overwhelming majority of records in this dataset come from Caucasian patients, we assume that records with a missing value for `race` are \"Caucasian\"."
   ]
  },
  {
   "cell_type": "markdown",
   "id": "70684846-8b4d-486f-bc96-79b38d190cf5",
   "metadata": {},
   "source": [
    "## `weight` column - handle missing values"
   ]
  },
  {
   "cell_type": "markdown",
   "id": "f8438d87-2a64-4890-9c70-30f88f6f5e31",
   "metadata": {},
   "source": [
    "Below we show the values for the `weight` column in our dataset, which is a categorical variable."
   ]
  },
  {
   "cell_type": "code",
   "execution_count": 8,
   "id": "13d5b1da-61b8-4e2b-9e68-ebbf32e270d9",
   "metadata": {},
   "outputs": [
    {
     "name": "stdout",
     "output_type": "stream",
     "text": [
      "weight\n",
      "NaN          96215\n",
      "[75-100)      1312\n",
      "[50-75)        867\n",
      "[100-125)      617\n",
      "[125-150)      143\n",
      "[25-50)         90\n",
      "[0-25)          48\n",
      "[150-175)       34\n",
      "[175-200)       11\n",
      ">200             3\n",
      "Name: count, dtype: int64\n"
     ]
    },
    {
     "data": {
      "image/png": "[encoded data removed]",
      "text/plain": [
       "<Figure size 1000x600 with 1 Axes>"
      ]
     },
     "metadata": {},
     "output_type": "display_data"
    }
   ],
   "source": [
    "print(X.weight.value_counts(dropna=False))\n",
    "\n",
    "plt.figure(figsize=(10, 6))\n",
    "data_to_plot = X.weight.fillna(\"NaN\").to_frame()\n",
    "sns.countplot(x='weight', data=data_to_plot)\n",
    "plt.title('Distribution of values in column `weight`')\n",
    "plt.xticks(rotation=45)\n",
    "plt.show()"
   ]
  },
  {
   "cell_type": "markdown",
   "id": "f4265b6d-f322-4202-8c02-53ca3b1db7a7",
   "metadata": {},
   "source": [
    "The overwhelming majority have records (96K) do not have an associated value for \"weight\". We therefore assume this column will have limited predictive value for our multiclass problem. \n",
    "\n",
    "**Strategy for missing values**: Drop column `weight`.\n",
    "\n"
   ]
  },
  {
   "cell_type": "markdown",
   "id": "ef3a1392-ed97-4d7b-b098-967e923bd342",
   "metadata": {},
   "source": [
    "## `payer_code` column - handle missing values"
   ]
  },
  {
   "cell_type": "markdown",
   "id": "a0c9ee00-faa1-4eb7-8cc4-284867206340",
   "metadata": {},
   "source": [
    "Below we show the values for the payer_code column in our dataset, which contains labels that indicate how the patient paid for the hospital visit (Medicare = \"MC\", for example)"
   ]
  },
  {
   "cell_type": "code",
   "execution_count": 9,
   "id": "5a35eb26-6d39-44b8-a3db-b365f1a2b159",
   "metadata": {},
   "outputs": [
    {
     "name": "stdout",
     "output_type": "stream",
     "text": [
      "payer_code\n",
      "NaN    39395\n",
      "MC     31333\n",
      "HM      6195\n",
      "SP      4941\n",
      "BC      4601\n",
      "MD      3473\n",
      "CP      2466\n",
      "UN      2411\n",
      "CM      1880\n",
      "OG      1011\n",
      "PO       585\n",
      "DM       545\n",
      "CH       142\n",
      "WC       135\n",
      "OT        92\n",
      "MP        79\n",
      "SI        55\n",
      "FR         1\n",
      "Name: count, dtype: int64\n"
     ]
    },
    {
     "data": {
      "image/png": "[encoded data removed]",
      "text/plain": [
       "<Figure size 1000x600 with 1 Axes>"
      ]
     },
     "metadata": {},
     "output_type": "display_data"
    }
   ],
   "source": [
    "print(X.payer_code.value_counts(dropna=False))\n",
    "\n",
    "plt.figure(figsize=(10, 6))\n",
    "data_to_plot = X.payer_code.fillna(\"NaN\").to_frame()\n",
    "sns.countplot(x='payer_code', data=data_to_plot)\n",
    "plt.title('Distribution of values in column `payer_code`')\n",
    "plt.xticks(rotation=45)\n",
    "plt.show()"
   ]
  },
  {
   "cell_type": "markdown",
   "id": "43e3daea-edcf-46e9-88a1-d67ec0fe7dbe",
   "metadata": {},
   "source": [
    "We did not find any information on what a missing value for `payer_code` could mean - it may be a clerical error, but also indicate that a patient did not pay for their visit. \n",
    "\n",
    "We assumed `payer_code` might include information about the economic status of the patient, which could have predictive value for whether they were readmitted to hospital. Therefore, we assign missing values for `payer_code` \"None\"\n",
    "\n",
    "**Strategy for missing values** : assign category \"None\"."
   ]
  },
  {
   "cell_type": "markdown",
   "id": "65fb3437-b08e-43df-b928-ed7bc7f0ad46",
   "metadata": {},
   "source": [
    "## `medical_specialty` column - handle missing values"
   ]
  },
  {
   "cell_type": "markdown",
   "id": "d0320693-80f2-4926-aeb1-b89dfe573e2e",
   "metadata": {},
   "source": [
    "Below we show the values for the `medical_specialty` column in our dataset, which indicates the specialty of the treating physician during the hospital visit.\n",
    "We do not include a graph for this section, because the medical_specialty column has 73 unique values. "
   ]
  },
  {
   "cell_type": "code",
   "execution_count": 10,
   "id": "813d99ad-263a-4374-ba8a-eda2fcccff63",
   "metadata": {},
   "outputs": [
    {
     "name": "stdout",
     "output_type": "stream",
     "text": [
      "medical_specialty\n",
      "NaN                                     48616\n",
      "InternalMedicine                        14235\n",
      "Emergency/Trauma                         7419\n",
      "Family/GeneralPractice                   7252\n",
      "Cardiology                               5279\n",
      "Surgery-General                          3059\n",
      "Nephrology                               1539\n",
      "Orthopedics                              1392\n",
      "Orthopedics-Reconstructive               1230\n",
      "Radiologist                              1121\n",
      "Pulmonology                               854\n",
      "Psychiatry                                852\n",
      "Urology                                   682\n",
      "ObstetricsandGynecology                   669\n",
      "Surgery-Cardiovascular/Thoracic           642\n",
      "Gastroenterology                          538\n",
      "Surgery-Vascular                          525\n",
      "Surgery-Neuro                             462\n",
      "PhysicalMedicineandRehabilitation         391\n",
      "Oncology                                  319\n",
      "Pediatrics                                253\n",
      "Neurology                                 201\n",
      "Hematology/Oncology                       187\n",
      "Pediatrics-Endocrinology                  159\n",
      "Otolaryngology                            125\n",
      "Endocrinology                             119\n",
      "Surgery-Thoracic                          108\n",
      "Psychology                                101\n",
      "Podiatry                                  100\n",
      "Surgery-Cardiovascular                     98\n",
      "Pediatrics-CriticalCare                    87\n",
      "Hematology                                 75\n",
      "Gynecology                                 58\n",
      "Hospitalist                                57\n",
      "Radiology                                  53\n",
      "Surgeon                                    45\n",
      "Surgery-Plastic                            40\n",
      "Ophthalmology                              38\n",
      "Osteopath                                  38\n",
      "InfectiousDiseases                         37\n",
      "SurgicalSpecialty                          33\n",
      "Obsterics&Gynecology-GynecologicOnco       25\n",
      "Pediatrics-Pulmonology                     25\n",
      "Obstetrics                                 19\n",
      "Anesthesiology-Pediatric                   19\n",
      "Rheumatology                               17\n",
      "Pathology                                  16\n",
      "OutreachServices                           12\n",
      "Anesthesiology                             12\n",
      "Surgery-Colon&Rectal                       11\n",
      "Pediatrics-Neurology                       10\n",
      "PhysicianNotFound                          10\n",
      "Surgery-Maxillofacial                       9\n",
      "Endocrinology-Metabolism                    8\n",
      "Surgery-Pediatric                           8\n",
      "AllergyandImmunology                        7\n",
      "Cardiology-Pediatric                        7\n",
      "Psychiatry-Child/Adolescent                 7\n",
      "DCPTEAM                                     5\n",
      "Pediatrics-Hematology-Oncology              4\n",
      "Dentistry                                   4\n",
      "Pediatrics-EmergencyMedicine                3\n",
      "Pediatrics-AllergyandImmunology             3\n",
      "Resident                                    2\n",
      "Surgery-PlasticwithinHeadandNeck            1\n",
      "Proctology                                  1\n",
      "Psychiatry-Addictive                        1\n",
      "Dermatology                                 1\n",
      "SportsMedicine                              1\n",
      "Speech                                      1\n",
      "Perinatology                                1\n",
      "Neurophysiology                             1\n",
      "Pediatrics-InfectiousDiseases               1\n",
      "Name: count, dtype: int64\n"
     ]
    }
   ],
   "source": [
    "specialties = X.medical_specialty.value_counts(dropna=False)\n",
    "pd.set_option('display.max_rows', len(specialties))\n",
    "print(specialties)\n",
    "\n",
    "pd.reset_option('display.max_rows')"
   ]
  },
  {
   "cell_type": "markdown",
   "id": "ebd9b633-f14b-4943-a5f8-8e1d78c11fc5",
   "metadata": {},
   "source": [
    "We assume the medical_specialty field for the treating physician may have some predictive value for whether the patient returned to the hospital after being discharged, as the presence of a specific specialty may indicate the severity of the patient's condition when arriving at the hospital.  \n",
    "\n",
    "**Strategy for missing values**: assign category `none`.\n"
   ]
  },
  {
   "cell_type": "markdown",
   "id": "861cfa29-2a43-45ed-b388-7f73bec21b4a",
   "metadata": {},
   "source": [
    "## `diag1`, `diag2`, `diag3` column - handle missing values"
   ]
  },
  {
   "cell_type": "markdown",
   "id": "348eca0e-fcee-4828-8c70-ef4d858bc5d7",
   "metadata": {},
   "source": [
    "The above columns indicate the primary, secondary, and tertiary diagnoses of the patient in a given record. Each value in these columns encodes a specific diagnosis using the first 3 digits of the ICD9 code. \n",
    "\n",
    "`diag_1` has 848 distinct values, `diag_2` has 923 distinct values, and `diag_3` has 954 distinct values.  "
   ]
  },
  {
   "cell_type": "code",
   "execution_count": 11,
   "id": "cfdd5a23-df0f-4279-8326-b38d73cbf853",
   "metadata": {},
   "outputs": [
    {
     "name": "stdout",
     "output_type": "stream",
     "text": [
      "diag_1\n",
      "428    6663\n",
      "414    6550\n",
      "786    4015\n",
      "410    3448\n",
      "486    3383\n",
      "       ... \n",
      "915       1\n",
      "V60       1\n",
      "57        1\n",
      "314       1\n",
      "V51       1\n",
      "Name: count, Length: 715, dtype: int64\n",
      "diag_2\n",
      "276     6589\n",
      "428     6459\n",
      "250     6051\n",
      "427     4892\n",
      "401     3722\n",
      "        ... \n",
      "46         1\n",
      "V13        1\n",
      "E850       1\n",
      "800        1\n",
      "927        1\n",
      "Name: count, Length: 747, dtype: int64\n",
      "diag_3\n",
      "250    11466\n",
      "401     8241\n",
      "276     4953\n",
      "428     4412\n",
      "427     3785\n",
      "       ...  \n",
      "872        1\n",
      "935        1\n",
      "164        1\n",
      "385        1\n",
      "971        1\n",
      "Name: count, Length: 786, dtype: int64\n"
     ]
    }
   ],
   "source": [
    "print(X.diag_1.value_counts())\n",
    "print(X.diag_2.value_counts())\n",
    "print(X.diag_3.value_counts())"
   ]
  },
  {
   "metadata": {
    "ExecuteTime": {
     "end_time": "2024-10-24T09:34:22.338658Z",
     "start_time": "2024-10-24T09:34:21.986231Z"
    }
   },
   "cell_type": "code",
   "source": [
    "print(X.diag_1.value_counts().head(15))\n",
    "print(X.diag_2.value_counts().head(15))\n",
    "print(X.diag_3.value_counts().head(15))"
   ],
   "id": "cb38bdf9a40adee",
   "outputs": [
    {
     "ename": "NameError",
     "evalue": "name 'X' is not defined",
     "output_type": "error",
     "traceback": [
      "\u001B[1;31m---------------------------------------------------------------------------\u001B[0m",
      "\u001B[1;31mNameError\u001B[0m                                 Traceback (most recent call last)",
      "Cell \u001B[1;32mIn[1], line 1\u001B[0m\n\u001B[1;32m----> 1\u001B[0m \u001B[38;5;28mprint\u001B[39m(\u001B[43mX\u001B[49m\u001B[38;5;241m.\u001B[39mdiag_1\u001B[38;5;241m.\u001B[39mvalue_counts()\u001B[38;5;241m.\u001B[39mhead(\u001B[38;5;241m15\u001B[39m))\n\u001B[0;32m      2\u001B[0m \u001B[38;5;28mprint\u001B[39m(X\u001B[38;5;241m.\u001B[39mdiag_2\u001B[38;5;241m.\u001B[39mvalue_counts()\u001B[38;5;241m.\u001B[39mhead(\u001B[38;5;241m15\u001B[39m))\n\u001B[0;32m      3\u001B[0m \u001B[38;5;28mprint\u001B[39m(X\u001B[38;5;241m.\u001B[39mdiag_3\u001B[38;5;241m.\u001B[39mvalue_counts()\u001B[38;5;241m.\u001B[39mhead(\u001B[38;5;241m15\u001B[39m))\n",
      "\u001B[1;31mNameError\u001B[0m: name 'X' is not defined"
     ]
    }
   ],
   "execution_count": 1
  },
  {
   "cell_type": "markdown",
   "id": "906dfcdf-2cde-4738-a5d3-64fe4a71f66b",
   "metadata": {},
   "source": [
    "Because a missing value indicates an absence of a diagnosis, and the list of possible diagnosis in these 3 columns overlap, we one-hot-encode these columns. We treat missing values as the absence of a diagnosis. \n",
    "\n",
    "We do not retain information about which column the diagnosis comes from (i.e. whether the diagnosis was the primary, secondary, or tertiary diagnosis). We throw out this information because retaining the column of origin would significantly increase the number of features in our final preprocessed dataset. \n",
    "\n",
    "**Strategy for missing values** : one hot encode diagnoses - absence of a diagnosis is \"0\", presence \"1\""
   ]
  },
  {
   "cell_type": "markdown",
   "id": "fe00e7df-2a67-4ed2-905c-a44a55cb9f65",
   "metadata": {},
   "source": [
    "## `max_glu_serum` column - handle missing values"
   ]
  },
  {
   "cell_type": "markdown",
   "id": "66928a53-6525-407c-8ba4-c05b15c84cc7",
   "metadata": {},
   "source": [
    "Below we show the values for the `max_glu_serum` column in our dataset, which indicates the result of the glucose serum test, if a patient underwent this test. The possible values are: >200, >300, normal, and none if not measured."
   ]
  },
  {
   "cell_type": "code",
   "execution_count": 12,
   "id": "5dba899c-e5d4-4724-bbf7-5d4e61d98ac1",
   "metadata": {},
   "outputs": [
    {
     "name": "stdout",
     "output_type": "stream",
     "text": [
      "max_glu_serum\n",
      "NaN     94188\n",
      "Norm     2545\n",
      ">200     1419\n",
      ">300     1188\n",
      "Name: count, dtype: int64\n"
     ]
    },
    {
     "data": {
      "image/png": "[encoded data removed]",
      "text/plain": [
       "<Figure size 1000x600 with 1 Axes>"
      ]
     },
     "metadata": {},
     "output_type": "display_data"
    }
   ],
   "source": [
    "print(X.max_glu_serum.value_counts(dropna=False))\n",
    "\n",
    "\n",
    "plt.figure(figsize=(10, 6))\n",
    "data_to_plot = X.max_glu_serum.fillna(\"NaN\").to_frame()\n",
    "sns.countplot(x='max_glu_serum', data=data_to_plot)\n",
    "plt.title('Distribution of values in column `max_glu_serum`')\n",
    "plt.xticks(rotation=45)\n",
    "plt.show()"
   ]
  },
  {
   "cell_type": "markdown",
   "id": "c1df1fe9-2738-48d8-9117-6993b2cbcc0d",
   "metadata": {},
   "source": [
    "We assume the absence of a glucose serum test result may have predictive value for whether the patient returned to the hospital, as no test result may indicate that the condition of the patient at the hospital did not necessitate a test/was not severe. \n",
    "\n",
    "**Strategy for missing values**: assign category `none`."
   ]
  },
  {
   "cell_type": "markdown",
   "id": "ba85cd51-3a25-45cf-a9a0-2812e3293988",
   "metadata": {},
   "source": [
    "## `A1Cresult` column"
   ]
  },
  {
   "cell_type": "markdown",
   "id": "6b3b57b0-cce8-44f3-8ed6-c16f4d100e4a",
   "metadata": {},
   "source": [
    "Below we show the values for the A1Cresult column in our dataset, which indicates the result of the test for average blood glucose levels (HbA1c) in the last 2-3 months."
   ]
  },
  {
   "cell_type": "code",
   "execution_count": 13,
   "id": "11a5fade-bced-4708-8358-ca00228aebda",
   "metadata": {},
   "outputs": [
    {
     "name": "stdout",
     "output_type": "stream",
     "text": [
      "A1Cresult\n",
      "NaN     82506\n",
      ">8       8137\n",
      "Norm     4922\n",
      ">7       3775\n",
      "Name: count, dtype: int64\n"
     ]
    },
    {
     "data": {
      "image/png": "[encoded data removed]",
      "text/plain": [
       "<Figure size 1000x600 with 1 Axes>"
      ]
     },
     "metadata": {},
     "output_type": "display_data"
    }
   ],
   "source": [
    "print(X.A1Cresult.value_counts(dropna=False))\n",
    "\n",
    "\n",
    "plt.figure(figsize=(10, 6))\n",
    "data_to_plot = X.A1Cresult.fillna(\"NaN\").to_frame()\n",
    "sns.countplot(x='A1Cresult', data=data_to_plot)\n",
    "plt.title('Distribution of values in column `A1Cresult`')\n",
    "plt.xticks(rotation=45)\n",
    "plt.show()"
   ]
  },
  {
   "cell_type": "markdown",
   "id": "9a111151-9868-42cc-98fa-b3eb69977d0b",
   "metadata": {},
   "source": [
    "We assume the absence of a HbA1c test may have predictive value for whether the patient returned to the hospital, as no test result may indicate that the condition of the patient at the hospital did not necessitate a test/was not severe.\n",
    "\n",
    "**Strategy for missing values**: assign category `none`."
   ]
  },
  {
   "cell_type": "markdown",
   "id": "d048b2d2-0954-4fd9-91fe-f00449f63806",
   "metadata": {},
   "source": [
    "## Imputing missing values - summary\n",
    "\n",
    "\n",
    "- `race` - impute most common\n",
    "\n",
    "- `weight` - exclude this column - only a minority of patients were weighed\n",
    "\n",
    "- `payer_code` - assign category \"None\"\n",
    "\n",
    "- `medical_speciality` - assign category \"None\"\n",
    "\n",
    "- `diag1`, `diag2`, `diag3` - one hot encode diagnoses - absence of a diagnosis is \"0\", presence \"1\"\n",
    "\n",
    "Some of the values of ICD9 codes in the first, second, and third diagnosis columns overlap. We use one hot encoding to get a column that indicates the presence or absence of a diagnosis. For the purposes of our experiments, we assume the order of diagnosis (whether diagnosis was primary, secondary, or tertiary) doesn't matter.\n",
    "\n",
    "- `max_glu_serum` - assign category \"None\"\n",
    "\n",
    "- `A1Cresult` - assign category \"None\""
   ]
  },
  {
   "cell_type": "markdown",
   "id": "9f69e6d7-904a-4597-b480-5e5090a88eea",
   "metadata": {},
   "source": [
    "# 4. Define preprocessing pipline"
   ]
  },
  {
   "cell_type": "markdown",
   "id": "4c2aa51f-ef55-4d5c-9f4e-bd071fba2cfa",
   "metadata": {},
   "source": [
    "In this section we provide an overview of the columns that need to be transformed into useable data, and how we will transform them.\n",
    "\n",
    "## Columns to exclude:\n",
    "- `weight` - most records do not include a weight measurment.\n",
    "\n",
    "## Columns to convert to ordinal:\n",
    "- `age` - The `age` column is a categorical variable - in this dataset, age is encoded as '[0-10)', '[10-20)', etc. We convert the `age` category values to ordinal values (0 for '[0-10)', 1 for '[10-20)', etc.)\n",
    "\n",
    "## Columns to one-hot-encode: \n",
    "- `admission_type_id` - ID encoding how the patient was admitted to hospital (e.g. referral from primary care provider)\n",
    "- `discharge_disposition_id` - ID encoding how the patient was discharged from the hospital (e.g. sent back home)\n",
    "- `admission_source_id` - ID\n",
    "- `gender` - male or female\n",
    "- `race` - race category (caucasian, African American, etc.)\n",
    "- `diag_1` - ID encoding the primary diagnosis\n",
    "- `diag_2` - ID encoding the secondary diagnosis\n",
    "- `diag_3` - ID encoding the tertiary diagnosis\n",
    "- `medical_specialty` - ID encoding the speciality of the attending physician\n",
    "- `payer_code` - label for the way in which the patient paid for the visit\n",
    "- `max_glu_serum` - blood glucose serum result category\n",
    "- `A1Cresult` - HbAC1 result category\n",
    "\n",
    "## Numerical columns (scaled):\n",
    "- `time_in_hospital` - number of days between admission and discharge\n",
    "- `num_lab_procedures` - number of lab tests during visit\n",
    "- `num_procedures` - number of non lab test procedures during visit\n",
    "- `num_medications` - number of unique medications given during visit\n",
    "- `number_outpatient` - number of outpatient visits the patient had during the year preceding the hospital visit\n",
    "- `number_emergency` - number of emergency visits the patient had during the year preceding the hospital visit\n",
    "- `number_inpatient` - number of inpatient visits the patient had during the year preceding the hospital visit\n",
    "- `number_diagnoses` - number of patient diagnoses\n",
    "\n",
    "## Convert boolean columns to 0/1 values:\n",
    "- `change` - categorical value \"change\" or \"no change\" indicating if there was a change in diabetic medication was changed (dose or generic name).\n",
    "- `diabetesMed` - categorical value \"yes\" or \"no\" indicating if a diabetic medication was prescribed "
   ]
  },
  {
   "cell_type": "code",
   "execution_count": 14,
   "id": "af67d2a5-bd36-402e-816c-11a9b4ca3d57",
   "metadata": {},
   "outputs": [],
   "source": [
    "# Drop weight column - most patients do not have a weight measurement\n",
    "\n",
    "X=X.drop(\"weight\", axis=1)"
   ]
  },
  {
   "cell_type": "code",
   "execution_count": 15,
   "id": "b08c246d-4e74-475e-b2a6-ad02dbd93235",
   "metadata": {},
   "outputs": [
    {
     "name": "stderr",
     "output_type": "stream",
     "text": [
      "/var/folders/jw/qsbcr78n1y1b26tl3v8sxkkc0000gn/T/ipykernel_61768/3665610338.py:15: FutureWarning: Downcasting behavior in `replace` is deprecated and will be removed in a future version. To retain the old behavior, explicitly call `result.infer_objects(copy=False)`. To opt-in to the future behavior, set `pd.set_option('future.no_silent_downcasting', True)`\n",
      "  X.age = X.age.replace(age_mapper)\n"
     ]
    }
   ],
   "source": [
    "# Convert age categories to ordinal values\n",
    "age_mapper = {\n",
    "    '[0-10)': 0,\n",
    "    '[10-20)': 1,\n",
    "    '[20-30)': 2,\n",
    "    '[30-40)': 3,\n",
    "    '[40-50)': 4,\n",
    "    '[50-60)': 5,\n",
    "    '[60-70)': 6,\n",
    "    '[70-80)': 7,\n",
    "    '[80-90)': 8,\n",
    "    '[90-100)': 9\n",
    "}\n",
    "\n",
    "X.age = X.age.replace(age_mapper)\n"
   ]
  },
  {
   "cell_type": "code",
   "execution_count": 16,
   "id": "295f1554-c9e8-47d3-a7db-ba71821cfe3b",
   "metadata": {},
   "outputs": [],
   "source": [
    "# make a transformer to impute the most common value for race\n",
    "most_common_columns=['race']\n",
    "most_frequent_transformer = Pipeline(steps=[\n",
    "    ('imputer', SimpleImputer(strategy='most_frequent')),\n",
    "    ('onehot', OneHotEncoder())])\n"
   ]
  },
  {
   "cell_type": "code",
   "execution_count": 17,
   "id": "8bb6fc30-62ed-498b-9d7c-f2b2092a012b",
   "metadata": {},
   "outputs": [],
   "source": [
    "# make a transformer to create \"none\" category for missing values in following columns\n",
    "fill_missing_columns = ['payer_code', 'medical_specialty', 'max_glu_serum', 'A1Cresult']\n",
    "\n",
    "\n",
    "none_transformer = Pipeline(steps=[\n",
    "    ('imputer', SimpleImputer(strategy='constant', fill_value='none')),\n",
    "    ('onehot', OneHotEncoder(handle_unknown='ignore'))])"
   ]
  },
  {
   "cell_type": "code",
   "execution_count": 18,
   "id": "819aeab0-9e66-4f49-ac8a-9f6ce88d4e95",
   "metadata": {},
   "outputs": [],
   "source": [
    "# make transformer that collects all diagnoses and one hot encodes them\n",
    "diagnosis_columns = ['diag_1', 'diag_2', 'diag_3']\n",
    "def get_feature(input_feature, category): \n",
    "    return str(category)\n",
    "\n",
    "\n",
    "diagnosis_transformer = OneHotEncoder(handle_unknown='ignore',  feature_name_combiner=get_feature)"
   ]
  },
  {
   "cell_type": "code",
   "execution_count": 19,
   "id": "8298207c-1ae3-4388-8d8c-5c62e467fb30",
   "metadata": {},
   "outputs": [],
   "source": [
    "# Define numeric columns that will be scaled\n",
    "numeric_columns = ['time_in_hospital',\n",
    "\"num_lab_procedures\",\n",
    "\"num_procedures\",\n",
    "\"num_medications\",\n",
    "'number_outpatient',\n",
    "'number_emergency',\n",
    "'number_inpatient',\n",
    "'number_diagnoses']"
   ]
  },
  {
   "cell_type": "code",
   "execution_count": 20,
   "id": "2ea56724-d536-435e-8634-34bdfda802dc",
   "metadata": {},
   "outputs": [],
   "source": [
    "# Define categorical columns that will be one-hot-encoded\n",
    "ohe_columns_rest=[\n",
    "'admission_type_id',\n",
    "'discharge_disposition_id',\n",
    "'admission_source_id',\n",
    "'gender',\n",
    "'race'\n",
    "]"
   ]
  },
  {
   "cell_type": "code",
   "execution_count": 21,
   "id": "adedd3cb-d33e-4591-880e-34108f8f42d8",
   "metadata": {},
   "outputs": [],
   "source": [
    "# Combine the processing pipelines into one transformer\n",
    "preprocessor = ColumnTransformer(\n",
    "    transformers = [\n",
    "        ('most_frequent', most_frequent_transformer, most_common_columns), # one hot encodes\n",
    "        ('none', none_transformer, fill_missing_columns), # one hot encodes\n",
    "        ('ohe', OneHotEncoder(handle_unknown='ignore'), ohe_columns_rest), # one hot encodes\n",
    "        ('diagnoses', diagnosis_transformer, diagnosis_columns), #one hot encodes - special\n",
    "        ('numerical_values', StandardScaler(), numeric_columns)\n",
    "    ]\n",
    ")"
   ]
  },
  {
   "cell_type": "markdown",
   "id": "2b173269",
   "metadata": {},
   "source": [
    "# 5. Split the data into a train (60%), validation (20%) and test set (20%)"
   ]
  },
  {
   "cell_type": "markdown",
   "id": "be3f1d39-b994-4948-81d8-f834a7706e5b",
   "metadata": {},
   "source": [
    "In this section, we split the records into training, validation, and test sets. \n",
    "- Training set - we use this set to train models.\n",
    "- Validation set - we use this set to evaluate and select the best model during our experiments.\n",
    "- Test set - we only use this set at the end of our experiments, after model selection, to evaluate the performance of our selected model on unseen data."
   ]
  },
  {
   "cell_type": "code",
   "execution_count": 22,
   "id": "aa013a42-2a50-41f8-8f1e-1956ba1e1303",
   "metadata": {},
   "outputs": [],
   "source": [
    "X_train, X_test, y_train, y_test = train_test_split(X, y, test_size=0.2, stratify=y, random_state=RANDOM_STATE)\n",
    "X_train, X_val, y_train, y_val = train_test_split(X_train, y_train, test_size=0.2, stratify=y_train, random_state=RANDOM_STATE)"
   ]
  },
  {
   "cell_type": "markdown",
   "id": "01a87cc4",
   "metadata": {},
   "source": [
    "# 6. Apply preprocessing pipeline"
   ]
  },
  {
   "cell_type": "markdown",
   "id": "77e07f75-537c-4a53-83a3-baf0628e26d1",
   "metadata": {},
   "source": [
    "In this section, we apply the preprocessing pipeline we created in section 4 to the datasets created in section 5. "
   ]
  },
  {
   "cell_type": "markdown",
   "id": "b99f5cbe",
   "metadata": {},
   "source": [
    "## Train set"
   ]
  },
  {
   "cell_type": "markdown",
   "id": "ef718fd2-01f9-43fa-bcbd-51bc988dce50",
   "metadata": {},
   "source": [
    "We fit the column transformer on the training set only. The column transformer then transforms the training data into useable form."
   ]
  },
  {
   "cell_type": "code",
   "execution_count": 23,
   "id": "15c383da",
   "metadata": {},
   "outputs": [
    {
     "data": {
      "text/html": [
       "<div>\n",
       "<style scoped>\n",
       "    .dataframe tbody tr th:only-of-type {\n",
       "        vertical-align: middle;\n",
       "    }\n",
       "\n",
       "    .dataframe tbody tr th {\n",
       "        vertical-align: top;\n",
       "    }\n",
       "\n",
       "    .dataframe thead th {\n",
       "        text-align: right;\n",
       "    }\n",
       "</style>\n",
       "<table border=\"1\" class=\"dataframe\">\n",
       "  <thead>\n",
       "    <tr style=\"text-align: right;\">\n",
       "      <th></th>\n",
       "      <th>most_frequent__race_AfricanAmerican</th>\n",
       "      <th>most_frequent__race_Asian</th>\n",
       "      <th>most_frequent__race_Caucasian</th>\n",
       "      <th>most_frequent__race_Hispanic</th>\n",
       "      <th>most_frequent__race_Other</th>\n",
       "      <th>none__payer_code_BC</th>\n",
       "      <th>none__payer_code_CH</th>\n",
       "      <th>none__payer_code_CM</th>\n",
       "      <th>none__payer_code_CP</th>\n",
       "      <th>none__payer_code_DM</th>\n",
       "      <th>...</th>\n",
       "      <th>diagnoses__V86</th>\n",
       "      <th>diagnoses__nan</th>\n",
       "      <th>numerical_values__time_in_hospital</th>\n",
       "      <th>numerical_values__num_lab_procedures</th>\n",
       "      <th>numerical_values__num_procedures</th>\n",
       "      <th>numerical_values__num_medications</th>\n",
       "      <th>numerical_values__number_outpatient</th>\n",
       "      <th>numerical_values__number_emergency</th>\n",
       "      <th>numerical_values__number_inpatient</th>\n",
       "      <th>numerical_values__number_diagnoses</th>\n",
       "    </tr>\n",
       "  </thead>\n",
       "  <tbody>\n",
       "    <tr>\n",
       "      <th>0</th>\n",
       "      <td>0.0</td>\n",
       "      <td>0.0</td>\n",
       "      <td>1.0</td>\n",
       "      <td>0.0</td>\n",
       "      <td>0.0</td>\n",
       "      <td>0.0</td>\n",
       "      <td>0.0</td>\n",
       "      <td>0.0</td>\n",
       "      <td>0.0</td>\n",
       "      <td>0.0</td>\n",
       "      <td>...</td>\n",
       "      <td>0.0</td>\n",
       "      <td>0.0</td>\n",
       "      <td>-0.800245</td>\n",
       "      <td>-0.250665</td>\n",
       "      <td>1.573791</td>\n",
       "      <td>-0.614414</td>\n",
       "      <td>-0.295480</td>\n",
       "      <td>-0.204066</td>\n",
       "      <td>-0.504822</td>\n",
       "      <td>0.823550</td>\n",
       "    </tr>\n",
       "    <tr>\n",
       "      <th>1</th>\n",
       "      <td>0.0</td>\n",
       "      <td>0.0</td>\n",
       "      <td>1.0</td>\n",
       "      <td>0.0</td>\n",
       "      <td>0.0</td>\n",
       "      <td>0.0</td>\n",
       "      <td>0.0</td>\n",
       "      <td>0.0</td>\n",
       "      <td>0.0</td>\n",
       "      <td>0.0</td>\n",
       "      <td>...</td>\n",
       "      <td>0.0</td>\n",
       "      <td>0.0</td>\n",
       "      <td>0.884843</td>\n",
       "      <td>1.178358</td>\n",
       "      <td>-0.781626</td>\n",
       "      <td>0.506926</td>\n",
       "      <td>-0.295480</td>\n",
       "      <td>-0.204066</td>\n",
       "      <td>1.906044</td>\n",
       "      <td>0.823550</td>\n",
       "    </tr>\n",
       "    <tr>\n",
       "      <th>2</th>\n",
       "      <td>0.0</td>\n",
       "      <td>0.0</td>\n",
       "      <td>1.0</td>\n",
       "      <td>0.0</td>\n",
       "      <td>0.0</td>\n",
       "      <td>0.0</td>\n",
       "      <td>0.0</td>\n",
       "      <td>1.0</td>\n",
       "      <td>0.0</td>\n",
       "      <td>0.0</td>\n",
       "      <td>...</td>\n",
       "      <td>0.0</td>\n",
       "      <td>0.0</td>\n",
       "      <td>1.558878</td>\n",
       "      <td>0.974212</td>\n",
       "      <td>0.984937</td>\n",
       "      <td>-0.988194</td>\n",
       "      <td>-0.295480</td>\n",
       "      <td>-0.204066</td>\n",
       "      <td>-0.504822</td>\n",
       "      <td>0.823550</td>\n",
       "    </tr>\n",
       "    <tr>\n",
       "      <th>3</th>\n",
       "      <td>0.0</td>\n",
       "      <td>0.0</td>\n",
       "      <td>1.0</td>\n",
       "      <td>0.0</td>\n",
       "      <td>0.0</td>\n",
       "      <td>0.0</td>\n",
       "      <td>0.0</td>\n",
       "      <td>0.0</td>\n",
       "      <td>0.0</td>\n",
       "      <td>0.0</td>\n",
       "      <td>...</td>\n",
       "      <td>0.0</td>\n",
       "      <td>0.0</td>\n",
       "      <td>-0.463228</td>\n",
       "      <td>-1.526577</td>\n",
       "      <td>0.396083</td>\n",
       "      <td>1.379079</td>\n",
       "      <td>-0.295480</td>\n",
       "      <td>-0.204066</td>\n",
       "      <td>-0.504822</td>\n",
       "      <td>0.823550</td>\n",
       "    </tr>\n",
       "    <tr>\n",
       "      <th>4</th>\n",
       "      <td>0.0</td>\n",
       "      <td>0.0</td>\n",
       "      <td>1.0</td>\n",
       "      <td>0.0</td>\n",
       "      <td>0.0</td>\n",
       "      <td>0.0</td>\n",
       "      <td>0.0</td>\n",
       "      <td>0.0</td>\n",
       "      <td>0.0</td>\n",
       "      <td>0.0</td>\n",
       "      <td>...</td>\n",
       "      <td>0.0</td>\n",
       "      <td>0.0</td>\n",
       "      <td>-1.137263</td>\n",
       "      <td>-0.301701</td>\n",
       "      <td>-0.781626</td>\n",
       "      <td>-1.112788</td>\n",
       "      <td>0.513414</td>\n",
       "      <td>-0.204066</td>\n",
       "      <td>-0.504822</td>\n",
       "      <td>-1.237903</td>\n",
       "    </tr>\n",
       "    <tr>\n",
       "      <th>...</th>\n",
       "      <td>...</td>\n",
       "      <td>...</td>\n",
       "      <td>...</td>\n",
       "      <td>...</td>\n",
       "      <td>...</td>\n",
       "      <td>...</td>\n",
       "      <td>...</td>\n",
       "      <td>...</td>\n",
       "      <td>...</td>\n",
       "      <td>...</td>\n",
       "      <td>...</td>\n",
       "      <td>...</td>\n",
       "      <td>...</td>\n",
       "      <td>...</td>\n",
       "      <td>...</td>\n",
       "      <td>...</td>\n",
       "      <td>...</td>\n",
       "      <td>...</td>\n",
       "      <td>...</td>\n",
       "      <td>...</td>\n",
       "      <td>...</td>\n",
       "    </tr>\n",
       "    <tr>\n",
       "      <th>63572</th>\n",
       "      <td>1.0</td>\n",
       "      <td>0.0</td>\n",
       "      <td>0.0</td>\n",
       "      <td>0.0</td>\n",
       "      <td>0.0</td>\n",
       "      <td>0.0</td>\n",
       "      <td>0.0</td>\n",
       "      <td>0.0</td>\n",
       "      <td>0.0</td>\n",
       "      <td>0.0</td>\n",
       "      <td>...</td>\n",
       "      <td>0.0</td>\n",
       "      <td>0.0</td>\n",
       "      <td>2.232914</td>\n",
       "      <td>0.157627</td>\n",
       "      <td>-0.781626</td>\n",
       "      <td>-0.365228</td>\n",
       "      <td>-0.295480</td>\n",
       "      <td>-0.204066</td>\n",
       "      <td>-0.504822</td>\n",
       "      <td>-1.237903</td>\n",
       "    </tr>\n",
       "    <tr>\n",
       "      <th>63573</th>\n",
       "      <td>0.0</td>\n",
       "      <td>0.0</td>\n",
       "      <td>1.0</td>\n",
       "      <td>0.0</td>\n",
       "      <td>0.0</td>\n",
       "      <td>0.0</td>\n",
       "      <td>0.0</td>\n",
       "      <td>0.0</td>\n",
       "      <td>0.0</td>\n",
       "      <td>0.0</td>\n",
       "      <td>...</td>\n",
       "      <td>0.0</td>\n",
       "      <td>0.0</td>\n",
       "      <td>-0.463228</td>\n",
       "      <td>-0.403774</td>\n",
       "      <td>-0.781626</td>\n",
       "      <td>-0.489821</td>\n",
       "      <td>-0.295480</td>\n",
       "      <td>-0.204066</td>\n",
       "      <td>-0.504822</td>\n",
       "      <td>-0.207176</td>\n",
       "    </tr>\n",
       "    <tr>\n",
       "      <th>63574</th>\n",
       "      <td>0.0</td>\n",
       "      <td>0.0</td>\n",
       "      <td>0.0</td>\n",
       "      <td>0.0</td>\n",
       "      <td>1.0</td>\n",
       "      <td>0.0</td>\n",
       "      <td>0.0</td>\n",
       "      <td>0.0</td>\n",
       "      <td>0.0</td>\n",
       "      <td>0.0</td>\n",
       "      <td>...</td>\n",
       "      <td>0.0</td>\n",
       "      <td>0.0</td>\n",
       "      <td>2.569931</td>\n",
       "      <td>1.535613</td>\n",
       "      <td>0.984937</td>\n",
       "      <td>1.628266</td>\n",
       "      <td>-0.295480</td>\n",
       "      <td>-0.204066</td>\n",
       "      <td>-0.504822</td>\n",
       "      <td>0.823550</td>\n",
       "    </tr>\n",
       "    <tr>\n",
       "      <th>63575</th>\n",
       "      <td>0.0</td>\n",
       "      <td>0.0</td>\n",
       "      <td>1.0</td>\n",
       "      <td>0.0</td>\n",
       "      <td>0.0</td>\n",
       "      <td>0.0</td>\n",
       "      <td>0.0</td>\n",
       "      <td>0.0</td>\n",
       "      <td>0.0</td>\n",
       "      <td>0.0</td>\n",
       "      <td>...</td>\n",
       "      <td>0.0</td>\n",
       "      <td>0.0</td>\n",
       "      <td>-0.800245</td>\n",
       "      <td>1.331467</td>\n",
       "      <td>-0.781626</td>\n",
       "      <td>-0.116041</td>\n",
       "      <td>-0.295480</td>\n",
       "      <td>-0.204066</td>\n",
       "      <td>-0.504822</td>\n",
       "      <td>-0.722540</td>\n",
       "    </tr>\n",
       "    <tr>\n",
       "      <th>63576</th>\n",
       "      <td>1.0</td>\n",
       "      <td>0.0</td>\n",
       "      <td>0.0</td>\n",
       "      <td>0.0</td>\n",
       "      <td>0.0</td>\n",
       "      <td>0.0</td>\n",
       "      <td>0.0</td>\n",
       "      <td>0.0</td>\n",
       "      <td>0.0</td>\n",
       "      <td>0.0</td>\n",
       "      <td>...</td>\n",
       "      <td>0.0</td>\n",
       "      <td>0.0</td>\n",
       "      <td>0.547825</td>\n",
       "      <td>-0.761030</td>\n",
       "      <td>-0.781626</td>\n",
       "      <td>0.008552</td>\n",
       "      <td>-0.295480</td>\n",
       "      <td>0.824058</td>\n",
       "      <td>1.102422</td>\n",
       "      <td>0.823550</td>\n",
       "    </tr>\n",
       "  </tbody>\n",
       "</table>\n",
       "<p>63577 rows × 2262 columns</p>\n",
       "</div>"
      ],
      "text/plain": [
       "       most_frequent__race_AfricanAmerican  most_frequent__race_Asian  \\\n",
       "0                                      0.0                        0.0   \n",
       "1                                      0.0                        0.0   \n",
       "2                                      0.0                        0.0   \n",
       "3                                      0.0                        0.0   \n",
       "4                                      0.0                        0.0   \n",
       "...                                    ...                        ...   \n",
       "63572                                  1.0                        0.0   \n",
       "63573                                  0.0                        0.0   \n",
       "63574                                  0.0                        0.0   \n",
       "63575                                  0.0                        0.0   \n",
       "63576                                  1.0                        0.0   \n",
       "\n",
       "       most_frequent__race_Caucasian  most_frequent__race_Hispanic  \\\n",
       "0                                1.0                           0.0   \n",
       "1                                1.0                           0.0   \n",
       "2                                1.0                           0.0   \n",
       "3                                1.0                           0.0   \n",
       "4                                1.0                           0.0   \n",
       "...                              ...                           ...   \n",
       "63572                            0.0                           0.0   \n",
       "63573                            1.0                           0.0   \n",
       "63574                            0.0                           0.0   \n",
       "63575                            1.0                           0.0   \n",
       "63576                            0.0                           0.0   \n",
       "\n",
       "       most_frequent__race_Other  none__payer_code_BC  none__payer_code_CH  \\\n",
       "0                            0.0                  0.0                  0.0   \n",
       "1                            0.0                  0.0                  0.0   \n",
       "2                            0.0                  0.0                  0.0   \n",
       "3                            0.0                  0.0                  0.0   \n",
       "4                            0.0                  0.0                  0.0   \n",
       "...                          ...                  ...                  ...   \n",
       "63572                        0.0                  0.0                  0.0   \n",
       "63573                        0.0                  0.0                  0.0   \n",
       "63574                        1.0                  0.0                  0.0   \n",
       "63575                        0.0                  0.0                  0.0   \n",
       "63576                        0.0                  0.0                  0.0   \n",
       "\n",
       "       none__payer_code_CM  none__payer_code_CP  none__payer_code_DM  ...  \\\n",
       "0                      0.0                  0.0                  0.0  ...   \n",
       "1                      0.0                  0.0                  0.0  ...   \n",
       "2                      1.0                  0.0                  0.0  ...   \n",
       "3                      0.0                  0.0                  0.0  ...   \n",
       "4                      0.0                  0.0                  0.0  ...   \n",
       "...                    ...                  ...                  ...  ...   \n",
       "63572                  0.0                  0.0                  0.0  ...   \n",
       "63573                  0.0                  0.0                  0.0  ...   \n",
       "63574                  0.0                  0.0                  0.0  ...   \n",
       "63575                  0.0                  0.0                  0.0  ...   \n",
       "63576                  0.0                  0.0                  0.0  ...   \n",
       "\n",
       "       diagnoses__V86  diagnoses__nan  numerical_values__time_in_hospital  \\\n",
       "0                 0.0             0.0                           -0.800245   \n",
       "1                 0.0             0.0                            0.884843   \n",
       "2                 0.0             0.0                            1.558878   \n",
       "3                 0.0             0.0                           -0.463228   \n",
       "4                 0.0             0.0                           -1.137263   \n",
       "...               ...             ...                                 ...   \n",
       "63572             0.0             0.0                            2.232914   \n",
       "63573             0.0             0.0                           -0.463228   \n",
       "63574             0.0             0.0                            2.569931   \n",
       "63575             0.0             0.0                           -0.800245   \n",
       "63576             0.0             0.0                            0.547825   \n",
       "\n",
       "       numerical_values__num_lab_procedures  numerical_values__num_procedures  \\\n",
       "0                                 -0.250665                          1.573791   \n",
       "1                                  1.178358                         -0.781626   \n",
       "2                                  0.974212                          0.984937   \n",
       "3                                 -1.526577                          0.396083   \n",
       "4                                 -0.301701                         -0.781626   \n",
       "...                                     ...                               ...   \n",
       "63572                              0.157627                         -0.781626   \n",
       "63573                             -0.403774                         -0.781626   \n",
       "63574                              1.535613                          0.984937   \n",
       "63575                              1.331467                         -0.781626   \n",
       "63576                             -0.761030                         -0.781626   \n",
       "\n",
       "       numerical_values__num_medications  numerical_values__number_outpatient  \\\n",
       "0                              -0.614414                            -0.295480   \n",
       "1                               0.506926                            -0.295480   \n",
       "2                              -0.988194                            -0.295480   \n",
       "3                               1.379079                            -0.295480   \n",
       "4                              -1.112788                             0.513414   \n",
       "...                                  ...                                  ...   \n",
       "63572                          -0.365228                            -0.295480   \n",
       "63573                          -0.489821                            -0.295480   \n",
       "63574                           1.628266                            -0.295480   \n",
       "63575                          -0.116041                            -0.295480   \n",
       "63576                           0.008552                            -0.295480   \n",
       "\n",
       "       numerical_values__number_emergency  numerical_values__number_inpatient  \\\n",
       "0                               -0.204066                           -0.504822   \n",
       "1                               -0.204066                            1.906044   \n",
       "2                               -0.204066                           -0.504822   \n",
       "3                               -0.204066                           -0.504822   \n",
       "4                               -0.204066                           -0.504822   \n",
       "...                                   ...                                 ...   \n",
       "63572                           -0.204066                           -0.504822   \n",
       "63573                           -0.204066                           -0.504822   \n",
       "63574                           -0.204066                           -0.504822   \n",
       "63575                           -0.204066                           -0.504822   \n",
       "63576                            0.824058                            1.102422   \n",
       "\n",
       "       numerical_values__number_diagnoses  \n",
       "0                                0.823550  \n",
       "1                                0.823550  \n",
       "2                                0.823550  \n",
       "3                                0.823550  \n",
       "4                               -1.237903  \n",
       "...                                   ...  \n",
       "63572                           -1.237903  \n",
       "63573                           -0.207176  \n",
       "63574                            0.823550  \n",
       "63575                           -0.722540  \n",
       "63576                            0.823550  \n",
       "\n",
       "[63577 rows x 2262 columns]"
      ]
     },
     "execution_count": 23,
     "metadata": {},
     "output_type": "execute_result"
    }
   ],
   "source": [
    "X_train_preprocessed = preprocessor.fit_transform(X_train)\n",
    "X_train_preprocessed = pd.DataFrame(X_train_preprocessed.todense(), columns=preprocessor.get_feature_names_out())\n",
    "X_train_preprocessed"
   ]
  },
  {
   "cell_type": "markdown",
   "id": "e41ff977",
   "metadata": {},
   "source": [
    "## Validation set"
   ]
  },
  {
   "cell_type": "markdown",
   "id": "0b6643b0-59d2-41b7-b230-e4282ca3dadb",
   "metadata": {},
   "source": [
    "We transform the validation data with the fitted column transformer. The column transformer is not fitted on validation data. "
   ]
  },
  {
   "cell_type": "code",
   "execution_count": 24,
   "id": "1ddf8db9",
   "metadata": {},
   "outputs": [
    {
     "data": {
      "text/html": [
       "<div>\n",
       "<style scoped>\n",
       "    .dataframe tbody tr th:only-of-type {\n",
       "        vertical-align: middle;\n",
       "    }\n",
       "\n",
       "    .dataframe tbody tr th {\n",
       "        vertical-align: top;\n",
       "    }\n",
       "\n",
       "    .dataframe thead th {\n",
       "        text-align: right;\n",
       "    }\n",
       "</style>\n",
       "<table border=\"1\" class=\"dataframe\">\n",
       "  <thead>\n",
       "    <tr style=\"text-align: right;\">\n",
       "      <th></th>\n",
       "      <th>most_frequent__race_AfricanAmerican</th>\n",
       "      <th>most_frequent__race_Asian</th>\n",
       "      <th>most_frequent__race_Caucasian</th>\n",
       "      <th>most_frequent__race_Hispanic</th>\n",
       "      <th>most_frequent__race_Other</th>\n",
       "      <th>none__payer_code_BC</th>\n",
       "      <th>none__payer_code_CH</th>\n",
       "      <th>none__payer_code_CM</th>\n",
       "      <th>none__payer_code_CP</th>\n",
       "      <th>none__payer_code_DM</th>\n",
       "      <th>...</th>\n",
       "      <th>diagnoses__V86</th>\n",
       "      <th>diagnoses__nan</th>\n",
       "      <th>numerical_values__time_in_hospital</th>\n",
       "      <th>numerical_values__num_lab_procedures</th>\n",
       "      <th>numerical_values__num_procedures</th>\n",
       "      <th>numerical_values__num_medications</th>\n",
       "      <th>numerical_values__number_outpatient</th>\n",
       "      <th>numerical_values__number_emergency</th>\n",
       "      <th>numerical_values__number_inpatient</th>\n",
       "      <th>numerical_values__number_diagnoses</th>\n",
       "    </tr>\n",
       "  </thead>\n",
       "  <tbody>\n",
       "    <tr>\n",
       "      <th>0</th>\n",
       "      <td>0.0</td>\n",
       "      <td>0.0</td>\n",
       "      <td>1.0</td>\n",
       "      <td>0.0</td>\n",
       "      <td>0.0</td>\n",
       "      <td>0.0</td>\n",
       "      <td>0.0</td>\n",
       "      <td>0.0</td>\n",
       "      <td>0.0</td>\n",
       "      <td>0.0</td>\n",
       "      <td>...</td>\n",
       "      <td>0.0</td>\n",
       "      <td>0.0</td>\n",
       "      <td>-0.463228</td>\n",
       "      <td>-0.505847</td>\n",
       "      <td>-0.781626</td>\n",
       "      <td>-0.988194</td>\n",
       "      <td>-0.295480</td>\n",
       "      <td>-0.204066</td>\n",
       "      <td>-0.504822</td>\n",
       "      <td>0.823550</td>\n",
       "    </tr>\n",
       "    <tr>\n",
       "      <th>1</th>\n",
       "      <td>0.0</td>\n",
       "      <td>0.0</td>\n",
       "      <td>1.0</td>\n",
       "      <td>0.0</td>\n",
       "      <td>0.0</td>\n",
       "      <td>0.0</td>\n",
       "      <td>0.0</td>\n",
       "      <td>0.0</td>\n",
       "      <td>0.0</td>\n",
       "      <td>0.0</td>\n",
       "      <td>...</td>\n",
       "      <td>0.0</td>\n",
       "      <td>0.0</td>\n",
       "      <td>-0.463228</td>\n",
       "      <td>0.004518</td>\n",
       "      <td>-0.781626</td>\n",
       "      <td>-0.863601</td>\n",
       "      <td>-0.295480</td>\n",
       "      <td>-0.204066</td>\n",
       "      <td>0.298800</td>\n",
       "      <td>-0.722540</td>\n",
       "    </tr>\n",
       "    <tr>\n",
       "      <th>2</th>\n",
       "      <td>0.0</td>\n",
       "      <td>0.0</td>\n",
       "      <td>0.0</td>\n",
       "      <td>1.0</td>\n",
       "      <td>0.0</td>\n",
       "      <td>1.0</td>\n",
       "      <td>0.0</td>\n",
       "      <td>0.0</td>\n",
       "      <td>0.0</td>\n",
       "      <td>0.0</td>\n",
       "      <td>...</td>\n",
       "      <td>0.0</td>\n",
       "      <td>0.0</td>\n",
       "      <td>-1.137263</td>\n",
       "      <td>-0.505847</td>\n",
       "      <td>-0.781626</td>\n",
       "      <td>-1.860348</td>\n",
       "      <td>2.131202</td>\n",
       "      <td>0.824058</td>\n",
       "      <td>-0.504822</td>\n",
       "      <td>-0.722540</td>\n",
       "    </tr>\n",
       "    <tr>\n",
       "      <th>3</th>\n",
       "      <td>0.0</td>\n",
       "      <td>0.0</td>\n",
       "      <td>1.0</td>\n",
       "      <td>0.0</td>\n",
       "      <td>0.0</td>\n",
       "      <td>0.0</td>\n",
       "      <td>0.0</td>\n",
       "      <td>0.0</td>\n",
       "      <td>0.0</td>\n",
       "      <td>0.0</td>\n",
       "      <td>...</td>\n",
       "      <td>0.0</td>\n",
       "      <td>0.0</td>\n",
       "      <td>-1.137263</td>\n",
       "      <td>-1.679687</td>\n",
       "      <td>-0.781626</td>\n",
       "      <td>-0.240634</td>\n",
       "      <td>-0.295480</td>\n",
       "      <td>-0.204066</td>\n",
       "      <td>-0.504822</td>\n",
       "      <td>-0.722540</td>\n",
       "    </tr>\n",
       "    <tr>\n",
       "      <th>4</th>\n",
       "      <td>0.0</td>\n",
       "      <td>0.0</td>\n",
       "      <td>1.0</td>\n",
       "      <td>0.0</td>\n",
       "      <td>0.0</td>\n",
       "      <td>0.0</td>\n",
       "      <td>0.0</td>\n",
       "      <td>0.0</td>\n",
       "      <td>0.0</td>\n",
       "      <td>0.0</td>\n",
       "      <td>...</td>\n",
       "      <td>0.0</td>\n",
       "      <td>0.0</td>\n",
       "      <td>-0.463228</td>\n",
       "      <td>0.412810</td>\n",
       "      <td>-0.781626</td>\n",
       "      <td>-0.240634</td>\n",
       "      <td>-0.295480</td>\n",
       "      <td>-0.204066</td>\n",
       "      <td>2.709666</td>\n",
       "      <td>-1.237903</td>\n",
       "    </tr>\n",
       "    <tr>\n",
       "      <th>...</th>\n",
       "      <td>...</td>\n",
       "      <td>...</td>\n",
       "      <td>...</td>\n",
       "      <td>...</td>\n",
       "      <td>...</td>\n",
       "      <td>...</td>\n",
       "      <td>...</td>\n",
       "      <td>...</td>\n",
       "      <td>...</td>\n",
       "      <td>...</td>\n",
       "      <td>...</td>\n",
       "      <td>...</td>\n",
       "      <td>...</td>\n",
       "      <td>...</td>\n",
       "      <td>...</td>\n",
       "      <td>...</td>\n",
       "      <td>...</td>\n",
       "      <td>...</td>\n",
       "      <td>...</td>\n",
       "      <td>...</td>\n",
       "      <td>...</td>\n",
       "    </tr>\n",
       "    <tr>\n",
       "      <th>15890</th>\n",
       "      <td>0.0</td>\n",
       "      <td>0.0</td>\n",
       "      <td>1.0</td>\n",
       "      <td>0.0</td>\n",
       "      <td>0.0</td>\n",
       "      <td>0.0</td>\n",
       "      <td>0.0</td>\n",
       "      <td>0.0</td>\n",
       "      <td>0.0</td>\n",
       "      <td>0.0</td>\n",
       "      <td>...</td>\n",
       "      <td>0.0</td>\n",
       "      <td>0.0</td>\n",
       "      <td>-0.463228</td>\n",
       "      <td>-0.148592</td>\n",
       "      <td>0.396083</td>\n",
       "      <td>0.382332</td>\n",
       "      <td>-0.295480</td>\n",
       "      <td>-0.204066</td>\n",
       "      <td>-0.504822</td>\n",
       "      <td>-2.268630</td>\n",
       "    </tr>\n",
       "    <tr>\n",
       "      <th>15891</th>\n",
       "      <td>0.0</td>\n",
       "      <td>0.0</td>\n",
       "      <td>1.0</td>\n",
       "      <td>0.0</td>\n",
       "      <td>0.0</td>\n",
       "      <td>0.0</td>\n",
       "      <td>0.0</td>\n",
       "      <td>0.0</td>\n",
       "      <td>0.0</td>\n",
       "      <td>0.0</td>\n",
       "      <td>...</td>\n",
       "      <td>0.0</td>\n",
       "      <td>0.0</td>\n",
       "      <td>-0.463228</td>\n",
       "      <td>1.280431</td>\n",
       "      <td>-0.192771</td>\n",
       "      <td>-0.365228</td>\n",
       "      <td>-0.295480</td>\n",
       "      <td>-0.204066</td>\n",
       "      <td>1.102422</td>\n",
       "      <td>0.823550</td>\n",
       "    </tr>\n",
       "    <tr>\n",
       "      <th>15892</th>\n",
       "      <td>0.0</td>\n",
       "      <td>0.0</td>\n",
       "      <td>1.0</td>\n",
       "      <td>0.0</td>\n",
       "      <td>0.0</td>\n",
       "      <td>0.0</td>\n",
       "      <td>0.0</td>\n",
       "      <td>0.0</td>\n",
       "      <td>0.0</td>\n",
       "      <td>0.0</td>\n",
       "      <td>...</td>\n",
       "      <td>0.0</td>\n",
       "      <td>0.0</td>\n",
       "      <td>-0.126210</td>\n",
       "      <td>-0.097555</td>\n",
       "      <td>-0.781626</td>\n",
       "      <td>-1.361975</td>\n",
       "      <td>-0.295480</td>\n",
       "      <td>-0.204066</td>\n",
       "      <td>-0.504822</td>\n",
       "      <td>-1.753267</td>\n",
       "    </tr>\n",
       "    <tr>\n",
       "      <th>15893</th>\n",
       "      <td>0.0</td>\n",
       "      <td>0.0</td>\n",
       "      <td>1.0</td>\n",
       "      <td>0.0</td>\n",
       "      <td>0.0</td>\n",
       "      <td>0.0</td>\n",
       "      <td>0.0</td>\n",
       "      <td>1.0</td>\n",
       "      <td>0.0</td>\n",
       "      <td>0.0</td>\n",
       "      <td>...</td>\n",
       "      <td>0.0</td>\n",
       "      <td>0.0</td>\n",
       "      <td>-0.463228</td>\n",
       "      <td>-0.709993</td>\n",
       "      <td>0.396083</td>\n",
       "      <td>-0.489821</td>\n",
       "      <td>-0.295480</td>\n",
       "      <td>-0.204066</td>\n",
       "      <td>-0.504822</td>\n",
       "      <td>-1.237903</td>\n",
       "    </tr>\n",
       "    <tr>\n",
       "      <th>15894</th>\n",
       "      <td>0.0</td>\n",
       "      <td>0.0</td>\n",
       "      <td>1.0</td>\n",
       "      <td>0.0</td>\n",
       "      <td>0.0</td>\n",
       "      <td>0.0</td>\n",
       "      <td>0.0</td>\n",
       "      <td>0.0</td>\n",
       "      <td>0.0</td>\n",
       "      <td>0.0</td>\n",
       "      <td>...</td>\n",
       "      <td>0.0</td>\n",
       "      <td>0.0</td>\n",
       "      <td>-0.463228</td>\n",
       "      <td>-1.730723</td>\n",
       "      <td>-0.781626</td>\n",
       "      <td>-1.112788</td>\n",
       "      <td>-0.295480</td>\n",
       "      <td>-0.204066</td>\n",
       "      <td>-0.504822</td>\n",
       "      <td>0.823550</td>\n",
       "    </tr>\n",
       "  </tbody>\n",
       "</table>\n",
       "<p>15895 rows × 2262 columns</p>\n",
       "</div>"
      ],
      "text/plain": [
       "       most_frequent__race_AfricanAmerican  most_frequent__race_Asian  \\\n",
       "0                                      0.0                        0.0   \n",
       "1                                      0.0                        0.0   \n",
       "2                                      0.0                        0.0   \n",
       "3                                      0.0                        0.0   \n",
       "4                                      0.0                        0.0   \n",
       "...                                    ...                        ...   \n",
       "15890                                  0.0                        0.0   \n",
       "15891                                  0.0                        0.0   \n",
       "15892                                  0.0                        0.0   \n",
       "15893                                  0.0                        0.0   \n",
       "15894                                  0.0                        0.0   \n",
       "\n",
       "       most_frequent__race_Caucasian  most_frequent__race_Hispanic  \\\n",
       "0                                1.0                           0.0   \n",
       "1                                1.0                           0.0   \n",
       "2                                0.0                           1.0   \n",
       "3                                1.0                           0.0   \n",
       "4                                1.0                           0.0   \n",
       "...                              ...                           ...   \n",
       "15890                            1.0                           0.0   \n",
       "15891                            1.0                           0.0   \n",
       "15892                            1.0                           0.0   \n",
       "15893                            1.0                           0.0   \n",
       "15894                            1.0                           0.0   \n",
       "\n",
       "       most_frequent__race_Other  none__payer_code_BC  none__payer_code_CH  \\\n",
       "0                            0.0                  0.0                  0.0   \n",
       "1                            0.0                  0.0                  0.0   \n",
       "2                            0.0                  1.0                  0.0   \n",
       "3                            0.0                  0.0                  0.0   \n",
       "4                            0.0                  0.0                  0.0   \n",
       "...                          ...                  ...                  ...   \n",
       "15890                        0.0                  0.0                  0.0   \n",
       "15891                        0.0                  0.0                  0.0   \n",
       "15892                        0.0                  0.0                  0.0   \n",
       "15893                        0.0                  0.0                  0.0   \n",
       "15894                        0.0                  0.0                  0.0   \n",
       "\n",
       "       none__payer_code_CM  none__payer_code_CP  none__payer_code_DM  ...  \\\n",
       "0                      0.0                  0.0                  0.0  ...   \n",
       "1                      0.0                  0.0                  0.0  ...   \n",
       "2                      0.0                  0.0                  0.0  ...   \n",
       "3                      0.0                  0.0                  0.0  ...   \n",
       "4                      0.0                  0.0                  0.0  ...   \n",
       "...                    ...                  ...                  ...  ...   \n",
       "15890                  0.0                  0.0                  0.0  ...   \n",
       "15891                  0.0                  0.0                  0.0  ...   \n",
       "15892                  0.0                  0.0                  0.0  ...   \n",
       "15893                  1.0                  0.0                  0.0  ...   \n",
       "15894                  0.0                  0.0                  0.0  ...   \n",
       "\n",
       "       diagnoses__V86  diagnoses__nan  numerical_values__time_in_hospital  \\\n",
       "0                 0.0             0.0                           -0.463228   \n",
       "1                 0.0             0.0                           -0.463228   \n",
       "2                 0.0             0.0                           -1.137263   \n",
       "3                 0.0             0.0                           -1.137263   \n",
       "4                 0.0             0.0                           -0.463228   \n",
       "...               ...             ...                                 ...   \n",
       "15890             0.0             0.0                           -0.463228   \n",
       "15891             0.0             0.0                           -0.463228   \n",
       "15892             0.0             0.0                           -0.126210   \n",
       "15893             0.0             0.0                           -0.463228   \n",
       "15894             0.0             0.0                           -0.463228   \n",
       "\n",
       "       numerical_values__num_lab_procedures  numerical_values__num_procedures  \\\n",
       "0                                 -0.505847                         -0.781626   \n",
       "1                                  0.004518                         -0.781626   \n",
       "2                                 -0.505847                         -0.781626   \n",
       "3                                 -1.679687                         -0.781626   \n",
       "4                                  0.412810                         -0.781626   \n",
       "...                                     ...                               ...   \n",
       "15890                             -0.148592                          0.396083   \n",
       "15891                              1.280431                         -0.192771   \n",
       "15892                             -0.097555                         -0.781626   \n",
       "15893                             -0.709993                          0.396083   \n",
       "15894                             -1.730723                         -0.781626   \n",
       "\n",
       "       numerical_values__num_medications  numerical_values__number_outpatient  \\\n",
       "0                              -0.988194                            -0.295480   \n",
       "1                              -0.863601                            -0.295480   \n",
       "2                              -1.860348                             2.131202   \n",
       "3                              -0.240634                            -0.295480   \n",
       "4                              -0.240634                            -0.295480   \n",
       "...                                  ...                                  ...   \n",
       "15890                           0.382332                            -0.295480   \n",
       "15891                          -0.365228                            -0.295480   \n",
       "15892                          -1.361975                            -0.295480   \n",
       "15893                          -0.489821                            -0.295480   \n",
       "15894                          -1.112788                            -0.295480   \n",
       "\n",
       "       numerical_values__number_emergency  numerical_values__number_inpatient  \\\n",
       "0                               -0.204066                           -0.504822   \n",
       "1                               -0.204066                            0.298800   \n",
       "2                                0.824058                           -0.504822   \n",
       "3                               -0.204066                           -0.504822   \n",
       "4                               -0.204066                            2.709666   \n",
       "...                                   ...                                 ...   \n",
       "15890                           -0.204066                           -0.504822   \n",
       "15891                           -0.204066                            1.102422   \n",
       "15892                           -0.204066                           -0.504822   \n",
       "15893                           -0.204066                           -0.504822   \n",
       "15894                           -0.204066                           -0.504822   \n",
       "\n",
       "       numerical_values__number_diagnoses  \n",
       "0                                0.823550  \n",
       "1                               -0.722540  \n",
       "2                               -0.722540  \n",
       "3                               -0.722540  \n",
       "4                               -1.237903  \n",
       "...                                   ...  \n",
       "15890                           -2.268630  \n",
       "15891                            0.823550  \n",
       "15892                           -1.753267  \n",
       "15893                           -1.237903  \n",
       "15894                            0.823550  \n",
       "\n",
       "[15895 rows x 2262 columns]"
      ]
     },
     "execution_count": 24,
     "metadata": {},
     "output_type": "execute_result"
    }
   ],
   "source": [
    "X_val_preprocessed = preprocessor.transform(X_val)\n",
    "X_val_preprocessed = pd.DataFrame(X_val_preprocessed.todense(), columns=preprocessor.get_feature_names_out())\n",
    "X_val_preprocessed"
   ]
  },
  {
   "cell_type": "markdown",
   "id": "97be8c26",
   "metadata": {},
   "source": [
    "## Test set"
   ]
  },
  {
   "cell_type": "markdown",
   "id": "a59b7201-8e2e-41fc-8efd-45cf187356ad",
   "metadata": {},
   "source": [
    "We transform the test data with the fitted column transformer. The column transformer is not fitted on test data. "
   ]
  },
  {
   "cell_type": "code",
   "execution_count": 25,
   "id": "ad58fde5-060e-496b-a2d2-e2a2226cb803",
   "metadata": {},
   "outputs": [],
   "source": [
    "X_test_preprocessed = preprocessor.transform(X_test)\n",
    "X_test_preprocessed= pd.DataFrame(X_test_preprocessed.todense(), columns=preprocessor.get_feature_names_out())"
   ]
  },
  {
   "cell_type": "markdown",
   "id": "dca9801b",
   "metadata": {},
   "source": [
    "# 7. Verify that the train and test sets have no missing values"
   ]
  },
  {
   "cell_type": "markdown",
   "id": "bdc28bdb-fd7e-48ef-a45c-bc00aa09ed12",
   "metadata": {},
   "source": [
    "In this section we get the total number of NaN values per dataset. The datasets should no longer contain NaN values. "
   ]
  },
  {
   "cell_type": "code",
   "execution_count": 26,
   "id": "74613cda",
   "metadata": {},
   "outputs": [
    {
     "name": "stdout",
     "output_type": "stream",
     "text": [
      "Number of missing values:\n",
      "Train set: 0\n",
      "Validation set: 0\n",
      "Test set: 0\n"
     ]
    }
   ],
   "source": [
    "print(\"Number of missing values:\")\n",
    "print(\"Train set:\",X_train_preprocessed.isna().sum().sum())\n",
    "print(\"Validation set:\",X_val_preprocessed.isna().sum().sum())\n",
    "print(\"Test set:\",X_test_preprocessed.isna().sum().sum())"
   ]
  },
  {
   "cell_type": "markdown",
   "id": "ce1f899b",
   "metadata": {},
   "source": [
    "# 8. Save as CSV files"
   ]
  },
  {
   "cell_type": "markdown",
   "id": "6fa5d242-19ad-441c-bd03-b4ad5b0a633d",
   "metadata": {},
   "source": [
    "Lastly, we save our datasets to they can be used in the following notebooks. We also save a small subsample of the training data with a representative distribution of target labels. We use the subsample of training data to decrease model training times. "
   ]
  },
  {
   "cell_type": "markdown",
   "id": "2ba5387c",
   "metadata": {},
   "source": [
    "## Train set"
   ]
  },
  {
   "cell_type": "code",
   "execution_count": 27,
   "id": "4c599369",
   "metadata": {},
   "outputs": [],
   "source": [
    "train_set = pd.concat([X_train_preprocessed, y_train.reset_index()], axis=1)\n",
    "train_set.to_csv( \"train_set.csv\", index=False)"
   ]
  },
  {
   "cell_type": "markdown",
   "id": "6a0db0a9",
   "metadata": {},
   "source": [
    "## Small sub-sample of the train set"
   ]
  },
  {
   "cell_type": "markdown",
   "id": "bb856408-8575-4bb4-aad9-d8e87ee88bfe",
   "metadata": {},
   "source": [
    "We save a small sample of the training set to decrease model training time. We also use this dataset to select the optimal number of features used in training."
   ]
  },
  {
   "cell_type": "code",
   "execution_count": 28,
   "id": "3faf1931",
   "metadata": {},
   "outputs": [
    {
     "name": "stdout",
     "output_type": "stream",
     "text": [
      "(6357, 2265)\n"
     ]
    }
   ],
   "source": [
    "X_train_smaller, _, y_train_smaller, _ = train_test_split(\n",
    "    X_train_preprocessed, \n",
    "    y_train, \n",
    "    train_size=0.1, \n",
    "    stratify=y_train, \n",
    "    random_state=RANDOM_STATE)\n",
    "\n",
    "train_set_smaller = pd.concat([X_train_smaller.reset_index(), y_train_smaller.reset_index()], axis=1)\n",
    "print(train_set_smaller.shape)\n",
    "train_set_smaller.to_csv( \"train_set_small.csv\", index=False)"
   ]
  },
  {
   "cell_type": "markdown",
   "id": "fb986afe",
   "metadata": {},
   "source": [
    "## Validation set"
   ]
  },
  {
   "cell_type": "code",
   "execution_count": 29,
   "id": "7676f459",
   "metadata": {},
   "outputs": [],
   "source": [
    "validation_set =  pd.concat([X_val_preprocessed, y_val.reset_index()], axis=1)\n",
    "validation_set.to_csv( \"validation_set.csv\",index=False )"
   ]
  },
  {
   "cell_type": "markdown",
   "id": "6f83b79c",
   "metadata": {},
   "source": [
    "## Test set"
   ]
  },
  {
   "cell_type": "code",
   "execution_count": 30,
   "id": "15687483",
   "metadata": {},
   "outputs": [],
   "source": [
    "test_set = pd.concat([X_test_preprocessed, y_test.reset_index()], axis=1)\n",
    "test_set.to_csv(\"test_set.csv\", index=False)"
   ]
  }
 ],
 "metadata": {
  "kernelspec": {
   "display_name": "Python 3 (ipykernel)",
   "language": "python",
   "name": "python3"
  },
  "language_info": {
   "codemirror_mode": {
    "name": "ipython",
    "version": 3
   },
   "file_extension": ".py",
   "mimetype": "text/x-python",
   "name": "python",
   "nbconvert_exporter": "python",
   "pygments_lexer": "ipython3",
   "version": "3.12.4"
  }
 },
 "nbformat": 4,
 "nbformat_minor": 5
}
